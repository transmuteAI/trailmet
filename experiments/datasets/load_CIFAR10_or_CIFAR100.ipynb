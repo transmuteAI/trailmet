{
 "cells": [
  {
   "cell_type": "markdown",
   "metadata": {},
   "source": [
    "### Description\n",
    "This notebook describes how to load CIFAR10 or CIFAR100 datasets using the trailmet framework."
   ]
  },
  {
   "cell_type": "markdown",
   "metadata": {},
   "source": [
    "#### Installation of trailmet\n",
    "Note that if the source code version of trailmet is used, then the path to the root directory needs to be added to the system path. "
   ]
  },
  {
   "cell_type": "code",
   "execution_count": 1,
   "metadata": {},
   "outputs": [],
   "source": [
    "# adding trailmet to the system path\n",
    "import sys\n",
    "sys.path.append(\"/Users/deepak.gupta/eff-dl/trailmet/\")"
   ]
  },
  {
   "cell_type": "code",
   "execution_count": 2,
   "metadata": {},
   "outputs": [],
   "source": [
    "# load the required packages\n",
    "import torch\n",
    "import matplotlib.pyplot as plt\n",
    "from torchvision import transforms\n",
    "from trailmet.datasets.classification import DatasetFactory"
   ]
  },
  {
   "cell_type": "markdown",
   "metadata": {},
   "source": [
    "#### Specify the root data directory\n",
    "This directory will be used to download (and process if needed) the required data. Any folders related to train/test etc. will be created at this path. Please adapt this path based on your system's address."
   ]
  },
  {
   "cell_type": "code",
   "execution_count": 3,
   "metadata": {},
   "outputs": [],
   "source": [
    "root_dir = \"/Users/deepak.gupta/eff-dl/data_dir\""
   ]
  },
  {
   "cell_type": "markdown",
   "metadata": {},
   "source": [
    "#### Loading CIFAR10 Dataset"
   ]
  },
  {
   "cell_type": "markdown",
   "metadata": {},
   "source": [
    "##### Specify the transforms to be applied on the inputs and labels of the train, val and test splits\n",
    "All the transforms to be applied on the different splits of the data can be specified using transforms function from the torchvision library."
   ]
  },
  {
   "cell_type": "code",
   "execution_count": 4,
   "metadata": {},
   "outputs": [],
   "source": [
    "train_transform = transforms.Compose(\n",
    "[transforms.ToTensor()])\n",
    "\n",
    "val_transform = transforms.Compose(\n",
    "[transforms.ToTensor()])\n",
    "\n",
    "test_transform = transforms.Compose(\n",
    "[transforms.ToTensor()])\n",
    "\n",
    "input_transforms = {\n",
    "    'train': train_transform, \n",
    "    'val': val_transform, \n",
    "    'test': test_transform}\n",
    "\n",
    "target_transforms = {\n",
    "    'train': None, \n",
    "    'val': None, \n",
    "    'test': None}"
   ]
  },
  {
   "cell_type": "markdown",
   "metadata": {},
   "source": [
    "##### Creating the CIFAR10 dataset with the specified control parameters\n",
    " - val_fraction defines the fraction of the training data from the original CIFAR10 to be seperated as validation set. Note that the test is preserved to be the same as the standard one."
   ]
  },
  {
   "cell_type": "code",
   "execution_count": 5,
   "metadata": {},
   "outputs": [
    {
     "name": "stdout",
     "output_type": "stream",
     "text": [
      "Files already downloaded and verified\n",
      "Files already downloaded and verified\n",
      "Files already downloaded and verified\n"
     ]
    }
   ],
   "source": [
    "cifar_dataset = DatasetFactory.create_dataset(name = 'CIFAR10', \n",
    "                                        root = root_dir,\n",
    "                                        split_types = ['train', 'val', 'test'],\n",
    "                                        val_fraction = 0.2,\n",
    "                                        transform = input_transforms,\n",
    "                                        target_transform = target_transforms\n",
    "                                        )"
   ]
  },
  {
   "cell_type": "code",
   "execution_count": 14,
   "metadata": {},
   "outputs": [
    {
     "name": "stdout",
     "output_type": "stream",
     "text": [
      "{'train': Dataset CIFAR10\n",
      "    Number of datapoints: 50000\n",
      "    Root location: /Users/deepak.gupta/eff-dl/data_dir\n",
      "    Split: Train\n",
      "    StandardTransform\n",
      "Transform: Compose(\n",
      "               ToTensor()\n",
      "           ), 'val': Dataset CIFAR10\n",
      "    Number of datapoints: 50000\n",
      "    Root location: /Users/deepak.gupta/eff-dl/data_dir\n",
      "    Split: Train\n",
      "    StandardTransform\n",
      "Transform: Compose(\n",
      "               ToTensor()\n",
      "           ), 'test': Dataset CIFAR10\n",
      "    Number of datapoints: 10000\n",
      "    Root location: /Users/deepak.gupta/eff-dl/data_dir\n",
      "    Split: Test\n",
      "    StandardTransform\n",
      "Transform: Compose(\n",
      "               ToTensor()\n",
      "           ), 'train_sampler': <torch.utils.data.sampler.SubsetRandomSampler object at 0x7fb420e6ea90>, 'val_sampler': <torch.utils.data.sampler.SubsetRandomSampler object at 0x7fb421442970>, 'test_sampler': None, 'info': {'train_size': 40000, 'val_size': 10000, 'test_size': 10000, 'note': 'Note that we use the CIFAR10 instance of torchvision for train and validation, due to which the length of these will be displayed as 50000 when len() is invoked.For accurate details, extract information from the info keyword in this dict '}}\n"
     ]
    }
   ],
   "source": [
    "print(cifar_dataset)"
   ]
  },
  {
   "cell_type": "code",
   "execution_count": 6,
   "metadata": {},
   "outputs": [
    {
     "name": "stdout",
     "output_type": "stream",
     "text": [
      "{'train_size': 40000, 'val_size': 10000, 'test_size': 10000, 'note': 'Note that we use the CIFAR10 instance of torchvision for train and validation, due to which the length of these will be displayed as 50000 when len() is invoked.For accurate details, extract information from the info keyword in this dict '}\n"
     ]
    }
   ],
   "source": [
    "print(cifar_dataset['info'])"
   ]
  },
  {
   "cell_type": "markdown",
   "metadata": {},
   "source": [
    "The returned attribute is a dictionary containing three objects of the CIFAR10 class from torchvision, with additional details. \n",
    "\n",
    "Important Note: To get the size of the train, val and test sets, information from the 'info' key of this variable should be used. Calling len() function on the CIFAR10 objects will return 50000 for train and validation, however, this number should be ignored."
   ]
  },
  {
   "cell_type": "code",
   "execution_count": 16,
   "metadata": {},
   "outputs": [
    {
     "name": "stdout",
     "output_type": "stream",
     "text": [
      "Train samples:  40000\n",
      "Val samples:  10000\n",
      "Test samples:  10000\n"
     ]
    }
   ],
   "source": [
    "# getting the size of the different splits of the data\n",
    "print('Train samples: ',cifar_dataset['info']['train_size'])\n",
    "print('Val samples: ',cifar_dataset['info']['val_size'])\n",
    "print('Test samples: ',cifar_dataset['info']['test_size'] )"
   ]
  },
  {
   "cell_type": "code",
   "execution_count": 17,
   "metadata": {},
   "outputs": [
    {
     "name": "stdout",
     "output_type": "stream",
     "text": [
      "No. of training batches:  625\n",
      "No. of validation batches:  157\n",
      "No. of test batches:  157\n"
     ]
    }
   ],
   "source": [
    "# Construct dataloaders\n",
    "train_loader = torch.utils.data.DataLoader(\n",
    "        cifar_dataset['train'], batch_size=64, \n",
    "        sampler=cifar_dataset['train_sampler'],\n",
    "        num_workers=0\n",
    "    )\n",
    "val_loader = torch.utils.data.DataLoader(\n",
    "        cifar_dataset['val'], batch_size=64, \n",
    "        sampler=cifar_dataset['val_sampler'],\n",
    "        num_workers=0\n",
    "    )\n",
    "test_loader = torch.utils.data.DataLoader(\n",
    "        cifar_dataset['test'], batch_size=64, \n",
    "        sampler=cifar_dataset['test_sampler'],\n",
    "        num_workers=0\n",
    "    )\n",
    "\n",
    "print('No. of training batches: ', len(train_loader))\n",
    "print('No. of validation batches: ', len(val_loader))\n",
    "print('No. of test batches: ', len(test_loader))"
   ]
  },
  {
   "cell_type": "markdown",
   "metadata": {},
   "source": [
    "##### Displaying a sample from the training set"
   ]
  },
  {
   "cell_type": "code",
   "execution_count": 18,
   "metadata": {},
   "outputs": [
    {
     "name": "stdout",
     "output_type": "stream",
     "text": [
      "Feature batch shape: torch.Size([64, 3, 32, 32])\n",
      "Labels batch shape: torch.Size([64])\n"
     ]
    },
    {
     "data": {
      "image/png": "[encoded data removed]",
      "text/plain": [
       "<Figure size 432x288 with 1 Axes>"
      ]
     },
     "metadata": {
      "needs_background": "light"
     },
     "output_type": "display_data"
    },
    {
     "name": "stdout",
     "output_type": "stream",
     "text": [
      "Label: 1\n"
     ]
    }
   ],
   "source": [
    "# Display image and label.\n",
    "train_features, train_labels = next(iter(train_loader))\n",
    "print(f\"Feature batch shape: {train_features.size()}\")\n",
    "print(f\"Labels batch shape: {train_labels.size()}\")\n",
    "img = train_features[7,0,:,:].squeeze()\n",
    "label = train_labels[0]\n",
    "plt.imshow(img, cmap=\"gray\")\n",
    "plt.show()\n",
    "print(f\"Label: {label}\")"
   ]
  },
  {
   "cell_type": "code",
   "execution_count": null,
   "metadata": {},
   "outputs": [],
   "source": []
  },
  {
   "cell_type": "markdown",
   "metadata": {},
   "source": [
    "#### Loading CIFAR100 Dataset"
   ]
  },
  {
   "cell_type": "code",
   "execution_count": 10,
   "metadata": {},
   "outputs": [
    {
     "name": "stdout",
     "output_type": "stream",
     "text": [
      "Files already downloaded and verified\n",
      "Files already downloaded and verified\n",
      "Files already downloaded and verified\n"
     ]
    }
   ],
   "source": [
    "cifar100_dataset = DatasetFactory.create_dataset(name = 'CIFAR100', \n",
    "                                        root = root_dir,\n",
    "                                        split_types = ['train', 'val', 'test'],\n",
    "                                        val_fraction = 0.15,\n",
    "                                        transform = input_transforms,\n",
    "                                        target_transform = target_transforms\n",
    "                                        )"
   ]
  },
  {
   "cell_type": "code",
   "execution_count": 11,
   "metadata": {},
   "outputs": [
    {
     "name": "stdout",
     "output_type": "stream",
     "text": [
      "{'train_size': 42500, 'val_size': 7500, 'test_size': 10000, 'note': 'Note that we use the CIFAR100 instance of torchvision for train and validation, due to which the length of these will be displayed as 50000 when len() is invoked.For accurate details, extract information from the info keyword in this dict '}\n"
     ]
    }
   ],
   "source": [
    "print(cifar100_dataset['info'])"
   ]
  },
  {
   "cell_type": "markdown",
   "metadata": {},
   "source": [
    "The returned attribute is a dictionary containing three objects of the CIFAR10 class from torchvision, with additional details. \n",
    "\n",
    "Important Note: To get the size of the train, val and test sets, information from the 'info' key of this variable should be used. Calling len() function on the CIFAR10 objects will return 50000 for train and validation, however, this number should be ignored."
   ]
  },
  {
   "cell_type": "code",
   "execution_count": 19,
   "metadata": {},
   "outputs": [
    {
     "name": "stdout",
     "output_type": "stream",
     "text": [
      "No. of training batches:  1329\n",
      "No. of validation batches:  235\n",
      "No. of test batches:  313\n"
     ]
    }
   ],
   "source": [
    "# Constructing dataloaders with batch size of 32 each\n",
    "train_loader100 = torch.utils.data.DataLoader(\n",
    "        cifar100_dataset['train'], batch_size=32, \n",
    "        sampler=cifar100_dataset['train_sampler'],\n",
    "        num_workers=0\n",
    "    )\n",
    "val_loader100 = torch.utils.data.DataLoader(\n",
    "        cifar100_dataset['val'], batch_size=32, \n",
    "        sampler=cifar100_dataset['val_sampler'],\n",
    "        num_workers=0\n",
    "    )\n",
    "test_loader100 = torch.utils.data.DataLoader(\n",
    "        cifar100_dataset['test'], batch_size=32, \n",
    "        sampler=cifar100_dataset['test_sampler'],\n",
    "        num_workers=0\n",
    "    )\n",
    "\n",
    "print('No. of training batches: ', len(train_loader100))\n",
    "print('No. of validation batches: ', len(val_loader100))\n",
    "print('No. of test batches: ', len(test_loader100))"
   ]
  },
  {
   "cell_type": "markdown",
   "metadata": {},
   "source": [
    "#### Display a sample image from the test set"
   ]
  },
  {
   "cell_type": "code",
   "execution_count": 20,
   "metadata": {},
   "outputs": [
    {
     "name": "stdout",
     "output_type": "stream",
     "text": [
      "Feature batch shape: torch.Size([32, 3, 32, 32])\n",
      "Labels batch shape: torch.Size([32])\n"
     ]
    },
    {
     "data": {
      "image/png": "[encoded data removed]",
      "text/plain": [
       "<Figure size 432x288 with 1 Axes>"
      ]
     },
     "metadata": {
      "needs_background": "light"
     },
     "output_type": "display_data"
    },
    {
     "name": "stdout",
     "output_type": "stream",
     "text": [
      "Label: 49\n"
     ]
    }
   ],
   "source": [
    "# Display image and label.\n",
    "test_features, test_labels = next(iter(test_loader100))\n",
    "print(f\"Feature batch shape: {test_features.size()}\")\n",
    "print(f\"Labels batch shape: {test_labels.size()}\")\n",
    "img = test_features[7,0,:,:].squeeze()\n",
    "label = test_labels[0]\n",
    "plt.imshow(img, cmap=\"gray\")\n",
    "plt.show()\n",
    "print(f\"Label: {label}\")"
   ]
  },
  {
   "cell_type": "code",
   "execution_count": null,
   "metadata": {},
   "outputs": [],
   "source": []
  }
 ],
 "metadata": {
  "interpreter": {
   "hash": "967adbfb1ca2aceff7a289bcfc89c2ce7530ccd9a423fa20d67f11f0c8d2c1b4"
  },
  "kernelspec": {
   "display_name": "Python 3",
   "language": "python",
   "name": "python3"
  },
  "language_info": {
   "codemirror_mode": {
    "name": "ipython",
    "version": 3
   },
   "file_extension": ".py",
   "mimetype": "text/x-python",
   "name": "python",
   "nbconvert_exporter": "python",
   "pygments_lexer": "ipython3",
   "version": "3.8.13"
  }
 },
 "nbformat": 4,
 "nbformat_minor": 4
}
