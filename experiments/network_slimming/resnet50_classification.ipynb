{
 "cells": [
  {
   "cell_type": "code",
   "execution_count": 9,
   "metadata": {},
   "outputs": [],
   "source": [
    "import sys\n",
    "import os\n",
    "sys.path.append(\"../../\")\n",
    "os.environ['CUDA_VISIBLE_DEVICES'] = '4'"
   ]
  },
  {
   "cell_type": "code",
   "execution_count": 10,
   "metadata": {},
   "outputs": [],
   "source": [
    "# load important packages\n",
    "import torch\n",
    "import matplotlib.pyplot as plt\n",
    "from torchvision import transforms\n",
    "from trailmet.datasets.classification import DatasetFactory\n",
    "from trailmet.algorithms.prune.chipnet import ChipNet\n",
    "from trailmet.algorithms.prune.network_slimming import Network_Slimming"
   ]
  },
  {
   "cell_type": "code",
   "execution_count": 11,
   "metadata": {},
   "outputs": [],
   "source": [
    "import yaml"
   ]
  },
  {
   "cell_type": "code",
   "execution_count": 12,
   "metadata": {},
   "outputs": [
    {
     "name": "stdout",
     "output_type": "stream",
     "text": [
      "/workspace/code/Nahush26/trail/trailmet/experiments/network_slimming\r\n"
     ]
    }
   ],
   "source": [
    "!pwd"
   ]
  },
  {
   "cell_type": "code",
   "execution_count": 13,
   "metadata": {},
   "outputs": [],
   "source": [
    "root = \"/workspace/code/Nahush26/trail/trailmet/experiments/network_slimming\""
   ]
  },
  {
   "cell_type": "code",
   "execution_count": 31,
   "metadata": {},
   "outputs": [],
   "source": [
    "with open(os.path.join(root, \"resnet50_cifar100.yaml\"), 'r') as stream:\n",
    "    data_loaded = yaml.safe_load(stream)\n",
    "data_loaded['schema_root'] = root"
   ]
  },
  {
   "cell_type": "code",
   "execution_count": 25,
   "metadata": {
    "scrolled": true
   },
   "outputs": [
    {
     "name": "stdout",
     "output_type": "stream",
     "text": [
      "{'num_classes': 100, 'weight_decay': '5e-4', 'net': 'resnet50', 'dataset': 'c100', 'epochs': 200, 's': '1e-3', 'learning_rate': '2e-3', 'fine_tune_epochs': 165, 'fine_tune_lr': '1e-4', 'prune_ratio': 0.5, 'schema_root': '/workspace/code/Nahush26/trail/trailmet/experiments/network_slimming'}\n"
     ]
    }
   ],
   "source": [
    "print(data_loaded)"
   ]
  },
  {
   "cell_type": "markdown",
   "metadata": {},
   "source": [
    "### Loading CIFR100Dataset"
   ]
  },
  {
   "cell_type": "code",
   "execution_count": 26,
   "metadata": {},
   "outputs": [
    {
     "name": "stdout",
     "output_type": "stream",
     "text": [
      "Files already downloaded and verified\n",
      "Files already downloaded and verified\n",
      "Files already downloaded and verified\n"
     ]
    }
   ],
   "source": [
    "train_transform = transforms.Compose(\n",
    "[transforms.ToTensor()])\n",
    "\n",
    "val_transform = transforms.Compose(\n",
    "[transforms.ToTensor()])\n",
    "\n",
    "test_transform = transforms.Compose(\n",
    "[transforms.ToTensor()])\n",
    "\n",
    "transforms1 = {\n",
    "    'train': train_transform, \n",
    "    'val': val_transform, \n",
    "    'test': test_transform}\n",
    "def train_target_transform(label):\n",
    "    return label\n",
    "\n",
    "def val_target_transform(label):\n",
    "    return label\n",
    "\n",
    "def test_target_transform(label):\n",
    "    return label\n",
    "\n",
    "target_transforms = {\n",
    "    'train': None, \n",
    "    'val': None, \n",
    "    'test': None}\n",
    "\n",
    "\n",
    "cifar_dataset = DatasetFactory.create_dataset(name = 'CIFAR100', \n",
    "                                        root = root,\n",
    "                                        split_types = ['train', 'val', 'test'],\n",
    "                                        val_fraction = 0.2,\n",
    "                                        transform = transforms1,\n",
    "                                        target_transform = target_transforms\n",
    "                                        )"
   ]
  },
  {
   "cell_type": "code",
   "execution_count": 27,
   "metadata": {},
   "outputs": [],
   "source": [
    "# Construct dataloader\n",
    "dataloaders = { 'train' : torch.utils.data.DataLoader(\n",
    "        cifar_dataset['train'], batch_size=64, \n",
    "        sampler=cifar_dataset['train_sampler'],\n",
    "        num_workers=0\n",
    "    ),\n",
    "               'val':  torch.utils.data.DataLoader(\n",
    "        cifar_dataset['val'], batch_size=64, \n",
    "        sampler=cifar_dataset['val_sampler'],\n",
    "        num_workers=0\n",
    "    ),  \n",
    "               'test':  torch.utils.data.DataLoader(\n",
    "        cifar_dataset['test'], batch_size=64, \n",
    "        sampler=cifar_dataset['test_sampler'],\n",
    "        num_workers=0\n",
    "    )}"
   ]
  },
  {
   "cell_type": "code",
   "execution_count": 32,
   "metadata": {},
   "outputs": [],
   "source": [
    "B = Network_Slimming(**data_loaded)"
   ]
  },
  {
   "cell_type": "code",
   "execution_count": 33,
   "metadata": {},
   "outputs": [
    {
     "name": "stdout",
     "output_type": "stream",
     "text": [
      "EPOCH NUMBER  0\n"
     ]
    },
    {
     "name": "stderr",
     "output_type": "stream",
     "text": [
      "100%|██████████████████████████████████████████████████████████████████████| 625/625 [00:52<00:00, 11.81it/s, loss=4.67]\n",
      "100%|███████████████████████████████████████████████████████████| 157/157 [00:05<00:00, 30.01it/s, acc=0.0148, loss=4.6]\n"
     ]
    },
    {
     "name": "stdout",
     "output_type": "stream",
     "text": [
      "**Saving model**\n",
      "EPOCH NUMBER  1\n"
     ]
    },
    {
     "name": "stderr",
     "output_type": "stream",
     "text": [
      "100%|██████████████████████████████████████████████████████████████████████| 625/625 [00:52<00:00, 11.96it/s, loss=4.58]\n",
      "100%|███████████████████████████████████████████████████████████| 157/157 [00:05<00:00, 30.01it/s, acc=0.018, loss=4.55]\n"
     ]
    },
    {
     "name": "stdout",
     "output_type": "stream",
     "text": [
      "**Saving model**\n",
      "EPOCH NUMBER  2\n"
     ]
    },
    {
     "name": "stderr",
     "output_type": "stream",
     "text": [
      "100%|██████████████████████████████████████████████████████████████████████| 625/625 [00:53<00:00, 11.73it/s, loss=4.55]\n",
      "100%|██████████████████████████████████████████████████████████| 157/157 [00:05<00:00, 29.74it/s, acc=0.0182, loss=4.53]\n"
     ]
    },
    {
     "name": "stdout",
     "output_type": "stream",
     "text": [
      "**Saving model**\n",
      "EPOCH NUMBER  3\n"
     ]
    },
    {
     "name": "stderr",
     "output_type": "stream",
     "text": [
      "100%|██████████████████████████████████████████████████████████████████████| 625/625 [00:53<00:00, 11.71it/s, loss=4.53]\n",
      "100%|██████████████████████████████████████████████████████████| 157/157 [00:05<00:00, 29.85it/s, acc=0.0209, loss=4.52]\n"
     ]
    },
    {
     "name": "stdout",
     "output_type": "stream",
     "text": [
      "**Saving model**\n",
      "EPOCH NUMBER  4\n"
     ]
    },
    {
     "name": "stderr",
     "output_type": "stream",
     "text": [
      "100%|██████████████████████████████████████████████████████████████████████| 625/625 [00:52<00:00, 11.84it/s, loss=4.52]\n",
      "100%|██████████████████████████████████████████████████████████| 157/157 [00:05<00:00, 29.78it/s, acc=0.0212, loss=4.51]\n"
     ]
    },
    {
     "name": "stdout",
     "output_type": "stream",
     "text": [
      "**Saving model**\n",
      "EPOCH NUMBER  5\n"
     ]
    },
    {
     "name": "stderr",
     "output_type": "stream",
     "text": [
      "100%|███████████████████████████████████████████████████████████████████████| 625/625 [00:52<00:00, 11.95it/s, loss=4.5]\n",
      "100%|██████████████████████████████████████████████████████████| 157/157 [00:05<00:00, 29.91it/s, acc=0.0246, loss=4.49]\n"
     ]
    },
    {
     "name": "stdout",
     "output_type": "stream",
     "text": [
      "**Saving model**\n",
      "EPOCH NUMBER  6\n"
     ]
    },
    {
     "name": "stderr",
     "output_type": "stream",
     "text": [
      "100%|██████████████████████████████████████████████████████████████████████| 625/625 [00:53<00:00, 11.72it/s, loss=4.49]\n",
      "100%|██████████████████████████████████████████████████████████| 157/157 [00:05<00:00, 29.62it/s, acc=0.0258, loss=4.48]\n"
     ]
    },
    {
     "name": "stdout",
     "output_type": "stream",
     "text": [
      "**Saving model**\n",
      "EPOCH NUMBER  7\n"
     ]
    },
    {
     "name": "stderr",
     "output_type": "stream",
     "text": [
      "100%|██████████████████████████████████████████████████████████████████████| 625/625 [00:52<00:00, 11.82it/s, loss=4.48]\n",
      "100%|██████████████████████████████████████████████████████████| 157/157 [00:05<00:00, 29.69it/s, acc=0.0245, loss=4.47]\n"
     ]
    },
    {
     "name": "stdout",
     "output_type": "stream",
     "text": [
      "EPOCH NUMBER  8\n"
     ]
    },
    {
     "name": "stderr",
     "output_type": "stream",
     "text": [
      "100%|██████████████████████████████████████████████████████████████████████| 625/625 [00:53<00:00, 11.75it/s, loss=4.48]\n",
      "100%|██████████████████████████████████████████████████████████| 157/157 [00:05<00:00, 29.92it/s, acc=0.0249, loss=4.47]\n"
     ]
    },
    {
     "name": "stdout",
     "output_type": "stream",
     "text": [
      "EPOCH NUMBER  9\n"
     ]
    },
    {
     "name": "stderr",
     "output_type": "stream",
     "text": [
      "100%|██████████████████████████████████████████████████████████████████████| 625/625 [00:52<00:00, 11.92it/s, loss=4.47]\n",
      "100%|██████████████████████████████████████████████████████████| 157/157 [00:05<00:00, 30.19it/s, acc=0.0263, loss=4.46]\n"
     ]
    },
    {
     "name": "stdout",
     "output_type": "stream",
     "text": [
      "**Saving model**\n",
      "EPOCH NUMBER  10\n"
     ]
    },
    {
     "name": "stderr",
     "output_type": "stream",
     "text": [
      "100%|██████████████████████████████████████████████████████████████████████| 625/625 [00:53<00:00, 11.78it/s, loss=4.46]\n",
      "100%|██████████████████████████████████████████████████████████| 157/157 [00:05<00:00, 30.02it/s, acc=0.0287, loss=4.45]\n"
     ]
    },
    {
     "name": "stdout",
     "output_type": "stream",
     "text": [
      "**Saving model**\n",
      "EPOCH NUMBER  11\n"
     ]
    },
    {
     "name": "stderr",
     "output_type": "stream",
     "text": [
      "100%|██████████████████████████████████████████████████████████████████████| 625/625 [00:52<00:00, 11.83it/s, loss=4.45]\n",
      "100%|██████████████████████████████████████████████████████████| 157/157 [00:05<00:00, 30.33it/s, acc=0.0284, loss=4.45]\n"
     ]
    },
    {
     "name": "stdout",
     "output_type": "stream",
     "text": [
      "EPOCH NUMBER  12\n"
     ]
    },
    {
     "name": "stderr",
     "output_type": "stream",
     "text": [
      "100%|██████████████████████████████████████████████████████████████████████| 625/625 [00:52<00:00, 12.00it/s, loss=4.45]\n",
      "100%|██████████████████████████████████████████████████████████| 157/157 [00:05<00:00, 30.47it/s, acc=0.0313, loss=4.45]\n"
     ]
    },
    {
     "name": "stdout",
     "output_type": "stream",
     "text": [
      "**Saving model**\n",
      "EPOCH NUMBER  13\n"
     ]
    },
    {
     "name": "stderr",
     "output_type": "stream",
     "text": [
      "100%|██████████████████████████████████████████████████████████████████████| 625/625 [00:52<00:00, 11.96it/s, loss=4.44]\n",
      "100%|██████████████████████████████████████████████████████████| 157/157 [00:05<00:00, 30.40it/s, acc=0.0328, loss=4.44]\n"
     ]
    },
    {
     "name": "stdout",
     "output_type": "stream",
     "text": [
      "**Saving model**\n",
      "EPOCH NUMBER  14\n"
     ]
    },
    {
     "name": "stderr",
     "output_type": "stream",
     "text": [
      "100%|██████████████████████████████████████████████████████████████████████| 625/625 [00:52<00:00, 12.02it/s, loss=4.44]\n",
      "100%|██████████████████████████████████████████████████████████| 157/157 [00:05<00:00, 30.89it/s, acc=0.0307, loss=4.43]\n"
     ]
    },
    {
     "name": "stdout",
     "output_type": "stream",
     "text": [
      "EPOCH NUMBER  15\n"
     ]
    },
    {
     "name": "stderr",
     "output_type": "stream",
     "text": [
      " 48%|█████████████████████████████████▋                                    | 301/625 [00:25<00:27, 11.98it/s, loss=4.43]\n"
     ]
    },
    {
     "ename": "KeyboardInterrupt",
     "evalue": "",
     "output_type": "error",
     "traceback": [
      "\u001b[0;31m---------------------------------------------------------------------------\u001b[0m",
      "\u001b[0;31mKeyboardInterrupt\u001b[0m                         Traceback (most recent call last)",
      "\u001b[0;32m/tmp/ipykernel_52547/2155117082.py\u001b[0m in \u001b[0;36m<module>\u001b[0;34m\u001b[0m\n\u001b[0;32m----> 1\u001b[0;31m \u001b[0mB\u001b[0m\u001b[0;34m.\u001b[0m\u001b[0mcompress_model\u001b[0m\u001b[0;34m(\u001b[0m\u001b[0mdataloaders\u001b[0m\u001b[0;34m)\u001b[0m\u001b[0;34m\u001b[0m\u001b[0;34m\u001b[0m\u001b[0m\n\u001b[0m",
      "\u001b[0;32m/workspace/code/Nahush26/trail/trailmet/experiments/network_slimming/../../trailmet/algorithms/prune/network_slimming.py\u001b[0m in \u001b[0;36mcompress_model\u001b[0;34m(self, dataloaders)\u001b[0m\n\u001b[1;32m    115\u001b[0m         \u001b[0mmodel\u001b[0m \u001b[0;34m=\u001b[0m \u001b[0mModel\u001b[0m\u001b[0;34m(\u001b[0m\u001b[0mself\u001b[0m\u001b[0;34m.\u001b[0m\u001b[0mnet\u001b[0m\u001b[0;34m,\u001b[0m\u001b[0mself\u001b[0m\u001b[0;34m.\u001b[0m\u001b[0mnum_classes\u001b[0m\u001b[0;34m)\u001b[0m\u001b[0;34m\u001b[0m\u001b[0;34m\u001b[0m\u001b[0m\n\u001b[1;32m    116\u001b[0m         \u001b[0mself\u001b[0m\u001b[0;34m.\u001b[0m\u001b[0mlog_name\u001b[0m \u001b[0;34m=\u001b[0m \u001b[0mself\u001b[0m\u001b[0;34m.\u001b[0m\u001b[0mlog_base\u001b[0m\u001b[0;34m\u001b[0m\u001b[0;34m\u001b[0m\u001b[0m\n\u001b[0;32m--> 117\u001b[0;31m         \u001b[0mmodel\u001b[0m \u001b[0;34m=\u001b[0m \u001b[0mself\u001b[0m\u001b[0;34m.\u001b[0m\u001b[0mbase_train\u001b[0m\u001b[0;34m(\u001b[0m\u001b[0mmodel\u001b[0m\u001b[0;34m,\u001b[0m\u001b[0mdataloaders\u001b[0m\u001b[0;34m,\u001b[0m\u001b[0mfine_tune\u001b[0m \u001b[0;34m=\u001b[0m \u001b[0;32mFalse\u001b[0m\u001b[0;34m)\u001b[0m\u001b[0;34m\u001b[0m\u001b[0;34m\u001b[0m\u001b[0m\n\u001b[0m\u001b[1;32m    118\u001b[0m         \u001b[0mself\u001b[0m\u001b[0;34m.\u001b[0m\u001b[0mlog_name\u001b[0m \u001b[0;34m=\u001b[0m \u001b[0;34mf\"{self.net}_{self.dataset}_{self.prune_ratio}_.pth\"\u001b[0m\u001b[0;34m\u001b[0m\u001b[0;34m\u001b[0m\u001b[0m\n\u001b[1;32m    119\u001b[0m         \u001b[0mself\u001b[0m\u001b[0;34m.\u001b[0m\u001b[0mlr\u001b[0m \u001b[0;34m=\u001b[0m \u001b[0mself\u001b[0m\u001b[0;34m.\u001b[0m\u001b[0mfine_tune_lr\u001b[0m\u001b[0;34m\u001b[0m\u001b[0;34m\u001b[0m\u001b[0m\n",
      "\u001b[0;32m/workspace/code/Nahush26/trail/trailmet/experiments/network_slimming/../../trailmet/algorithms/prune/network_slimming.py\u001b[0m in \u001b[0;36mbase_train\u001b[0;34m(self, model, dataloaders, fine_tune)\u001b[0m\n\u001b[1;32m    156\u001b[0m             \u001b[0mprint\u001b[0m\u001b[0;34m(\u001b[0m\u001b[0;34m\"EPOCH NUMBER \"\u001b[0m \u001b[0;34m,\u001b[0m \u001b[0mepoch\u001b[0m\u001b[0;34m)\u001b[0m\u001b[0;34m\u001b[0m\u001b[0;34m\u001b[0m\u001b[0m\n\u001b[1;32m    157\u001b[0m             \u001b[0madjust_learning_rate\u001b[0m\u001b[0;34m(\u001b[0m\u001b[0moptimizer\u001b[0m\u001b[0;34m,\u001b[0m \u001b[0mepoch\u001b[0m\u001b[0;34m,\u001b[0m \u001b[0mnum_epochs\u001b[0m\u001b[0;34m,\u001b[0m \u001b[0mscheduler_type\u001b[0m\u001b[0;34m,\u001b[0m \u001b[0mlr\u001b[0m\u001b[0;34m)\u001b[0m\u001b[0;34m\u001b[0m\u001b[0;34m\u001b[0m\u001b[0m\n\u001b[0;32m--> 158\u001b[0;31m             \u001b[0mt_loss\u001b[0m \u001b[0;34m=\u001b[0m \u001b[0mself\u001b[0m\u001b[0;34m.\u001b[0m\u001b[0mtrain_one_epoch\u001b[0m\u001b[0;34m(\u001b[0m\u001b[0mmodel\u001b[0m\u001b[0;34m,\u001b[0m \u001b[0mdataloaders\u001b[0m\u001b[0;34m[\u001b[0m\u001b[0;34m'train'\u001b[0m\u001b[0;34m]\u001b[0m\u001b[0;34m,\u001b[0m \u001b[0mcriterion\u001b[0m\u001b[0;34m,\u001b[0m \u001b[0moptimizer\u001b[0m\u001b[0;34m)\u001b[0m\u001b[0;34m\u001b[0m\u001b[0;34m\u001b[0m\u001b[0m\n\u001b[0m\u001b[1;32m    159\u001b[0m             \u001b[0;32mif\u001b[0m \u001b[0mself\u001b[0m\u001b[0;34m.\u001b[0m\u001b[0msparsity_train\u001b[0m\u001b[0;34m:\u001b[0m\u001b[0;34m\u001b[0m\u001b[0;34m\u001b[0m\u001b[0m\n\u001b[1;32m    160\u001b[0m                 \u001b[0mupdate_bn_grad\u001b[0m\u001b[0;34m(\u001b[0m\u001b[0mmodel\u001b[0m\u001b[0;34m)\u001b[0m\u001b[0;34m\u001b[0m\u001b[0;34m\u001b[0m\u001b[0m\n",
      "\u001b[0;32m/workspace/code/Nahush26/trail/trailmet/experiments/network_slimming/../../trailmet/algorithms/prune/network_slimming.py\u001b[0m in \u001b[0;36mtrain_one_epoch\u001b[0;34m(self, model, dataloader, loss_fn, optimizer, extra_functionality)\u001b[0m\n\u001b[1;32m    212\u001b[0m         \u001b[0;32mfor\u001b[0m \u001b[0mx_var\u001b[0m\u001b[0;34m,\u001b[0m \u001b[0my_var\u001b[0m \u001b[0;32min\u001b[0m \u001b[0mtk1\u001b[0m\u001b[0;34m:\u001b[0m\u001b[0;34m\u001b[0m\u001b[0;34m\u001b[0m\u001b[0m\n\u001b[1;32m    213\u001b[0m             \u001b[0mcounter\u001b[0m \u001b[0;34m+=\u001b[0m\u001b[0;36m1\u001b[0m\u001b[0;34m\u001b[0m\u001b[0;34m\u001b[0m\u001b[0m\n\u001b[0;32m--> 214\u001b[0;31m             \u001b[0mx_var\u001b[0m \u001b[0;34m=\u001b[0m \u001b[0mx_var\u001b[0m\u001b[0;34m.\u001b[0m\u001b[0mto\u001b[0m\u001b[0;34m(\u001b[0m\u001b[0mdevice\u001b[0m\u001b[0;34m=\u001b[0m\u001b[0mself\u001b[0m\u001b[0;34m.\u001b[0m\u001b[0mdevice\u001b[0m\u001b[0;34m)\u001b[0m\u001b[0;34m\u001b[0m\u001b[0;34m\u001b[0m\u001b[0m\n\u001b[0m\u001b[1;32m    215\u001b[0m             \u001b[0my_var\u001b[0m \u001b[0;34m=\u001b[0m \u001b[0my_var\u001b[0m\u001b[0;34m.\u001b[0m\u001b[0mto\u001b[0m\u001b[0;34m(\u001b[0m\u001b[0mdevice\u001b[0m\u001b[0;34m=\u001b[0m\u001b[0mself\u001b[0m\u001b[0;34m.\u001b[0m\u001b[0mdevice\u001b[0m\u001b[0;34m)\u001b[0m\u001b[0;34m\u001b[0m\u001b[0;34m\u001b[0m\u001b[0m\n\u001b[1;32m    216\u001b[0m             \u001b[0mscores\u001b[0m \u001b[0;34m=\u001b[0m \u001b[0mmodel\u001b[0m\u001b[0;34m(\u001b[0m\u001b[0mx_var\u001b[0m\u001b[0;34m)\u001b[0m\u001b[0;34m\u001b[0m\u001b[0;34m\u001b[0m\u001b[0m\n",
      "\u001b[0;31mKeyboardInterrupt\u001b[0m: "
     ]
    }
   ],
   "source": [
    "B.compress_model(dataloaders)"
   ]
  }
 ],
 "metadata": {
  "kernelspec": {
   "display_name": "Python 3 (ipykernel)",
   "language": "python",
   "name": "python3"
  },
  "language_info": {
   "codemirror_mode": {
    "name": "ipython",
    "version": 3
   },
   "file_extension": ".py",
   "mimetype": "text/x-python",
   "name": "python",
   "nbconvert_exporter": "python",
   "pygments_lexer": "ipython3",
   "version": "3.8.10"
  },
  "vscode": {
   "interpreter": {
    "hash": "4f946df053fbf2b937619d3c5458e7af74262f9a954d8797ba0b27400bcafe06"
   }
  }
 },
 "nbformat": 4,
 "nbformat_minor": 4
}
