{
  "cells": [
    {
      "cell_type": "markdown",
      "metadata": {
        "id": "498871cf"
      },
      "source": [
        "## LAPQ\n",
        "This notebook demonstrates the implimentation of the paper [Loss Aware Post-training Quantization](https://arxiv.org/abs/1911.07190)\n",
        "\n",
        "### Steps to quantize the pretrained model\n",
        "- Load the dataset and create dataloader. A subset of training data is used for calibration.\n",
        "- Load the pretrained full precision model.\n",
        "- Load the configurations from the YAML file.\n",
        "- Create a `LAPQ` object and pass the full precision model, dataloaders and configurations.\n",
        "- Quantize the model by calling the `compress_model` method."
      ],
      "id": "498871cf"
    },
    {
      "cell_type": "code",
      "execution_count": null,
      "metadata": {
        "colab": {
          "base_uri": "https://localhost:8080/"
        },
        "id": "skKWRRtMsfRM",
        "outputId": "a1265ade-b421-4bc1-f456-63b88c69fdbb"
      },
      "outputs": [
        {
          "name": "stdout",
          "output_type": "stream",
          "text": [
            "Drive already mounted at /content/drive; to attempt to forcibly remount, call drive.mount(\"/content/drive\", force_remount=True).\n"
          ]
        }
      ],
      "source": [
        "USE_COLAB = True\n",
        "\n",
        "if USE_COLAB:\n",
        "  from google.colab import drive\n",
        "  drive.mount(\"/content/drive\")\n",
        "  base_path = \"/content/drive/MyDrive/trail\"\n",
        "else:\n",
        "  base_path = \"../../../..\"\n",
        "\n",
        "library_path = base_path + \"/trailmet\"\n",
        "requirements_path = library_path + \"/requirements.txt\"\n",
        "config_path = library_path + \"/experiments/quantization/LAPQ/lapq_config.yaml\"\n",
        "weights_path = base_path + \"/weights/resnet50_cifar100_pretrained.pth\""
      ],
      "id": "skKWRRtMsfRM"
    },
    {
      "cell_type": "code",
      "execution_count": null,
      "metadata": {
        "id": "P7Kar046xSEd"
      },
      "outputs": [],
      "source": [
        "%pip install -q -r $requirements_path"
      ],
      "id": "P7Kar046xSEd"
    },
    {
      "cell_type": "code",
      "execution_count": null,
      "metadata": {
        "id": "dafbd1b3"
      },
      "outputs": [],
      "source": [
        "import sys\n",
        "sys.path.append(library_path)"
      ],
      "id": "dafbd1b3"
    },
    {
      "cell_type": "code",
      "execution_count": null,
      "metadata": {
        "id": "417e9692"
      },
      "outputs": [],
      "source": [
        "import yaml\n",
        "import torch\n",
        "from torch.utils.data import DataLoader\n",
        "from torchvision import transforms\n",
        "from trailmet.datasets.classification import DatasetFactory\n",
        "from trailmet.models import resnet, mobilenet\n",
        "from trailmet.algorithms import quantize"
      ],
      "id": "417e9692"
    },
    {
      "cell_type": "markdown",
      "metadata": {
        "id": "c67e2359"
      },
      "source": [
        "## Datasets"
      ],
      "id": "c67e2359"
    },
    {
      "cell_type": "markdown",
      "metadata": {
        "id": "64a12f9a"
      },
      "source": [
        "### Augmentations"
      ],
      "id": "64a12f9a"
    },
    {
      "cell_type": "code",
      "execution_count": null,
      "metadata": {
        "id": "4c8c6192"
      },
      "outputs": [],
      "source": [
        "stats = ((0.5071, 0.4867, 0.4408), (0.2675, 0.2565, 0.2761))\n",
        "\n",
        "train_transform = transforms.Compose([\n",
        "    transforms.RandomCrop(32, padding=4, padding_mode='reflect'),\n",
        "    transforms.RandomHorizontalFlip(),\n",
        "    transforms.ToTensor(),\n",
        "    transforms.Normalize(*stats, inplace=True)\n",
        "])\n",
        "val_transform = transforms.Compose([\n",
        "    transforms.ToTensor(),\n",
        "    transforms.Normalize(*stats)\n",
        "])\n",
        "test_transform = transforms.Compose([\n",
        "    transforms.ToTensor(),\n",
        "    transforms.Normalize(*stats)\n",
        "])\n",
        "\n",
        "input_transforms = {\n",
        "    'train': train_transform,\n",
        "    'val': val_transform,\n",
        "    'test': test_transform}\n",
        "\n",
        "target_transforms = {\n",
        "    'train': None,\n",
        "    'val': None,\n",
        "    'test': None}"
      ],
      "id": "4c8c6192"
    },
    {
      "cell_type": "markdown",
      "metadata": {
        "id": "0c41f2b1"
      },
      "source": [
        "### Load Datasets"
      ],
      "id": "0c41f2b1"
    },
    {
      "cell_type": "code",
      "execution_count": null,
      "metadata": {
        "colab": {
          "base_uri": "https://localhost:8080/"
        },
        "id": "b377f3bb",
        "outputId": "b0d816c7-cbe2-4a50-d9a2-bf9d443e9715"
      },
      "outputs": [
        {
          "name": "stdout",
          "output_type": "stream",
          "text": [
            "Files already downloaded and verified\n",
            "Files already downloaded and verified\n",
            "Files already downloaded and verified\n",
            "Train samples:  40000\n",
            "Val samples:  10000\n",
            "Test samples:  10000\n"
          ]
        }
      ],
      "source": [
        "cifar100_dataset = DatasetFactory.create_dataset(\n",
        "        name = 'CIFAR100',\n",
        "        root = './data',\n",
        "        split_types = ['train', 'val', 'test'],\n",
        "        val_fraction = 0.2,\n",
        "        transform = input_transforms,\n",
        "        target_transform = target_transforms)\n",
        "\n",
        "# getting the size of the different splits\n",
        "print('Train samples: ',cifar100_dataset['info']['train_size'])\n",
        "print('Val samples: ',cifar100_dataset['info']['val_size'])\n",
        "print('Test samples: ',cifar100_dataset['info']['test_size'] )"
      ],
      "id": "b377f3bb"
    },
    {
      "cell_type": "markdown",
      "metadata": {
        "id": "eec91853"
      },
      "source": [
        "### Define Dataloaders"
      ],
      "id": "eec91853"
    },
    {
      "cell_type": "code",
      "execution_count": null,
      "metadata": {
        "colab": {
          "base_uri": "https://localhost:8080/"
        },
        "id": "464c2e93",
        "outputId": "1f95a9d9-3165-427b-c7cc-52377559a9ba"
      },
      "outputs": [
        {
          "name": "stdout",
          "output_type": "stream",
          "text": [
            "No. of training batches:  313\n",
            "No. of validation batches:  79\n",
            "No. of test batches:  79\n"
          ]
        }
      ],
      "source": [
        "train_loader = DataLoader(\n",
        "        cifar100_dataset['train'], batch_size=128,\n",
        "        sampler=cifar100_dataset['train_sampler'],\n",
        "        num_workers=0)\n",
        "val_loader = DataLoader(\n",
        "        cifar100_dataset['val'], batch_size=128,\n",
        "        sampler=cifar100_dataset['val_sampler'],\n",
        "        num_workers=0)\n",
        "test_loader = DataLoader(\n",
        "        cifar100_dataset['test'], batch_size=128,\n",
        "        sampler=cifar100_dataset['test_sampler'],\n",
        "        num_workers=0)\n",
        "\n",
        "dataloaders = {\"train\": train_loader, \"val\": val_loader, \"test\": test_loader}\n",
        "\n",
        "print('No. of training batches: ', len(dataloaders['train']))\n",
        "print('No. of validation batches: ', len(dataloaders['val']))\n",
        "print('No. of test batches: ', len(dataloaders['test']))"
      ],
      "id": "464c2e93"
    },
    {
      "cell_type": "markdown",
      "metadata": {
        "id": "85812739"
      },
      "source": [
        "### Load Pretrained Model"
      ],
      "id": "85812739"
    },
    {
      "cell_type": "code",
      "execution_count": null,
      "metadata": {
        "colab": {
          "base_uri": "https://localhost:8080/"
        },
        "id": "e4db07ac",
        "outputId": "7a942a3e-837e-4081-e6cf-26a1910646ae"
      },
      "outputs": [
        {
          "data": {
            "text/plain": [
              "<All keys matched successfully>"
            ]
          },
          "execution_count": 8,
          "metadata": {},
          "output_type": "execute_result"
        }
      ],
      "source": [
        "model = resnet.make_resnet50(100,32)\n",
        "checkpoint = torch.load(weights_path, map_location='cuda:0')\n",
        "model.load_state_dict(checkpoint['state_dict'])"
      ],
      "id": "e4db07ac"
    },
    {
      "cell_type": "markdown",
      "metadata": {
        "id": "0ca3e796"
      },
      "source": [
        "### Load Method Config"
      ],
      "id": "0ca3e796"
    },
    {
      "cell_type": "code",
      "execution_count": null,
      "metadata": {
        "id": "5b9625ad"
      },
      "outputs": [],
      "source": [
        "# with open(config_path, 'r') as f:\n",
        "#     config_all = yaml.safe_load(f)\n",
        "#     config = config_all['GENERAL']\n",
        "\n",
        "config = {\n",
        "    'w_bits' : 8,\n",
        "    'a_bits' : 8,\n",
        "    'reduce_range': True,\n",
        "    'act_quant': True,\n",
        "    'max_iter': 2000,\n",
        "    'max_fev': 2000,\n",
        "    'calib_bs': 256,\n",
        "    'calib_size': 1024,\n",
        "    'seed': 42,\n",
        "    'gpu_id': 0\n",
        "}"
      ],
      "id": "5b9625ad"
    },
    {
      "cell_type": "markdown",
      "metadata": {
        "id": "87e6c554"
      },
      "source": [
        "### Quantization Method: LAPQ"
      ],
      "id": "87e6c554"
    },
    {
      "cell_type": "code",
      "execution_count": null,
      "metadata": {
        "colab": {
          "background_save": true,
          "base_uri": "https://localhost:8080/"
        },
        "id": "e21d5073",
        "outputId": "a3022343-845b-43b3-a9c1-5a1497b26408"
      },
      "outputs": [
        {
          "name": "stderr",
          "output_type": "stream",
          "text": [
            "100%|██████████| 79/79 [00:15<00:00,  4.99it/s, acc1=72.5, acc5=91.5]\n"
          ]
        },
        {
          "name": "stdout",
          "output_type": "stream",
          "text": [
            "==> Full Precision Model: acc@1 72.518 | acc@5 91.525\n"
          ]
        },
        {
          "name": "stderr",
          "output_type": "stream",
          "text": [
            "100%|██████████| 79/79 [00:08<00:00,  9.10it/s, acc1=71.8, acc5=91.1]\n"
          ]
        },
        {
          "name": "stdout",
          "output_type": "stream",
          "text": [
            "==> Quantization accuracy before LAPQ: acc@1 71.756 | acc@5 91.149\n"
          ]
        },
        {
          "name": "stderr",
          "output_type": "stream",
          "text": [
            "100%|██████████| 20/20 [01:00<00:00,  3.02s/it, loss=0.0998, p_val=3.9]\n"
          ]
        },
        {
          "name": "stdout",
          "output_type": "stream",
          "text": [
            "==> using p-val : 3.481  with lp-loss : 0.093\n"
          ]
        },
        {
          "name": "stderr",
          "output_type": "stream",
          "text": [
            "100%|██████████| 79/79 [00:11<00:00,  6.91it/s, acc1=72.2, acc5=91.5]\n"
          ]
        },
        {
          "name": "stdout",
          "output_type": "stream",
          "text": [
            "==> Quantization accuracy before optimization: acc@1 72.241 | acc@5 91.535\n",
            "==> Starting Powell Optimization\n"
          ]
        },
        {
          "name": "stderr",
          "output_type": "stream",
          "text": [
            "100%|██████████| 2000/2000 [04:43<00:00,  7.06it/s, curr_loss=0.092, min_loss=0.092]\n"
          ]
        },
        {
          "name": "stdout",
          "output_type": "stream",
          "text": [
            "==> Optimization completed with status: False\n",
            "==> Optimized alphas :\n",
            " [ 0.32192663  0.4921856   0.44087177  0.9391082   0.95024213  0.35209557\n",
            "  0.56010642  0.8362113   0.14528238  0.6173208   1.22021341  0.46791642\n",
            "  0.25910885  0.74059974  0.45257379  0.14750679  0.15402703  1.13943211\n",
            "  0.17752448  0.38750959  1.09536373  0.26694447  0.21156799  0.70860321\n",
            "  0.36488586  0.12406421  0.50658086  0.28335763  0.12680141  0.18381498\n",
            "  0.83998023  0.10583398  0.16331125  0.65832013  0.09808584  0.16091051\n",
            "  0.84497283  0.12403724  0.20360942  0.679278    0.17891735  0.26773851\n",
            "  0.54199507  1.34550151  0.21835104  1.16213213  0.40100812  0.04182439\n",
            "  0.32693615  0.75804108  0.01931836  0.23854705  0.77586533  0.35659174\n",
            "  1.99467082  1.18234275  0.75984839  0.50286948  0.43017     0.54280295\n",
            "  0.80808552  0.7176247   0.37142049  0.5562059   0.46602321  0.71515874\n",
            "  0.30534324  0.37335814  0.67148537  0.62658289  0.61451279  0.52567379\n",
            "  0.63642817  0.61713725  0.63287643  0.24550927  0.4923878   0.70035124\n",
            "  0.75159778  0.36112166  0.37687481  0.66791642  0.7132149   0.49287515\n",
            "  0.45697315  0.36587468  0.68228734  0.75030695  0.53571547  0.56328548\n",
            "  0.47901733  0.68669396  0.31868012  0.36477025  0.611461    0.77932724\n",
            "  0.33648931  0.33574072  0.35906766  0.78264685  0.34599894  0.33887686\n",
            "  0.49970291  0.94860415  0.35073394  0.42563926  0.48520955  0.74453487\n",
            "  0.51277885  0.53216721  0.57372373  1.96872515  0.60519236  0.67802123\n",
            "  1.73508274  0.78461236  3.43784676  0.39349705  0.66659818  2.10375101\n",
            "  4.73006429  0.28074448  0.38541939  2.15557389 10.93467115]\n"
          ]
        },
        {
          "name": "stderr",
          "output_type": "stream",
          "text": [
            "100%|██████████| 79/79 [00:08<00:00,  8.95it/s, acc1=72, acc5=91.2]\n"
          ]
        },
        {
          "name": "stdout",
          "output_type": "stream",
          "text": [
            "==> Final LAPQ quantization accuracy: 72.004 | 91.228\n"
          ]
        }
      ],
      "source": [
        "quantizer = quantize.lapq.LAPQ('resnet', dataloaders, **config)\n",
        "qmodel = quantizer.compress_model(model)"
      ],
      "id": "e21d5073"
    },
    {
      "cell_type": "code",
      "execution_count": null,
      "metadata": {
        "colab": {
          "background_save": true
        },
        "id": "c6edd9e9",
        "outputId": "3781a5d3-b56b-470a-afb5-3ff166ec5d94"
      },
      "outputs": [
        {
          "name": "stdout",
          "output_type": "stream",
          "text": [
            "testing quantized model\n"
          ]
        },
        {
          "name": "stderr",
          "output_type": "stream",
          "text": [
            "100%|██████████| 79/79 [01:26<00:00,  1.10s/it, acc1=72, acc5=91.2]\n"
          ]
        }
      ],
      "source": [
        "print('testing quantized model')\n",
        "qmodel.to(torch.device('cpu'))\n",
        "acc1, acc5 = quantizer.test(model=qmodel, dataloader=dataloaders['test'], device=torch.device('cpu'))"
      ],
      "id": "c6edd9e9"
    },
    {
      "cell_type": "code",
      "execution_count": 12,
      "metadata": {
        "id": "GMg5Wvv-P5Z9",
        "colab": {
          "base_uri": "https://localhost:8080/"
        },
        "outputId": "5e33b0a4-ac58-4e16-b884-ec2a0eaa224f"
      },
      "outputs": [
        {
          "metadata": {
            "tags": null
          },
          "name": "stdout",
          "output_type": "stream",
          "text": [
            "testing full precision model\n"
          ]
        },
        {
          "output_type": "stream",
          "name": "stderr",
          "text": [
            "100%|██████████| 79/79 [03:25<00:00,  2.61s/it, acc1=72.5, acc5=91.5]\n"
          ]
        }
      ],
      "source": [
        "print('testing full precision model')\n",
        "model.to(torch.device('cpu'))\n",
        "acc1, acc5 = quantizer.test(model=model, dataloader=dataloaders['test'], device=torch.device('cpu'))"
      ],
      "id": "GMg5Wvv-P5Z9"
    },
    {
      "cell_type": "code",
      "execution_count": 13,
      "metadata": {
        "id": "56e04513",
        "colab": {
          "base_uri": "https://localhost:8080/"
        },
        "outputId": "966c5bcd-d964-44cc-a82a-16ed5b30b1df"
      },
      "outputs": [
        {
          "output_type": "stream",
          "name": "stdout",
          "text": [
            "Size: 23.84 MB\n",
            "Size: 95.12 MB\n"
          ]
        }
      ],
      "source": [
        "import os\n",
        "def print_model_size(model):\n",
        "    torch.save(model.state_dict(), \"temp.p\")\n",
        "    print(f'Size: {os.path.getsize(\"temp.p\")/1e6:.2f} MB')\n",
        "    os.remove('temp.p')\n",
        "\n",
        "print_model_size(qmodel)\n",
        "print_model_size(model)"
      ],
      "id": "56e04513"
    },
    {
      "cell_type": "code",
      "execution_count": 14,
      "metadata": {
        "id": "TxsdFuMrPleV"
      },
      "outputs": [],
      "source": [
        "torch.save(qmodel.state_dict(), \"quantized_res50_c100.pth\")"
      ],
      "id": "TxsdFuMrPleV"
    },
    {
      "cell_type": "code",
      "execution_count": 14,
      "metadata": {
        "id": "JJ4iwacl2pQw"
      },
      "outputs": [],
      "source": [],
      "id": "JJ4iwacl2pQw"
    }
  ],
  "metadata": {
    "accelerator": "GPU",
    "colab": {
      "provenance": []
    },
    "kernelspec": {
      "display_name": "Python 3",
      "name": "python3"
    },
    "language_info": {
      "codemirror_mode": {
        "name": "ipython",
        "version": 3
      },
      "file_extension": ".py",
      "mimetype": "text/x-python",
      "name": "python",
      "nbconvert_exporter": "python",
      "pygments_lexer": "ipython3",
      "version": "3.8.13"
    }
  },
  "nbformat": 4,
  "nbformat_minor": 5
}