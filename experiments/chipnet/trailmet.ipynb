{
 "cells": [
  {
   "cell_type": "code",
   "execution_count": null,
   "metadata": {
    "id": "7oG6HvYBfkHo"
   },
   "outputs": [],
   "source": [
    "# !git clone https://github.com/transmuteAI/trailmet.git"
   ]
  },
  {
   "cell_type": "code",
   "execution_count": null,
   "metadata": {
    "colab": {
     "base_uri": "https://localhost:8080/"
    },
    "id": "VetCppy4hbxn",
    "outputId": "0ac905ce-07b1-4c99-84f5-97cf3756a5a9"
   },
   "outputs": [
    {
     "name": "stdout",
     "output_type": "stream",
     "text": [
      "/content/trailmet\n"
     ]
    }
   ],
   "source": [
    "cd trailmet"
   ]
  },
  {
   "cell_type": "code",
   "execution_count": null,
   "metadata": {
    "id": "dn23g8MVfsZl"
   },
   "outputs": [],
   "source": [
    "# !git checkout chipnet-base"
   ]
  },
  {
   "cell_type": "code",
   "execution_count": null,
   "metadata": {
    "colab": {
     "base_uri": "https://localhost:8080/"
    },
    "id": "ZXXfxXe3iZjK",
    "outputId": "b9f8f08e-2924-46b1-b5ea-2ec18f0602b1"
   },
   "outputs": [
    {
     "name": "stdout",
     "output_type": "stream",
     "text": [
      "remote: Enumerating objects: 6, done.\u001b[K\n",
      "remote: Counting objects:  20% (1/5)\u001b[K\rremote: Counting objects:  40% (2/5)\u001b[K\rremote: Counting objects:  60% (3/5)\u001b[K\rremote: Counting objects:  80% (4/5)\u001b[K\rremote: Counting objects: 100% (5/5)\u001b[K\rremote: Counting objects: 100% (5/5), done.\u001b[K\n",
      "remote: Total 6 (delta 4), reused 4 (delta 4), pack-reused 1\u001b[K\n",
      "Unpacking objects:  16% (1/6)   \rUnpacking objects:  33% (2/6)   \rUnpacking objects:  50% (3/6)   \rUnpacking objects:  66% (4/6)   \rUnpacking objects:  83% (5/6)   \rUnpacking objects: 100% (6/6)   \rUnpacking objects: 100% (6/6), done.\n",
      "From https://github.com/transmuteAI/trailmet\n",
      "   a807d84..6f91d78  chipnet-base -> origin/chipnet-base\n",
      "Updating a807d84..6f91d78\n",
      "error: Your local changes to the following files would be overwritten by merge:\n",
      "\ttrailmet/algorithms/prune/chipnet.py\n",
      "Please commit your changes or stash them before you merge.\n",
      "Aborting\n"
     ]
    }
   ],
   "source": [
    "!git pull"
   ]
  },
  {
   "cell_type": "code",
   "execution_count": null,
   "metadata": {
    "id": "00sPY6MAgiDs"
   },
   "outputs": [],
   "source": [
    "import torch\n",
    "import matplotlib.pyplot as plt\n",
    "from torchvision import transforms\n",
    "from trailmet.models import ModelsFactory\n",
    "from trailmet.datasets.classification import DatasetFactory\n"
   ]
  },
  {
   "cell_type": "code",
   "execution_count": null,
   "metadata": {
    "id": "PIQLNQoxgjPs"
   },
   "outputs": [],
   "source": [
    "import yaml"
   ]
  },
  {
   "cell_type": "code",
   "execution_count": null,
   "metadata": {
    "id": "m4ZIHtD5glW8"
   },
   "outputs": [],
   "source": [
    "root = \"/content/trailmet/experiments/chipnet\""
   ]
  },
  {
   "cell_type": "code",
   "execution_count": null,
   "metadata": {
    "colab": {
     "base_uri": "https://localhost:8080/"
    },
    "id": "ssYYKAEOg6V9",
    "outputId": "8de3eb1f-6219-4a22-eec1-ffd98bd5176e"
   },
   "outputs": [
    {
     "name": "stdout",
     "output_type": "stream",
     "text": [
      "Overwriting experiments/chipnet/resnet50_cifar10.yaml\n"
     ]
    }
   ],
   "source": [
    "%%writefile experiments/chipnet/resnet50_cifar10.yaml\n",
    "CHIPNET_ARGS:\n",
    "    A: 10\n",
    "\n",
    "PRETRAIN:\n",
    "    EPOCHS: 1\n",
    "\n",
    "PRUNE:\n",
    "    EPOCHS: 1\n",
    "\n",
    "FINETUNE:\n",
    "    EPOCHS: 2"
   ]
  },
  {
   "cell_type": "code",
   "execution_count": null,
   "metadata": {
    "id": "ERlB8am0gsWs"
   },
   "outputs": [],
   "source": [
    "import os\n",
    "with open(os.path.join(root, \"resnet50_cifar10.yaml\"), 'r') as stream:\n",
    "    data_loaded = yaml.safe_load(stream)"
   ]
  },
  {
   "cell_type": "code",
   "execution_count": null,
   "metadata": {
    "colab": {
     "base_uri": "https://localhost:8080/"
    },
    "id": "xtZi9xMfgwa8",
    "outputId": "90156cba-a5d4-433c-8124-3af3f564e200"
   },
   "outputs": [
    {
     "name": "stdout",
     "output_type": "stream",
     "text": [
      "{'CHIPNET_ARGS': {'A': 10}, 'PRETRAIN': {'EPOCHS': 1}, 'PRUNE': {'EPOCHS': 1}, 'FINETUNE': {'EPOCHS': 2}}\n"
     ]
    }
   ],
   "source": [
    "print(data_loaded)"
   ]
  },
  {
   "cell_type": "code",
   "execution_count": null,
   "metadata": {
    "id": "4FWWmLM-xXHj"
   },
   "outputs": [],
   "source": [
    "model = ModelsFactory.create_model('resnet18', 10, False, insize=32)"
   ]
  },
  {
   "cell_type": "code",
   "execution_count": null,
   "metadata": {
    "id": "Y3HUd7Mc1zzD"
   },
   "outputs": [],
   "source": [
    "pretrained_weights = \"https://download.pytorch.org/models/resnet18-f37072fd.pth\""
   ]
  },
  {
   "cell_type": "code",
   "execution_count": null,
   "metadata": {
    "id": "morgT96my527"
   },
   "outputs": [],
   "source": [
    "from torch.hub import load_state_dict_from_url\n",
    "weights = load_state_dict_from_url(pretrained_weights)"
   ]
  },
  {
   "cell_type": "code",
   "execution_count": null,
   "metadata": {
    "id": "_GY6NvE8i84i"
   },
   "outputs": [],
   "source": [
    "from trailmet.datasets.classification import DatasetFactory\n",
    "data_root = \"/content/data_dir\""
   ]
  },
  {
   "cell_type": "code",
   "execution_count": null,
   "metadata": {
    "colab": {
     "base_uri": "https://localhost:8080/"
    },
    "id": "33O4MTTojJzx",
    "outputId": "7b8caef2-5ac4-4317-fb9e-a51508c5e345"
   },
   "outputs": [
    {
     "name": "stdout",
     "output_type": "stream",
     "text": [
      "mkdir: cannot create directory ‘/content/data_dir’: File exists\n"
     ]
    }
   ],
   "source": [
    "mkdir /content/data_dir"
   ]
  },
  {
   "cell_type": "code",
   "execution_count": null,
   "metadata": {
    "colab": {
     "base_uri": "https://localhost:8080/"
    },
    "id": "3bPNmrHfjTTS",
    "outputId": "f2f5e2f1-d60a-4e89-ac1e-a9fdb0c92b1e"
   },
   "outputs": [
    {
     "name": "stdout",
     "output_type": "stream",
     "text": [
      "Files already downloaded and verified\n",
      "Files already downloaded and verified\n",
      "Files already downloaded and verified\n"
     ]
    }
   ],
   "source": [
    "train_transform = transforms.Compose(\n",
    "[transforms.ToTensor()])\n",
    "\n",
    "val_transform = transforms.Compose(\n",
    "[transforms.ToTensor()])\n",
    "\n",
    "test_transform = transforms.Compose(\n",
    "[transforms.ToTensor()])\n",
    "\n",
    "transforms1 = {\n",
    "    'train': train_transform, \n",
    "    'val': val_transform, \n",
    "    'test': test_transform}\n",
    "def train_target_transform(label):\n",
    "    return label\n",
    "\n",
    "def val_target_transform(label):\n",
    "    return label\n",
    "\n",
    "def test_target_transform(label):\n",
    "    return label\n",
    "\n",
    "target_transforms = {\n",
    "    'train': None, \n",
    "    'val': None, \n",
    "    'test': None}\n",
    "\n",
    "\n",
    "cifar_dataset = DatasetFactory.create_dataset(name = 'CIFAR10', \n",
    "                                        root = data_root,\n",
    "                                        split_types = ['train', 'val', 'test'],\n",
    "                                        val_fraction = 0.2,\n",
    "                                        transform = transforms1,\n",
    "                                        target_transform = target_transforms\n",
    "                                        )"
   ]
  },
  {
   "cell_type": "code",
   "execution_count": null,
   "metadata": {
    "id": "c1eHb1TUjjdq"
   },
   "outputs": [],
   "source": [
    "train_loader = torch.utils.data.DataLoader(\n",
    "        cifar_dataset['train_dataset'], batch_size=64, \n",
    "        sampler=cifar_dataset['train_sampler'],\n",
    "        num_workers=0\n",
    "    )\n",
    "val_loader = torch.utils.data.DataLoader(\n",
    "        cifar_dataset['val_dataset'], batch_size=64, \n",
    "        sampler=cifar_dataset['val_sampler'],\n",
    "        num_workers=0\n",
    "    )\n",
    "test_loader = torch.utils.data.DataLoader(\n",
    "        cifar_dataset['test_dataset'], batch_size=64, \n",
    "        sampler=cifar_dataset['test_sampler'],\n",
    "        num_workers=0\n",
    "    )"
   ]
  },
  {
   "cell_type": "code",
   "execution_count": null,
   "metadata": {
    "id": "dZJn7ID5jyvo"
   },
   "outputs": [],
   "source": [
    "from trailmet.algorithms.prune.chipnet import ChipNet"
   ]
  },
  {
   "cell_type": "code",
   "execution_count": null,
   "metadata": {
    "id": "mXYsp56RqD2T"
   },
   "outputs": [],
   "source": [
    "a = ChipNet(model, {'train': train_loader, 'val': val_loader, 'test': test_loader}, **data_loaded)"
   ]
  },
  {
   "cell_type": "code",
   "execution_count": null,
   "metadata": {
    "colab": {
     "base_uri": "https://localhost:8080/"
    },
    "id": "n-HOCWUwkfoi",
    "outputId": "2ff823ef-8abc-40b2-d663-8a92fc57254f"
   },
   "outputs": [
    {
     "name": "stdout",
     "output_type": "stream",
     "text": [
      "starting pretraining\n"
     ]
    },
    {
     "name": "stderr",
     "output_type": "stream",
     "text": [
      "100%|██████████| 625/625 [00:24<00:00, 25.15it/s, loss=7.37]\n",
      "100%|██████████| 157/157 [00:03<00:00, 52.13it/s, acc=0.368, loss=1.99]\n"
     ]
    },
    {
     "name": "stdout",
     "output_type": "stream",
     "text": [
      "**Saving model**\n"
     ]
    },
    {
     "name": "stderr",
     "output_type": "stream",
     "text": [
      "100%|██████████| 157/157 [00:03<00:00, 50.79it/s, acc=0.367, loss=1.98]\n"
     ]
    },
    {
     "name": "stdout",
     "output_type": "stream",
     "text": [
      "Test Accuracy: 0.3668 | Valid Accuracy: 0.368\n",
      "pretraining done\n",
      "starting pruning\n",
      "preparing model for pruning\n",
      "Starting epoch 1 / 1\n"
     ]
    },
    {
     "name": "stderr",
     "output_type": "stream",
     "text": [
      "100%|██████████| 625/625 [00:41<00:00, 15.03it/s, loss=4.65]\n"
     ]
    },
    {
     "name": "stdout",
     "output_type": "stream",
     "text": [
      "[1 / 1] Validation before pruning\n"
     ]
    },
    {
     "name": "stderr",
     "output_type": "stream",
     "text": [
      "100%|██████████| 157/157 [00:06<00:00, 25.40it/s, acc=0.632, loss=2.03]\n"
     ]
    },
    {
     "name": "stdout",
     "output_type": "stream",
     "text": [
      "[1 / 1] Validation after pruning\n"
     ]
    },
    {
     "name": "stderr",
     "output_type": "stream",
     "text": [
      "100%|██████████| 157/157 [00:05<00:00, 31.32it/s, acc=0.239, loss=37.3]\n"
     ]
    },
    {
     "name": "stdout",
     "output_type": "stream",
     "text": [
      "Changed beta to 1.02 changed gamma to 2.8284271247461903\n",
      "**Saving checkpoint**\n",
      "pruning done\n",
      "starting finetuning\n",
      "preparing model for finetuning\n"
     ]
    },
    {
     "name": "stderr",
     "output_type": "stream",
     "text": [
      "100%|██████████| 625/625 [00:26<00:00, 23.65it/s, loss=0.815]\n",
      "100%|██████████| 157/157 [00:03<00:00, 39.44it/s, acc=0.47, loss=1.63]\n"
     ]
    },
    {
     "name": "stdout",
     "output_type": "stream",
     "text": [
      "**Saving model**\n"
     ]
    },
    {
     "name": "stderr",
     "output_type": "stream",
     "text": [
      "100%|██████████| 625/625 [00:25<00:00, 24.05it/s, loss=0.676]\n",
      "100%|██████████| 157/157 [00:03<00:00, 39.65it/s, acc=0.729, loss=0.787]\n"
     ]
    },
    {
     "name": "stdout",
     "output_type": "stream",
     "text": [
      "**Saving model**\n"
     ]
    },
    {
     "name": "stderr",
     "output_type": "stream",
     "text": [
      "100%|██████████| 157/157 [00:04<00:00, 36.37it/s, acc=0.728, loss=0.786]"
     ]
    },
    {
     "name": "stdout",
     "output_type": "stream",
     "text": [
      "Test Accuracy: 0.7278 | Valid Accuracy: 0.7285\n",
      "finetuning done\n"
     ]
    },
    {
     "name": "stderr",
     "output_type": "stream",
     "text": [
      "\n"
     ]
    }
   ],
   "source": [
    "a.compress_model()"
   ]
  },
  {
   "cell_type": "code",
   "execution_count": null,
   "metadata": {
    "colab": {
     "base_uri": "https://localhost:8080/"
    },
    "id": "xkwP1YOIkggZ",
    "outputId": "0ad0bfcb-987d-48da-b3e8-b9354d75dbac"
   },
   "outputs": [
    {
     "data": {
      "text/plain": [
       "1"
      ]
     },
     "execution_count": 22,
     "metadata": {},
     "output_type": "execute_result"
    }
   ],
   "source": [
    "sum([0,0,True])"
   ]
  },
  {
   "cell_type": "code",
   "execution_count": null,
   "metadata": {
    "id": "RuUVJf8v2aWo"
   },
   "outputs": [],
   "source": [
    ""
   ]
  }
 ],
 "metadata": {
  "accelerator": "GPU",
  "colab": {
   "collapsed_sections": [],
   "name": "trailmet.ipynb",
   "provenance": []
  },
  "gpuClass": "standard",
  "kernelspec": {
   "display_name": "Python 3",
   "name": "python3"
  },
  "language_info": {
   "name": "python"
  }
 },
 "nbformat": 4,
 "nbformat_minor": 0
}
