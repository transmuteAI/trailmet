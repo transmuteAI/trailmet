{
 "cells": [
  {
   "cell_type": "code",
   "execution_count": 1,
   "metadata": {},
   "outputs": [],
   "source": [
    "import os\n",
    "import sys\n",
    "sys.path.append(\"../../\")"
   ]
  },
  {
   "cell_type": "code",
   "execution_count": 2,
   "metadata": {},
   "outputs": [],
   "source": [
    "import torch\n",
    "from torchvision import transforms as transforms\n",
    "from torchvision import datasets as datasets\n",
    "torch.cuda.set_device(7)"
   ]
  },
  {
   "cell_type": "code",
   "execution_count": 3,
   "metadata": {},
   "outputs": [],
   "source": [
    "def build_imagenet_data(data_path: str = '', input_size: int = 224, batch_size: int = 64, workers: int = 4,\n",
    "                        dist_sample: bool = False):\n",
    "    print('==> Using Imagenet Dataset')\n",
    "\n",
    "    traindir = os.path.join(data_path, 'train')\n",
    "    valdir = os.path.join(data_path, 'val')\n",
    "    normalize = transforms.Normalize(mean=[0.485, 0.456, 0.406],\n",
    "                                     std=[0.229, 0.224, 0.225])\n",
    "\n",
    "    #torchvision.set_image_backend('accimage')\n",
    "    train_dataset = datasets.ImageFolder(\n",
    "        traindir,\n",
    "        transforms.Compose([\n",
    "            transforms.RandomResizedCrop(input_size),\n",
    "            transforms.RandomHorizontalFlip(),\n",
    "            transforms.ToTensor(),\n",
    "            normalize,\n",
    "        ]))\n",
    "    val_dataset = datasets.ImageFolder(\n",
    "        valdir,\n",
    "        transforms.Compose([\n",
    "            transforms.Resize(256),\n",
    "            transforms.CenterCrop(input_size),\n",
    "            transforms.ToTensor(),\n",
    "            normalize,\n",
    "        ]))\n",
    "\n",
    "    if dist_sample:\n",
    "        train_sampler = torch.utils.data.distributed.DistributedSampler(train_dataset)\n",
    "        val_sampler = torch.utils.data.distributed.DistributedSampler(val_dataset)\n",
    "    else:\n",
    "        train_sampler = None\n",
    "        val_sampler = None\n",
    "\n",
    "    train_loader = torch.utils.data.DataLoader(\n",
    "        train_dataset, batch_size=batch_size, shuffle=(train_sampler is None),\n",
    "        num_workers=workers, pin_memory=True, sampler=train_sampler)\n",
    "    val_loader = torch.utils.data.DataLoader(\n",
    "        val_dataset,batch_size=batch_size, shuffle=False,\n",
    "        num_workers=workers, pin_memory=True, sampler=val_sampler)\n",
    "    return train_loader, val_loader"
   ]
  },
  {
   "cell_type": "code",
   "execution_count": 4,
   "metadata": {},
   "outputs": [
    {
     "name": "stdout",
     "output_type": "stream",
     "text": [
      "==> Using Imagenet Dataset\n"
     ]
    }
   ],
   "source": [
    "# load data\n",
    "dataloaders = {'train':[], 'val':[]}\n",
    "dataloaders['train'], dataloaders['val'] = build_imagenet_data(data_path='/workspace/code/Akash/ImageNet')"
   ]
  },
  {
   "cell_type": "code",
   "execution_count": 5,
   "metadata": {},
   "outputs": [],
   "source": [
    "# import libraries\n",
    "from trailmet.models import resnet\n",
    "from trailmet.algorithms.quantize.lapq import LAPQ\n",
    "from trailmet.algorithms.quantize.quantize import BaseQuantization"
   ]
  },
  {
   "cell_type": "code",
   "execution_count": 6,
   "metadata": {},
   "outputs": [],
   "source": [
    "# load model\n",
    "cnn = resnet.get_resnet_model('resnet50', 1000, 224, pretrained=True)"
   ]
  },
  {
   "cell_type": "code",
   "execution_count": null,
   "metadata": {},
   "outputs": [
    {
     "name": "stdout",
     "output_type": "stream",
     "text": [
      "Got: 500\n"
     ]
    },
    {
     "data": {
      "application/vnd.jupyter.widget-view+json": {
       "model_id": "96736099aa04430b860e8e99ecad52f3",
       "version_major": 2,
       "version_minor": 0
      },
      "text/html": [
       "<p>Failed to display Jupyter Widget of type <code>TqdmHBox</code>.</p>\n",
       "<p>\n",
       "  If you're reading this message in the Jupyter Notebook or JupyterLab Notebook, it may mean\n",
       "  that the widgets JavaScript is still loading. If this message persists, it\n",
       "  likely means that the widgets JavaScript library is either not installed or\n",
       "  not enabled. See the <a href=\"https://ipywidgets.readthedocs.io/en/stable/user_install.html\">Jupyter\n",
       "  Widgets Documentation</a> for setup instructions.\n",
       "</p>\n",
       "<p>\n",
       "  If you're reading this message in another frontend (for example, a static\n",
       "  rendering on GitHub or <a href=\"https://nbviewer.jupyter.org/\">NBViewer</a>),\n",
       "  it may mean that your frontend doesn't currently support widgets.\n",
       "</p>\n"
      ],
      "text/plain": [
       "  0%|          | 0/10 [00:00<?, ?it/s]"
      ]
     },
     "metadata": {},
     "output_type": "display_data"
    },
    {
     "name": "stderr",
     "output_type": "stream",
     "text": [
      "100%|█████████████████████████████████████████████████████████████████████████████████████████████████████████████████████████████████████| 754/754 [02:48<00:00,  4.47it/s, acc1=74, acc5=91.1, loss=3.58]\n"
     ]
    },
    {
     "name": "stdout",
     "output_type": "stream",
     "text": [
      "==> p intr : 3.34\n",
      "==> loss : 3.5770\n",
      "==> acc@1 | acc@5 : 73.8934 | 90.9317\n",
      "==> iteration: 0, minimum loss so far: 3.7011\n",
      "==> iteration: 20, minimum loss so far: 3.6898\n",
      "==> iteration: 40, minimum loss so far: 3.6846\n",
      "==> iteration: 60, minimum loss so far: 3.6665\n",
      "==> iteration: 80, minimum loss so far: 3.6662\n",
      "==> iteration: 100, minimum loss so far: 3.6583\n",
      "==> iteration: 120, minimum loss so far: 3.6583\n",
      "==> iteration: 140, minimum loss so far: 3.6578\n",
      "==> iteration: 160, minimum loss so far: 3.6578\n",
      "==> iteration: 180, minimum loss so far: 3.6578\n",
      "==> iteration: 200, minimum loss so far: 3.6528\n",
      "==> iteration: 220, minimum loss so far: 3.6498\n",
      "==> iteration: 240, minimum loss so far: 3.6436\n",
      "==> iteration: 260, minimum loss so far: 3.6403\n",
      "==> iteration: 280, minimum loss so far: 3.6403\n",
      "==> iteration: 300, minimum loss so far: 3.6403\n",
      "==> iteration: 320, minimum loss so far: 3.6403\n",
      "==> iteration: 340, minimum loss so far: 3.6403\n",
      "==> iteration: 360, minimum loss so far: 3.6403\n",
      "==> iteration: 380, minimum loss so far: 3.6403\n",
      "==> iteration: 400, minimum loss so far: 3.6403\n",
      "==> iteration: 420, minimum loss so far: 3.6403\n",
      "==> iteration: 440, minimum loss so far: 3.6403\n",
      "==> iteration: 460, minimum loss so far: 3.6401\n",
      "==> iteration: 480, minimum loss so far: 3.6401\n",
      "==> iteration: 500, minimum loss so far: 3.6396\n",
      "==> iteration: 520, minimum loss so far: 3.6396\n",
      "==> iteration: 540, minimum loss so far: 3.6396\n",
      "==> iteration: 560, minimum loss so far: 3.6396\n",
      "==> iteration: 580, minimum loss so far: 3.6391\n",
      "==> iteration: 600, minimum loss so far: 3.6391\n"
     ]
    }
   ],
   "source": [
    "# quantize model\n",
    "kwargs = {\n",
    "    'W_BITS':8, \n",
    "    'A_BITS':8, \n",
    "    'ACT_QUANT':True,\n",
    "    'SYMM':True,\n",
    "    'UINT':True,\n",
    "    'SET_8BIT_HEAD_STEM':False,\n",
    "    'SKIP_HEAD_STEM':True,\n",
    "    'NUM_SAMPLES':1024, \n",
    "    'MAX_ITER':500,\n",
    "    'VERBOSE':True,\n",
    "    'PRINT_FREQ':20,\n",
    "    'GPU_ID':7,\n",
    "    'SEED':42\n",
    "    }\n",
    "qnn = LAPQ(cnn, dataloaders, **kwargs)\n",
    "qnn.compress_model()\n"
   ]
  }
 ],
 "metadata": {
  "kernelspec": {
   "display_name": "Python 3 (ipykernel)",
   "language": "python",
   "name": "python3"
  },
  "language_info": {
   "codemirror_mode": {
    "name": "ipython",
    "version": 3
   },
   "file_extension": ".py",
   "mimetype": "text/x-python",
   "name": "python",
   "nbconvert_exporter": "python",
   "pygments_lexer": "ipython3",
   "version": "3.8.10"
  },
  "vscode": {
   "interpreter": {
    "hash": "96762580dc771c728ac9a1b8aa29a3a420bc09545a8c1a32553175fbb1f6eb2a"
   }
  }
 },
 "nbformat": 4,
 "nbformat_minor": 2
}
