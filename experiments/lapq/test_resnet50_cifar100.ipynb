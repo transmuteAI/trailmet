{
 "cells": [
  {
   "cell_type": "code",
   "execution_count": 1,
   "metadata": {},
   "outputs": [],
   "source": [
    "DEVICE = 'cuda:2'\n",
    "BATCH_SIZE = 256"
   ]
  },
  {
   "cell_type": "code",
   "execution_count": 2,
   "metadata": {},
   "outputs": [],
   "source": [
    "import os\n",
    "import sys\n",
    "import torch\n",
    "import torchvision.datasets as Datasets\n",
    "from torchvision import transforms as tfms\n",
    "from torch.utils.data import DataLoader\n",
    "sys.path.append(\"../../\")\n",
    "torch.cuda.set_device(int(DEVICE[-1]))"
   ]
  },
  {
   "cell_type": "code",
   "execution_count": 3,
   "metadata": {},
   "outputs": [],
   "source": [
    "stats = ((0.5071, 0.4867, 0.4408), (0.2675, 0.2565, 0.2761))\n",
    "train_tfms = tfms.Compose([\n",
    "    tfms.RandomCrop(32, padding=4, padding_mode='reflect'),\n",
    "    tfms.RandomHorizontalFlip(),\n",
    "    tfms.ToTensor(),\n",
    "    tfms.Normalize(*stats, inplace=True)\n",
    "])\n",
    "test_tfms = tfms.Compose([\n",
    "    tfms.ToTensor(),\n",
    "    tfms.Normalize(*stats)\n",
    "])"
   ]
  },
  {
   "cell_type": "code",
   "execution_count": 4,
   "metadata": {},
   "outputs": [
    {
     "name": "stdout",
     "output_type": "stream",
     "text": [
      "Files already downloaded and verified\n",
      "Files already downloaded and verified\n"
     ]
    }
   ],
   "source": [
    "cifar100_train = Datasets.CIFAR100(root='./data', train=True, download=True, transform=test_tfms)\n",
    "cifar100_test = Datasets.CIFAR100(root='./data', train=False, download=True, transform=test_tfms)\n",
    "\n",
    "train_loader = DataLoader(cifar100_train, shuffle=True, num_workers=1, batch_size=BATCH_SIZE)\n",
    "test_loader = DataLoader(cifar100_test, shuffle=False, num_workers=1, batch_size=4*BATCH_SIZE)\n",
    "\n",
    "dataloaders = {\"train\" : train_loader , \"val\" : test_loader}"
   ]
  },
  {
   "cell_type": "code",
   "execution_count": 5,
   "metadata": {},
   "outputs": [],
   "source": [
    "# import libraries\n",
    "from trailmet.models import resnet\n",
    "from trailmet.algorithms.quantize.lapq import LAPQ"
   ]
  },
  {
   "cell_type": "code",
   "execution_count": 6,
   "metadata": {},
   "outputs": [
    {
     "data": {
      "text/plain": [
       "<All keys matched successfully>"
      ]
     },
     "execution_count": 6,
     "metadata": {},
     "output_type": "execute_result"
    }
   ],
   "source": [
    "# load model\n",
    "cnn=resnet.make_resnet50(100,32)\n",
    "checkpoint = torch.load(\"./resnet50_cifar100-pretrained.pth\", map_location=DEVICE)\n",
    "cnn.load_state_dict(checkpoint['state_dict'])"
   ]
  },
  {
   "cell_type": "code",
   "execution_count": 7,
   "metadata": {},
   "outputs": [
    {
     "name": "stderr",
     "output_type": "stream",
     "text": [
      "100%|█████████████████████████████████████████████████████████████████████████████████████████████████████████████████████████████████████████████████| 10/10 [00:06<00:00,  1.65it/s, acc1=72.6, acc5=91.5]\n"
     ]
    },
    {
     "data": {
      "text/plain": [
       "(72.61120834350587, 91.51686019897461)"
      ]
     },
     "execution_count": 7,
     "metadata": {},
     "output_type": "execute_result"
    }
   ],
   "source": [
    "# test model\n",
    "from trailmet.algorithms.algorithms import BaseAlgorithm\n",
    "BaseAlgorithm().test(model=cnn, dataloader=test_loader, device=torch.device(DEVICE))"
   ]
  },
  {
   "cell_type": "code",
   "execution_count": 8,
   "metadata": {
    "scrolled": false
   },
   "outputs": [
    {
     "name": "stdout",
     "output_type": "stream",
     "text": [
      "==> Using seed: 42 and device: cuda:2\n"
     ]
    },
    {
     "name": "stderr",
     "output_type": "stream",
     "text": [
      "100%|█████████████████████████████████████████████████████████████████████████████████████████████████████████████████████████████████████████████████| 10/10 [00:06<00:00,  1.64it/s, acc1=12.6, acc5=31.9]\n"
     ]
    },
    {
     "name": "stdout",
     "output_type": "stream",
     "text": [
      "==> Quantization (W4A8) accuracy before LAPQ: 12.6389 | 31.9342\n"
     ]
    },
    {
     "name": "stderr",
     "output_type": "stream",
     "text": [
      "100%|██████████████████████████████████████████████████████████████████████████████████████████████████████████████████████████████████████████████████| 10/10 [00:55<00:00,  5.55s/it, loss=0.583, p_val=4]\n"
     ]
    },
    {
     "name": "stdout",
     "output_type": "stream",
     "text": [
      "==> using p intr : 3.16\n"
     ]
    },
    {
     "name": "stderr",
     "output_type": "stream",
     "text": [
      "100%|██████████████████████████████████████████████████████████████████████████████████████████████████████████████████████████████████████| 10/10 [00:08<00:00,  1.17it/s, acc1=66.7, acc5=87.3, loss=1.45]\n"
     ]
    },
    {
     "name": "stdout",
     "output_type": "stream",
     "text": [
      "==> Quantization (W4A8) accuracy before Optimization: 66.6829 | 87.3047\n",
      "==> Loss after LpNorm Quantization: 1.4529\n",
      "==> Starting Powell Optimization\n"
     ]
    },
    {
     "name": "stderr",
     "output_type": "stream",
     "text": [
      "100%|██████████████████████████████████████████████████████████████████████████████████████████████████████████████████████████████████| 1000/1000 [30:42<00:00,  1.84s/it, curr_loss=0.194, min_loss=0.194]\n"
     ]
    },
    {
     "name": "stdout",
     "output_type": "stream",
     "text": [
      "==> Layer-wise Scales :\n",
      " [0.25123631 0.23003933 0.46711149 1.63267737 0.41464745 0.15834516\n",
      " 0.19356048 0.52230773 0.38443539 0.09406899 0.15986991 0.61930502\n",
      " 3.3141314  0.25260699 0.10736936 0.45736727 0.50539958 0.21927392\n",
      " 0.07660881 0.15374391 0.32250034 1.24971072 0.10082186 0.13913764\n",
      " 0.44117871 0.35104352 0.12423531 0.22276621 0.50254854 0.45813685\n",
      " 0.18309907 0.04532639 0.25169037 0.63995644 0.19961704 0.0553401\n",
      " 0.08803868 0.34746182 1.42343625 0.05268827 0.09324313 0.28673273\n",
      " 0.33089256 0.05356183 0.09022998 0.34158519 0.34553242 0.07120442\n",
      " 0.1080137  0.30454904 0.3600522  0.09251782 0.12302133 0.26132783\n",
      " 0.40595856 0.17598431 0.10362461 0.44794682 0.73541707 0.14286925\n",
      " 0.02222029 0.18939885 0.39786395 0.51783663 0.0080806  0.09720036]\n"
     ]
    },
    {
     "name": "stderr",
     "output_type": "stream",
     "text": [
      "100%|█████████████████████████████████████████████████████████████████████████████████████████████████████████████████████████████████████████████████| 10/10 [00:08<00:00,  1.15it/s, acc1=68.9, acc5=88.7]\n"
     ]
    },
    {
     "name": "stdout",
     "output_type": "stream",
     "text": [
      "==> Full quantization (W4A8) accuracy: (68.88372955322265, 88.67466506958007)\n"
     ]
    }
   ],
   "source": [
    "# quantize model\n",
    "kwargs = {\n",
    "    'W_BITS':4, \n",
    "    'A_BITS':8, \n",
    "    'ACT_QUANT':True,\n",
    "    'CALIB_BATCHES':1024//BATCH_SIZE, \n",
    "    'MAX_ITER':1000,\n",
    "    'MAX_FEV':1000,\n",
    "    'VERBOSE':True,\n",
    "    'PRINT_FREQ':5,\n",
    "    'GPU_ID':int(DEVICE[-1]),\n",
    "    'SEED':42\n",
    "    }\n",
    "qnn = LAPQ(cnn, dataloaders, **kwargs)\n",
    "qnn.compress_model()"
   ]
  },
  {
   "cell_type": "code",
   "execution_count": 9,
   "metadata": {},
   "outputs": [
    {
     "name": "stderr",
     "output_type": "stream",
     "text": [
      "100%|█████████████████████████████████████████████████████████████████████████████████████████████████████████████████████████████████████████████████| 10/10 [00:08<00:00,  1.16it/s, acc1=68.9, acc5=88.7]\n"
     ]
    },
    {
     "data": {
      "text/plain": [
       "(68.88372955322265, 88.67466506958007)"
      ]
     },
     "execution_count": 9,
     "metadata": {},
     "output_type": "execute_result"
    }
   ],
   "source": [
    "# test quantized model\n",
    "from trailmet.algorithms.algorithms import BaseAlgorithm\n",
    "BaseAlgorithm().test(model=qnn.model, dataloader=test_loader, device=torch.device(DEVICE))"
   ]
  },
  {
   "cell_type": "code",
   "execution_count": null,
   "metadata": {},
   "outputs": [],
   "source": []
  }
 ],
 "metadata": {
  "kernelspec": {
   "display_name": "Python 3 (ipykernel)",
   "language": "python",
   "name": "python3"
  },
  "language_info": {
   "codemirror_mode": {
    "name": "ipython",
    "version": 3
   },
   "file_extension": ".py",
   "mimetype": "text/x-python",
   "name": "python",
   "nbconvert_exporter": "python",
   "pygments_lexer": "ipython3",
   "version": "3.8.10"
  },
  "vscode": {
   "interpreter": {
    "hash": "96762580dc771c728ac9a1b8aa29a3a420bc09545a8c1a32553175fbb1f6eb2a"
   }
  }
 },
 "nbformat": 4,
 "nbformat_minor": 2
}
