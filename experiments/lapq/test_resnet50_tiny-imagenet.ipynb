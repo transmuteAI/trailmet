{
 "cells": [
  {
   "cell_type": "code",
   "execution_count": 1,
   "metadata": {},
   "outputs": [],
   "source": [
    "DEVICE = 'cuda:2'\n",
    "BATCH_SIZE = 64"
   ]
  },
  {
   "cell_type": "code",
   "execution_count": 2,
   "metadata": {},
   "outputs": [],
   "source": [
    "import os\n",
    "import sys\n",
    "import torch\n",
    "sys.path.append(\"../../\")\n",
    "torch.cuda.set_device(int(DEVICE[-1]))"
   ]
  },
  {
   "cell_type": "code",
   "execution_count": 3,
   "metadata": {},
   "outputs": [],
   "source": [
    "# import libraries\n",
    "from experiments.lapq.datasets import DataManager\n",
    "from trailmet.models import resnet\n",
    "from trailmet.algorithms.quantize.lapq import LAPQ"
   ]
  },
  {
   "cell_type": "code",
   "execution_count": 4,
   "metadata": {},
   "outputs": [
    {
     "name": "stdout",
     "output_type": "stream",
     "text": [
      "... Preparing data ...\n",
      "File already downloaded\n",
      "File already downloaded\n",
      "File already downloaded\n",
      "using fixed split\n",
      "90000 10000\n"
     ]
    }
   ],
   "source": [
    "data_object = DataManager()\n",
    "trainloader, valloader, testloader = data_object.prepare_data()\n",
    "dataloaders = {'train': trainloader, 'calib': valloader, \"val\": testloader}"
   ]
  },
  {
   "cell_type": "code",
   "execution_count": 5,
   "metadata": {},
   "outputs": [
    {
     "data": {
      "text/plain": [
       "<All keys matched successfully>"
      ]
     },
     "execution_count": 5,
     "metadata": {},
     "output_type": "execute_result"
    }
   ],
   "source": [
    "# load model\n",
    "cnn = resnet.get_resnet_model('resnet50', 200, 64, pretrained=False)\n",
    "checkpoint = torch.load(\"./resnet50_tinyimagenet_pretrained.pth\", map_location=DEVICE)\n",
    "cnn.load_state_dict(checkpoint['state_dict'])"
   ]
  },
  {
   "cell_type": "code",
   "execution_count": 6,
   "metadata": {},
   "outputs": [
    {
     "name": "stderr",
     "output_type": "stream",
     "text": [
      "100%|███████████████████████████████████████████████████████████████████████████████████████████████████████████████████████████████████████████████| 157/157 [00:12<00:00, 13.05it/s, acc1=59.6, acc5=81.5]\n"
     ]
    },
    {
     "data": {
      "text/plain": [
       "(59.613853503184714, 81.47890127388536)"
      ]
     },
     "execution_count": 6,
     "metadata": {},
     "output_type": "execute_result"
    }
   ],
   "source": [
    "# test model\n",
    "from trailmet.algorithms.algorithms import BaseAlgorithm\n",
    "BaseAlgorithm().test(model=cnn, dataloader=dataloaders['val'], device=torch.device(DEVICE))"
   ]
  },
  {
   "cell_type": "code",
   "execution_count": 7,
   "metadata": {},
   "outputs": [
    {
     "name": "stdout",
     "output_type": "stream",
     "text": [
      "==> Using seed: 42 and device: cuda:2\n"
     ]
    },
    {
     "name": "stderr",
     "output_type": "stream",
     "text": [
      "100%|█████████████████████████████████████████████████████████████████████████████████████████████████████████████████████████████████████████████████| 157/157 [01:37<00:00,  1.61it/s, acc1=58.7, acc5=81]\n"
     ]
    },
    {
     "name": "stdout",
     "output_type": "stream",
     "text": [
      "==> Quantization (W8A8) accuracy before LAPQ: 58.7480 | 80.9713\n"
     ]
    },
    {
     "name": "stderr",
     "output_type": "stream",
     "text": [
      "100%|██████████████████████████████████████████████████████████████████████████████████████████████████████████████████████████████████████████████████| 10/10 [03:11<00:00, 19.11s/it, loss=0.714, p_val=4]\n"
     ]
    },
    {
     "name": "stdout",
     "output_type": "stream",
     "text": [
      "==> using p intr : 3.42\n"
     ]
    },
    {
     "name": "stderr",
     "output_type": "stream",
     "text": [
      "100%|████████████████████████████████████████████████████████████████████████████████████████████████████████████████████████████████████| 157/157 [01:43<00:00,  1.52it/s, acc1=58.5, acc5=80.8, loss=1.76]\n"
     ]
    },
    {
     "name": "stdout",
     "output_type": "stream",
     "text": [
      "==> Quantization (W8A8) accuracy before Optimization: 58.4893 | 80.8221\n",
      "==> Loss after LpNorm Quantization: 1.7571\n",
      "==> Starting Powell Optimization\n"
     ]
    },
    {
     "name": "stderr",
     "output_type": "stream",
     "text": [
      "100%|████████████████████████████████████████████████████████████████████████████████████████████████████████████████████████████████████| 100/100 [15:27<00:00,  9.28s/it, curr_loss=0.802, min_loss=0.801]\n"
     ]
    },
    {
     "name": "stdout",
     "output_type": "stream",
     "text": [
      "==> Layer-wise Scales :\n",
      " [0.76732412 0.1708154  0.73032549 3.5942775  1.38828419 0.42208314\n",
      " 0.43678823 1.63470995 0.8616091  0.30070755 0.40909269 1.18723071\n",
      " 0.54597455 0.45366174 0.44391575 0.87166148 0.85467261 0.69831443\n",
      " 0.3288452  0.36065897 1.70181191 0.52933598 0.42445689 0.47822899\n",
      " 0.64057261 0.49391904 0.31407401 0.49710608 0.87855458 0.62337083\n",
      " 0.4534944  0.17147495 0.72989857 1.29332173 0.61206615 0.19430335\n",
      " 0.40519947 1.25222135 0.67409742 0.37798271 0.32127845 1.05952668\n",
      " 0.52090627 0.29425791 0.1359327  0.89971143 0.55755585 0.14317717\n",
      " 0.17550938 0.8929401  0.68530428 0.39004546 0.26673165 1.07781041\n",
      " 0.78103995 0.34187454 0.17926063 1.01454782 1.14515138 0.45034611\n",
      " 0.1075656  0.18343365 1.73643827 0.94523704 0.14316259 0.2444692 ]\n"
     ]
    },
    {
     "name": "stderr",
     "output_type": "stream",
     "text": [
      "100%|█████████████████████████████████████████████████████████████████████████████████████████████████████████████████████████████████████████████████| 157/157 [01:28<00:00,  1.78it/s, acc1=58.6, acc5=81]\n"
     ]
    },
    {
     "name": "stdout",
     "output_type": "stream",
     "text": [
      "==> Full quantization (W8A8) accuracy: (58.55891719745223, 80.9812898089172)\n"
     ]
    }
   ],
   "source": [
    "# quantize model\n",
    "kwargs = {\n",
    "    'W_BITS':8, \n",
    "    'A_BITS':8, \n",
    "    'ACT_QUANT':True,\n",
    "    'CALIB_BATCHES':1024//BATCH_SIZE, \n",
    "    'MAX_ITER':100,\n",
    "    'MAX_FEV':100,\n",
    "    'VERBOSE':True,\n",
    "    'PRINT_FREQ':20,\n",
    "    'GPU_ID':int(DEVICE[-1]),\n",
    "    'SEED':42\n",
    "    }\n",
    "qnn = LAPQ(cnn, dataloaders, **kwargs)\n",
    "qnn.compress_model()"
   ]
  },
  {
   "cell_type": "code",
   "execution_count": 8,
   "metadata": {},
   "outputs": [
    {
     "name": "stderr",
     "output_type": "stream",
     "text": [
      "100%|█████████████████████████████████████████████████████████████████████████████████████████████████████████████████████████████████████████████████| 157/157 [01:26<00:00,  1.81it/s, acc1=58.6, acc5=81]\n"
     ]
    },
    {
     "data": {
      "text/plain": [
       "(58.55891719745223, 80.9812898089172)"
      ]
     },
     "execution_count": 8,
     "metadata": {},
     "output_type": "execute_result"
    }
   ],
   "source": [
    "# test quantized model\n",
    "from trailmet.algorithms.algorithms import BaseAlgorithm\n",
    "BaseAlgorithm().test(model=qnn.model, dataloader=dataloaders['val'], device=torch.device(DEVICE))"
   ]
  },
  {
   "cell_type": "code",
   "execution_count": null,
   "metadata": {},
   "outputs": [],
   "source": []
  }
 ],
 "metadata": {
  "kernelspec": {
   "display_name": "Python 3 (ipykernel)",
   "language": "python",
   "name": "python3"
  },
  "language_info": {
   "codemirror_mode": {
    "name": "ipython",
    "version": 3
   },
   "file_extension": ".py",
   "mimetype": "text/x-python",
   "name": "python",
   "nbconvert_exporter": "python",
   "pygments_lexer": "ipython3",
   "version": "3.8.10"
  },
  "vscode": {
   "interpreter": {
    "hash": "96762580dc771c728ac9a1b8aa29a3a420bc09545a8c1a32553175fbb1f6eb2a"
   }
  }
 },
 "nbformat": 4,
 "nbformat_minor": 2
}
