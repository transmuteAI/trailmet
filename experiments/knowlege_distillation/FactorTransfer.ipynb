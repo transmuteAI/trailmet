{
 "cells": [
  {
   "cell_type": "code",
   "execution_count": 1,
   "metadata": {
    "id": "CP9FUD9yVTn3"
   },
   "outputs": [],
   "source": [
    "from trailmet.algorithms.distill.factor_transfer import FactorTransfer, Paraphraser\n",
    "import torch\n",
    "import torchvision\n",
    "import torch.nn as nn\n",
    "from torchvision import transforms\n",
    "from torch.utils.data import Dataset, DataLoader\n",
    "\n",
    "from tqdm import tqdm\n",
    "from sklearn.metrics import accuracy_score\n",
    "import numpy as np"
   ]
  },
  {
   "cell_type": "markdown",
   "metadata": {
    "id": "pC124keNVTn6"
   },
   "source": [
    "# Dataset"
   ]
  },
  {
   "cell_type": "code",
   "execution_count": 2,
   "metadata": {
    "id": "_mHEwwycVTn8"
   },
   "outputs": [],
   "source": [
    "device = torch.device('cuda' if torch.cuda.is_available() else 'cpu')"
   ]
  },
  {
   "cell_type": "code",
   "execution_count": 3,
   "metadata": {
    "id": "0EwK_RVoVTn8"
   },
   "outputs": [],
   "source": [
    "transform_train = transforms.Compose(\n",
    "                [\n",
    "                    transforms.ToTensor(),\n",
    "                    transforms.Pad(4, padding_mode='reflect'),\n",
    "                    transforms.RandomHorizontalFlip(p=0.5),\n",
    "                    transforms.RandomCrop(32),\n",
    "                    transforms.Normalize((0.4914, 0.4822, 0.4465), (0.247, 0.243, 0.261))\n",
    "                ]\n",
    "            )\n",
    "\n",
    "transform_train_paraphraser = transforms.Compose(\n",
    "                [\n",
    "                    transforms.ToTensor(),\n",
    "                    transforms.RandomCrop(32, padding=4),\n",
    "                    transforms.RandomHorizontalFlip(),\n",
    "                    transforms.Normalize((0.4914, 0.4822, 0.4465), (0.247, 0.243, 0.261))\n",
    "                ]\n",
    "            )\n",
    "\n",
    "transform_test = transforms.Compose(\n",
    "                [\n",
    "                    transforms.ToTensor(),\n",
    "                    transforms.Normalize((0.4914, 0.4822, 0.4465), (0.247, 0.243, 0.261))\n",
    "                ]\n",
    "            )\n",
    "\n",
    "transforms1 = {\n",
    "    'train': transform_train, \n",
    "    'val': transform_test, \n",
    "    'test': transform_test}\n",
    "\n",
    "target_transforms = {\n",
    "    'train': None, \n",
    "    'val': None, \n",
    "    'test': None}"
   ]
  },
  {
   "cell_type": "code",
   "execution_count": 4,
   "metadata": {
    "colab": {
     "base_uri": "https://localhost:8080/"
    },
    "id": "PHFlUHnSgRTD",
    "outputId": "16679e32-060c-443b-96d6-ddc57a7e4f58"
   },
   "outputs": [
    {
     "name": "stdout",
     "output_type": "stream",
     "text": [
      "Files already downloaded and verified\n",
      "Files already downloaded and verified\n",
      "Files already downloaded and verified\n"
     ]
    }
   ],
   "source": [
    "from trailmet.datasets.classification import DatasetFactory\n",
    "\n",
    "cifar_dataset = DatasetFactory.create_dataset(name = 'CIFAR10', \n",
    "                                        root = \"./data\",\n",
    "                                        split_types = ['train', 'val', 'test'],\n",
    "                                        val_fraction = 0.1,\n",
    "                                        transform = transforms1,\n",
    "                                        target_transform = target_transforms,\n",
    "                                        random_seed=27\n",
    "                                        )"
   ]
  },
  {
   "cell_type": "code",
   "execution_count": 5,
   "metadata": {
    "id": "PRVfJ1rig3YY"
   },
   "outputs": [],
   "source": [
    "train_loader = torch.utils.data.DataLoader(\n",
    "        cifar_dataset['train_dataset'], batch_size=128, \n",
    "        sampler=cifar_dataset['train_sampler'],\n",
    "        num_workers=2\n",
    "    )\n",
    "\n",
    "val_loader = torch.utils.data.DataLoader(\n",
    "        cifar_dataset['val_dataset'], batch_size=128, \n",
    "        sampler=cifar_dataset['val_sampler'],\n",
    "        num_workers=2\n",
    "    )\n",
    "\n",
    "test_loader = torch.utils.data.DataLoader(\n",
    "        cifar_dataset['test_dataset'], batch_size=128, \n",
    "        sampler=cifar_dataset['test_sampler'],\n",
    "        num_workers=2\n",
    "    )"
   ]
  },
  {
   "cell_type": "code",
   "execution_count": 6,
   "metadata": {
    "id": "UE7yYGUUiZ3U"
   },
   "outputs": [],
   "source": [
    "dataloaders = {'train':train_loader, 'val':val_loader, 'test':test_loader}"
   ]
  },
  {
   "cell_type": "code",
   "execution_count": 7,
   "metadata": {},
   "outputs": [],
   "source": [
    "transforms1 = {\n",
    "    'train': transform_train_paraphraser, \n",
    "    'val': transform_test, \n",
    "    'test': transform_test}"
   ]
  },
  {
   "cell_type": "code",
   "execution_count": 8,
   "metadata": {},
   "outputs": [
    {
     "name": "stdout",
     "output_type": "stream",
     "text": [
      "Files already downloaded and verified\n",
      "Files already downloaded and verified\n"
     ]
    }
   ],
   "source": [
    "cifar_dataset = DatasetFactory.create_dataset(name = 'CIFAR10', \n",
    "                                        root = \"./data\",\n",
    "                                        split_types = ['train', 'val'],\n",
    "                                        val_fraction = 0.1,\n",
    "                                        transform = transforms1,\n",
    "                                        target_transform = target_transforms,\n",
    "                                        random_seed=27\n",
    "                                        )"
   ]
  },
  {
   "cell_type": "code",
   "execution_count": 9,
   "metadata": {},
   "outputs": [],
   "source": [
    "train_loader = torch.utils.data.DataLoader(\n",
    "        cifar_dataset['train_dataset'], batch_size=128, \n",
    "        sampler=cifar_dataset['train_sampler'],\n",
    "        num_workers=2\n",
    "    )\n",
    "\n",
    "val_loader = torch.utils.data.DataLoader(\n",
    "        cifar_dataset['val_dataset'], batch_size=128, \n",
    "        sampler=cifar_dataset['val_sampler'],\n",
    "        num_workers=2\n",
    "    )"
   ]
  },
  {
   "cell_type": "code",
   "execution_count": 10,
   "metadata": {},
   "outputs": [],
   "source": [
    "#dataloaders['paraphraser'] = {'train':train_loader, 'val':val_loader}"
   ]
  },
  {
   "cell_type": "markdown",
   "metadata": {
    "id": "frJVv5qoVTn_"
   },
   "source": [
    "# Model"
   ]
  },
  {
   "cell_type": "code",
   "execution_count": 7,
   "metadata": {
    "id": "msaBLaXRVToA"
   },
   "outputs": [],
   "source": [
    "import torch\n",
    "import torch.nn as nn\n",
    "import torch.nn.functional as F\n",
    "\n",
    "from torch.autograd import Variable\n",
    "\n",
    "class BasicBlock(nn.Module):\n",
    "    expansion = 1\n",
    "\n",
    "    def __init__(self, in_planes, planes, stride=1):\n",
    "        super(BasicBlock, self).__init__()\n",
    "        self.conv1 = nn.Conv2d(in_planes, planes, kernel_size=3, stride=stride, padding=1, bias=False)\n",
    "        self.bn1 = nn.BatchNorm2d(planes)\n",
    "        self.conv2 = nn.Conv2d(planes, planes, kernel_size=3, stride=1, padding=1, bias=False)\n",
    "        self.bn2 = nn.BatchNorm2d(planes)\n",
    "\n",
    "        self.shortcut = nn.Sequential()\n",
    "        if stride != 1 or in_planes != self.expansion*planes:\n",
    "            self.shortcut = nn.Sequential(\n",
    "                nn.Conv2d(in_planes, self.expansion*planes, kernel_size=1, stride=stride, bias=False),\n",
    "                nn.BatchNorm2d(self.expansion*planes)\n",
    "            )\n",
    "\n",
    "    def forward(self, x):\n",
    "        out = F.relu(self.bn1(self.conv1(x)))\n",
    "        out = self.bn2(self.conv2(out))\n",
    "        out += self.shortcut(x)\n",
    "        out = F.relu(out)\n",
    "        return out\n",
    "\n",
    "class Bottleneck(nn.Module):\n",
    "    expansion = 4\n",
    "\n",
    "    def __init__(self, in_planes, planes, stride=1):\n",
    "        super(Bottleneck, self).__init__()\n",
    "\n",
    "\n",
    "\n",
    "        self.conv1 = nn.Conv2d(in_planes, planes, kernel_size=1, bias=False)\n",
    "        self.bn1 = nn.BatchNorm2d(planes)\n",
    "        self.conv2 = nn.Conv2d(planes, planes, kernel_size=3, stride=stride, padding=1, bias=False)\n",
    "        self.bn2 = nn.BatchNorm2d(planes)\n",
    "        self.conv3 = nn.Conv2d(planes, self.expansion*planes, kernel_size=1, bias=False)\n",
    "        self.bn3 = nn.BatchNorm2d(self.expansion*planes)\n",
    "\n",
    "        self.shortcut = nn.Sequential()\n",
    "        if stride != 1 or in_planes != self.expansion*planes:\n",
    "            self.shortcut = nn.Sequential(\n",
    "                nn.Conv2d(in_planes, self.expansion*planes, kernel_size=1, stride=stride, bias=False),\n",
    "                nn.BatchNorm2d(self.expansion*planes)\n",
    "            )\n",
    "\n",
    "    def forward(self, x):\n",
    "        out = F.relu(self.bn1(self.conv1(x)))\n",
    "        out = F.relu(self.bn2(self.conv2(out)))\n",
    "        out = self.bn3(self.conv3(out))\n",
    "        out += self.shortcut(x)\n",
    "        out = F.relu(out)\n",
    "        return out\n",
    "\n",
    "class ResNet(nn.Module):\n",
    "    def __init__(self, block, num_blocks, num_classes=10):\n",
    "        super(ResNet, self).__init__()\n",
    "        self.in_planes = 64\n",
    "\n",
    "        self.conv1 = nn.Conv2d(3, 64, kernel_size=3, stride=1, padding=1, bias=False)\n",
    "        self.bn1 = nn.BatchNorm2d(64)\n",
    "        self.layer1 = self._make_layer(block, 64, num_blocks[0], stride=1)\n",
    "        # 1/2 width & height\n",
    "        self.layer2 = self._make_layer(block, 128, num_blocks[1], stride=2)\n",
    "        self.layer3 = self._make_layer(block, 256, num_blocks[2], stride=2)\n",
    "        self.layer4 = self._make_layer(block, 512, num_blocks[3], stride=2)\n",
    "        self.linear = nn.Linear(512*block.expansion, num_classes)\n",
    "    def _make_layer(self, block, planes, num_blocks, stride):\n",
    "        strides = [stride] + [1]*(num_blocks-1)\n",
    "        layers = []\n",
    "        for stride in strides:\n",
    "            layers.append(block(self.in_planes, planes, stride))\n",
    "            self.in_planes = planes * block.expansion\n",
    "        return nn.Sequential(*layers)\n",
    "\n",
    "        # 0 - layer1 ... 4 - output\n",
    "    def forward(self, x):\n",
    "        #attention_map=[];\n",
    "        out = F.relu(self.bn1(self.conv1(x)))\n",
    "        out1 = self.layer1(out)\n",
    "        #attention_map.append(out1)\n",
    "        out2 = self.layer2(out1)\n",
    "        #attention_map.append(out2)\n",
    "        out3 = self.layer3(out2)\n",
    "        #attention_map.append(out3)\n",
    "        out4 = self.layer4(out3)\n",
    "        #attention_map.append(out4)\n",
    "        out = F.avg_pool2d(out4, 4)\n",
    "        out = out.view(out.size(0), -1)\n",
    "        out = self.linear(out)\n",
    "        #attention_map.append(out)\n",
    "        return out\n",
    "\n",
    "class ResNet_simple(nn.Module):\n",
    "    def __init__(self, block, num_blocks, num_classes=10):\n",
    "        super(ResNet_simple, self).__init__()\n",
    "        self.in_planes = 16\n",
    "\n",
    "        self.conv1 = nn.Conv2d(3, 16, kernel_size=3, stride=1, padding=1, bias=False)\n",
    "        self.bn1 = nn.BatchNorm2d(16)\n",
    "        self.layer1 = self._make_layer(block, 16, num_blocks[0], stride=1)\n",
    "        # 1/2 width & height\n",
    "        self.layer2 = self._make_layer(block, 32, num_blocks[1], stride=2)\n",
    "        self.layer3 = self._make_layer(block, 64, num_blocks[2], stride=2)\n",
    "        #self.layer4 = self._make_layer(block, 512, num_blocks[3], stride=2)\n",
    "        self.linear = nn.Linear(64*block.expansion, num_classes)\n",
    "    def _make_layer(self, block, planes, num_blocks, stride):\n",
    "        strides = [stride] + [1]*(num_blocks-1)\n",
    "        layers = []\n",
    "        for stride in strides:\n",
    "            layers.append(block(self.in_planes, planes, stride))\n",
    "            self.in_planes = planes * block.expansion\n",
    "        return nn.Sequential(*layers)\n",
    "\n",
    "        # 0 - layer1 ... 3 - output\n",
    "    def forward(self, x):\n",
    "        #attention_map=[]\n",
    "        out = F.relu(self.bn1(self.conv1(x)))\n",
    "        out1 = self.layer1(out)\n",
    "        #attention_map.append(out1)\n",
    "        out2 = self.layer2(out1)\n",
    "        #attention_map.append(out2)\n",
    "        out3 = self.layer3(out2)\n",
    "        #attention_map.append(out3)\n",
    "        out = F.avg_pool2d(out3, 8)\n",
    "        out = out.view(out.size(0), -1)\n",
    "        out = self.linear(out)\n",
    "        #attention_map.append(out)\n",
    "        return out\n",
    "\n",
    "\n",
    "def ResNet20():\n",
    "    return ResNet_simple(BasicBlock, [3,3,3])\n",
    "\n",
    "def ResNet56():\n",
    "    return ResNet_simple(BasicBlock, [9,9,9])\n",
    "\n",
    "def ResNet112():\n",
    "    return ResNet_simple(BasicBlock, [18,18,18])\n",
    "\n",
    "def ResNet34():\n",
    "    return ResNet(BasicBlock, [3,4,6,3])\n"
   ]
  },
  {
   "cell_type": "code",
   "execution_count": 8,
   "metadata": {
    "colab": {
     "base_uri": "https://localhost:8080/"
    },
    "id": "XifOZKPAVToB",
    "outputId": "66944f36-0649-4f89-ae60-de9166135b96"
   },
   "outputs": [
    {
     "data": {
      "text/plain": [
       "ResNet_simple(\n",
       "  (conv1): Conv2d(3, 16, kernel_size=(3, 3), stride=(1, 1), padding=(1, 1), bias=False)\n",
       "  (bn1): BatchNorm2d(16, eps=1e-05, momentum=0.1, affine=True, track_running_stats=True)\n",
       "  (layer1): Sequential(\n",
       "    (0): BasicBlock(\n",
       "      (conv1): Conv2d(16, 16, kernel_size=(3, 3), stride=(1, 1), padding=(1, 1), bias=False)\n",
       "      (bn1): BatchNorm2d(16, eps=1e-05, momentum=0.1, affine=True, track_running_stats=True)\n",
       "      (conv2): Conv2d(16, 16, kernel_size=(3, 3), stride=(1, 1), padding=(1, 1), bias=False)\n",
       "      (bn2): BatchNorm2d(16, eps=1e-05, momentum=0.1, affine=True, track_running_stats=True)\n",
       "      (shortcut): Sequential()\n",
       "    )\n",
       "    (1): BasicBlock(\n",
       "      (conv1): Conv2d(16, 16, kernel_size=(3, 3), stride=(1, 1), padding=(1, 1), bias=False)\n",
       "      (bn1): BatchNorm2d(16, eps=1e-05, momentum=0.1, affine=True, track_running_stats=True)\n",
       "      (conv2): Conv2d(16, 16, kernel_size=(3, 3), stride=(1, 1), padding=(1, 1), bias=False)\n",
       "      (bn2): BatchNorm2d(16, eps=1e-05, momentum=0.1, affine=True, track_running_stats=True)\n",
       "      (shortcut): Sequential()\n",
       "    )\n",
       "    (2): BasicBlock(\n",
       "      (conv1): Conv2d(16, 16, kernel_size=(3, 3), stride=(1, 1), padding=(1, 1), bias=False)\n",
       "      (bn1): BatchNorm2d(16, eps=1e-05, momentum=0.1, affine=True, track_running_stats=True)\n",
       "      (conv2): Conv2d(16, 16, kernel_size=(3, 3), stride=(1, 1), padding=(1, 1), bias=False)\n",
       "      (bn2): BatchNorm2d(16, eps=1e-05, momentum=0.1, affine=True, track_running_stats=True)\n",
       "      (shortcut): Sequential()\n",
       "    )\n",
       "  )\n",
       "  (layer2): Sequential(\n",
       "    (0): BasicBlock(\n",
       "      (conv1): Conv2d(16, 32, kernel_size=(3, 3), stride=(2, 2), padding=(1, 1), bias=False)\n",
       "      (bn1): BatchNorm2d(32, eps=1e-05, momentum=0.1, affine=True, track_running_stats=True)\n",
       "      (conv2): Conv2d(32, 32, kernel_size=(3, 3), stride=(1, 1), padding=(1, 1), bias=False)\n",
       "      (bn2): BatchNorm2d(32, eps=1e-05, momentum=0.1, affine=True, track_running_stats=True)\n",
       "      (shortcut): Sequential(\n",
       "        (0): Conv2d(16, 32, kernel_size=(1, 1), stride=(2, 2), bias=False)\n",
       "        (1): BatchNorm2d(32, eps=1e-05, momentum=0.1, affine=True, track_running_stats=True)\n",
       "      )\n",
       "    )\n",
       "    (1): BasicBlock(\n",
       "      (conv1): Conv2d(32, 32, kernel_size=(3, 3), stride=(1, 1), padding=(1, 1), bias=False)\n",
       "      (bn1): BatchNorm2d(32, eps=1e-05, momentum=0.1, affine=True, track_running_stats=True)\n",
       "      (conv2): Conv2d(32, 32, kernel_size=(3, 3), stride=(1, 1), padding=(1, 1), bias=False)\n",
       "      (bn2): BatchNorm2d(32, eps=1e-05, momentum=0.1, affine=True, track_running_stats=True)\n",
       "      (shortcut): Sequential()\n",
       "    )\n",
       "    (2): BasicBlock(\n",
       "      (conv1): Conv2d(32, 32, kernel_size=(3, 3), stride=(1, 1), padding=(1, 1), bias=False)\n",
       "      (bn1): BatchNorm2d(32, eps=1e-05, momentum=0.1, affine=True, track_running_stats=True)\n",
       "      (conv2): Conv2d(32, 32, kernel_size=(3, 3), stride=(1, 1), padding=(1, 1), bias=False)\n",
       "      (bn2): BatchNorm2d(32, eps=1e-05, momentum=0.1, affine=True, track_running_stats=True)\n",
       "      (shortcut): Sequential()\n",
       "    )\n",
       "  )\n",
       "  (layer3): Sequential(\n",
       "    (0): BasicBlock(\n",
       "      (conv1): Conv2d(32, 64, kernel_size=(3, 3), stride=(2, 2), padding=(1, 1), bias=False)\n",
       "      (bn1): BatchNorm2d(64, eps=1e-05, momentum=0.1, affine=True, track_running_stats=True)\n",
       "      (conv2): Conv2d(64, 64, kernel_size=(3, 3), stride=(1, 1), padding=(1, 1), bias=False)\n",
       "      (bn2): BatchNorm2d(64, eps=1e-05, momentum=0.1, affine=True, track_running_stats=True)\n",
       "      (shortcut): Sequential(\n",
       "        (0): Conv2d(32, 64, kernel_size=(1, 1), stride=(2, 2), bias=False)\n",
       "        (1): BatchNorm2d(64, eps=1e-05, momentum=0.1, affine=True, track_running_stats=True)\n",
       "      )\n",
       "    )\n",
       "    (1): BasicBlock(\n",
       "      (conv1): Conv2d(64, 64, kernel_size=(3, 3), stride=(1, 1), padding=(1, 1), bias=False)\n",
       "      (bn1): BatchNorm2d(64, eps=1e-05, momentum=0.1, affine=True, track_running_stats=True)\n",
       "      (conv2): Conv2d(64, 64, kernel_size=(3, 3), stride=(1, 1), padding=(1, 1), bias=False)\n",
       "      (bn2): BatchNorm2d(64, eps=1e-05, momentum=0.1, affine=True, track_running_stats=True)\n",
       "      (shortcut): Sequential()\n",
       "    )\n",
       "    (2): BasicBlock(\n",
       "      (conv1): Conv2d(64, 64, kernel_size=(3, 3), stride=(1, 1), padding=(1, 1), bias=False)\n",
       "      (bn1): BatchNorm2d(64, eps=1e-05, momentum=0.1, affine=True, track_running_stats=True)\n",
       "      (conv2): Conv2d(64, 64, kernel_size=(3, 3), stride=(1, 1), padding=(1, 1), bias=False)\n",
       "      (bn2): BatchNorm2d(64, eps=1e-05, momentum=0.1, affine=True, track_running_stats=True)\n",
       "      (shortcut): Sequential()\n",
       "    )\n",
       "  )\n",
       "  (linear): Linear(in_features=64, out_features=10, bias=True)\n",
       ")"
      ]
     },
     "execution_count": 8,
     "metadata": {},
     "output_type": "execute_result"
    }
   ],
   "source": [
    "teacher_model = ResNet56()\n",
    "student_model = ResNet20()\n",
    "\n",
    "teacher_model.to(device)\n",
    "student_model.to(device)"
   ]
  },
  {
   "cell_type": "code",
   "execution_count": 9,
   "metadata": {
    "colab": {
     "base_uri": "https://localhost:8080/"
    },
    "id": "y-liOye7jOgP",
    "outputId": "8a37df07-e7c6-44af-edc9-2ef1bc1401c9"
   },
   "outputs": [
    {
     "data": {
      "text/plain": [
       "<All keys matched successfully>"
      ]
     },
     "execution_count": 9,
     "metadata": {},
     "output_type": "execute_result"
    }
   ],
   "source": [
    "teacher_model.load_state_dict(torch.load('../FactorTransfer/teacher2.pt'))\n",
    "#teacher_model.load_state_dict(torch.load('./Teacher.pth')['state_dict'])"
   ]
  },
  {
   "cell_type": "code",
   "execution_count": 10,
   "metadata": {
    "id": "hRYn1mSWVToB"
   },
   "outputs": [],
   "source": [
    "kwargs = {\n",
    "    'DISTILL_ARGS' : {\n",
    "        'BETA':500,\n",
    "        'EPOCHS':163,\n",
    "        'LR':0.1,\n",
    "        'WEIGHT_DECAY':0.0005,\n",
    "        \n",
    "        'IN_PLANES':64,\n",
    "        'RATE':0.5,\n",
    "        \n",
    "        'TEACHER_LAYER_NAME':'layer3',\n",
    "        'STUDENT_LAYER_NAME':'layer3',\n",
    "    },\n",
    "\n",
    "    'PARAPHRASER' : {\n",
    "        'IN_PLANES':64,\n",
    "        'RATE':0.5,\n",
    "        'EPOCHS':5,\n",
    "        'LR':0.1,\n",
    "        'WEIGHT_DECAY':0.0005,\n",
    "    },\n",
    "    \n",
    "    'DEVICE' : device,\n",
    "    'log_dir' : 'ft_resnet20'\n",
    "}"
   ]
  },
  {
   "cell_type": "code",
   "execution_count": 11,
   "metadata": {
    "id": "1f1tmxodVToB"
   },
   "outputs": [],
   "source": [
    "box = FactorTransfer(teacher_model, student_model, dataloaders, **kwargs)"
   ]
  },
  {
   "cell_type": "code",
   "execution_count": 12,
   "metadata": {
    "colab": {
     "base_uri": "https://localhost:8080/"
    },
    "id": "lQWD6lfzVToC",
    "outputId": "5822e17c-484f-440a-f258-ebcb753e429a"
   },
   "outputs": [
    {
     "name": "stdout",
     "output_type": "stream",
     "text": [
      "=====TRAINING PARAPHRASER=====\n"
     ]
    },
    {
     "name": "stderr",
     "output_type": "stream",
     "text": [
      "100%|█████████████████████████████████████████████████████████████████████████████████████████████████████████| 352/352 [00:24<00:00, 14.41it/s, loss=0.375]\n"
     ]
    },
    {
     "name": "stdout",
     "output_type": "stream",
     "text": [
      "Epoch 1 | Train loss: 0.3755\n"
     ]
    },
    {
     "name": "stderr",
     "output_type": "stream",
     "text": [
      "100%|█████████████████████████████████████████████████████████████████████████████████████████████████████████| 352/352 [00:22<00:00, 15.82it/s, loss=0.206]\n"
     ]
    },
    {
     "name": "stdout",
     "output_type": "stream",
     "text": [
      "Epoch 2 | Train loss: 0.2059\n"
     ]
    },
    {
     "name": "stderr",
     "output_type": "stream",
     "text": [
      "100%|█████████████████████████████████████████████████████████████████████████████████████████████████████████| 352/352 [00:22<00:00, 15.58it/s, loss=0.175]\n"
     ]
    },
    {
     "name": "stdout",
     "output_type": "stream",
     "text": [
      "Epoch 3 | Train loss: 0.1748\n"
     ]
    },
    {
     "name": "stderr",
     "output_type": "stream",
     "text": [
      "100%|█████████████████████████████████████████████████████████████████████████████████████████████████████████| 352/352 [00:22<00:00, 15.65it/s, loss=0.162]\n"
     ]
    },
    {
     "name": "stdout",
     "output_type": "stream",
     "text": [
      "Epoch 4 | Train loss: 0.1618\n"
     ]
    },
    {
     "name": "stderr",
     "output_type": "stream",
     "text": [
      "100%|█████████████████████████████████████████████████████████████████████████████████████████████████████████| 352/352 [00:22<00:00, 15.55it/s, loss=0.153]\n"
     ]
    },
    {
     "name": "stdout",
     "output_type": "stream",
     "text": [
      "Epoch 5 | Train loss: 0.1532\n",
      "=====TRAINING STUDENT NETWORK=====\n",
      "Epoch: 1\n"
     ]
    },
    {
     "name": "stderr",
     "output_type": "stream",
     "text": [
      "100%|██████████████████████████████████████████████████████████████████████████████████████████████████████████| 352/352 [00:18<00:00, 18.84it/s, loss=7.56]\n",
      "100%|█████████████████████████████████████████████████████████████████████████████████████████████████| 40/40 [00:01<00:00, 30.40it/s, acc=0.516, loss=7.01]\n"
     ]
    },
    {
     "name": "stdout",
     "output_type": "stream",
     "text": [
      "**Saving checkpoint**\n",
      "Epoch: 2\n"
     ]
    },
    {
     "name": "stderr",
     "output_type": "stream",
     "text": [
      "100%|██████████████████████████████████████████████████████████████████████████████████████████████████████████| 352/352 [00:18<00:00, 19.42it/s, loss=5.87]\n",
      "100%|██████████████████████████████████████████████████████████████████████████████████████████████████| 40/40 [00:01<00:00, 30.27it/s, acc=0.65, loss=5.44]\n"
     ]
    },
    {
     "name": "stdout",
     "output_type": "stream",
     "text": [
      "**Saving checkpoint**\n",
      "Epoch: 3\n"
     ]
    },
    {
     "name": "stderr",
     "output_type": "stream",
     "text": [
      "100%|██████████████████████████████████████████████████████████████████████████████████████████████████████████| 352/352 [00:18<00:00, 19.10it/s, loss=4.66]\n",
      "100%|█████████████████████████████████████████████████████████████████████████████████████████████████| 40/40 [00:01<00:00, 30.00it/s, acc=0.734, loss=4.76]\n"
     ]
    },
    {
     "name": "stdout",
     "output_type": "stream",
     "text": [
      "**Saving checkpoint**\n",
      "Epoch: 4\n"
     ]
    },
    {
     "name": "stderr",
     "output_type": "stream",
     "text": [
      "100%|██████████████████████████████████████████████████████████████████████████████████████████████████████████| 352/352 [00:17<00:00, 20.20it/s, loss=4.13]\n",
      "100%|██████████████████████████████████████████████████████████████████████████████████████████████████| 40/40 [00:01<00:00, 31.82it/s, acc=0.76, loss=4.34]\n"
     ]
    },
    {
     "name": "stdout",
     "output_type": "stream",
     "text": [
      "**Saving checkpoint**\n",
      "Epoch: 5\n"
     ]
    },
    {
     "name": "stderr",
     "output_type": "stream",
     "text": [
      "100%|██████████████████████████████████████████████████████████████████████████████████████████████████████████| 352/352 [00:17<00:00, 19.70it/s, loss=3.88]\n",
      "100%|██████████████████████████████████████████████████████████████████████████████████████████████████| 40/40 [00:01<00:00, 30.93it/s, acc=0.737, loss=4.5]\n"
     ]
    },
    {
     "name": "stdout",
     "output_type": "stream",
     "text": [
      "Epoch: 6\n"
     ]
    },
    {
     "name": "stderr",
     "output_type": "stream",
     "text": [
      "100%|██████████████████████████████████████████████████████████████████████████████████████████████████████████| 352/352 [00:16<00:00, 21.51it/s, loss=3.69]\n",
      "100%|█████████████████████████████████████████████████████████████████████████████████████████████████| 40/40 [00:01<00:00, 30.38it/s, acc=0.762, loss=4.23]\n"
     ]
    },
    {
     "name": "stdout",
     "output_type": "stream",
     "text": [
      "**Saving checkpoint**\n",
      "Epoch: 7\n"
     ]
    },
    {
     "name": "stderr",
     "output_type": "stream",
     "text": [
      "100%|██████████████████████████████████████████████████████████████████████████████████████████████████████████| 352/352 [00:18<00:00, 18.99it/s, loss=3.55]\n",
      "100%|█████████████████████████████████████████████████████████████████████████████████████████████████| 40/40 [00:01<00:00, 31.99it/s, acc=0.829, loss=3.73]\n"
     ]
    },
    {
     "name": "stdout",
     "output_type": "stream",
     "text": [
      "**Saving checkpoint**\n",
      "Epoch: 8\n"
     ]
    },
    {
     "name": "stderr",
     "output_type": "stream",
     "text": [
      "100%|██████████████████████████████████████████████████████████████████████████████████████████████████████████| 352/352 [00:18<00:00, 19.09it/s, loss=3.47]\n",
      "100%|█████████████████████████████████████████████████████████████████████████████████████████████████| 40/40 [00:01<00:00, 29.93it/s, acc=0.839, loss=3.66]\n"
     ]
    },
    {
     "name": "stdout",
     "output_type": "stream",
     "text": [
      "**Saving checkpoint**\n",
      "Epoch: 9\n"
     ]
    },
    {
     "name": "stderr",
     "output_type": "stream",
     "text": [
      "100%|██████████████████████████████████████████████████████████████████████████████████████████████████████████| 352/352 [00:18<00:00, 18.76it/s, loss=3.37]\n",
      "100%|██████████████████████████████████████████████████████████████████████████████████████████████████| 40/40 [00:01<00:00, 26.54it/s, acc=0.851, loss=3.5]\n"
     ]
    },
    {
     "name": "stdout",
     "output_type": "stream",
     "text": [
      "**Saving checkpoint**\n",
      "Epoch: 10\n"
     ]
    },
    {
     "name": "stderr",
     "output_type": "stream",
     "text": [
      "100%|███████████████████████████████████████████████████████████████████████████████████████████████████████████| 352/352 [00:17<00:00, 19.61it/s, loss=3.3]\n",
      "100%|███████████████████████████████████████████████████████████████████████████████████████████████████| 40/40 [00:01<00:00, 27.90it/s, acc=0.8, loss=3.96]\n"
     ]
    },
    {
     "name": "stdout",
     "output_type": "stream",
     "text": [
      "Epoch: 11\n"
     ]
    },
    {
     "name": "stderr",
     "output_type": "stream",
     "text": [
      "100%|██████████████████████████████████████████████████████████████████████████████████████████████████████████| 352/352 [00:19<00:00, 18.52it/s, loss=3.27]\n",
      "100%|█████████████████████████████████████████████████████████████████████████████████████████████████| 40/40 [00:01<00:00, 30.88it/s, acc=0.844, loss=3.46]\n"
     ]
    },
    {
     "name": "stdout",
     "output_type": "stream",
     "text": [
      "Epoch: 12\n"
     ]
    },
    {
     "name": "stderr",
     "output_type": "stream",
     "text": [
      "100%|██████████████████████████████████████████████████████████████████████████████████████████████████████████| 352/352 [00:19<00:00, 18.07it/s, loss=3.21]\n",
      "100%|█████████████████████████████████████████████████████████████████████████████████████████████████| 40/40 [00:01<00:00, 31.26it/s, acc=0.854, loss=3.49]\n"
     ]
    },
    {
     "name": "stdout",
     "output_type": "stream",
     "text": [
      "**Saving checkpoint**\n",
      "Epoch: 13\n"
     ]
    },
    {
     "name": "stderr",
     "output_type": "stream",
     "text": [
      "100%|███████████████████████████████████████████████████████████████████████████████████████████████████████████| 352/352 [00:19<00:00, 18.51it/s, loss=3.2]\n",
      "100%|█████████████████████████████████████████████████████████████████████████████████████████████████| 40/40 [00:01<00:00, 27.26it/s, acc=0.833, loss=3.72]\n"
     ]
    },
    {
     "name": "stdout",
     "output_type": "stream",
     "text": [
      "Epoch: 14\n"
     ]
    },
    {
     "name": "stderr",
     "output_type": "stream",
     "text": [
      "100%|██████████████████████████████████████████████████████████████████████████████████████████████████████████| 352/352 [00:19<00:00, 17.99it/s, loss=3.16]\n",
      "100%|██████████████████████████████████████████████████████████████████████████████████████████████████| 40/40 [00:01<00:00, 30.32it/s, acc=0.85, loss=3.45]\n"
     ]
    },
    {
     "name": "stdout",
     "output_type": "stream",
     "text": [
      "Epoch: 15\n"
     ]
    },
    {
     "name": "stderr",
     "output_type": "stream",
     "text": [
      "100%|██████████████████████████████████████████████████████████████████████████████████████████████████████████| 352/352 [00:18<00:00, 19.13it/s, loss=3.13]\n",
      "100%|██████████████████████████████████████████████████████████████████████████████████████████████████| 40/40 [00:01<00:00, 32.43it/s, acc=0.818, loss=3.8]\n"
     ]
    },
    {
     "name": "stdout",
     "output_type": "stream",
     "text": [
      "Epoch: 16\n"
     ]
    },
    {
     "name": "stderr",
     "output_type": "stream",
     "text": [
      "100%|██████████████████████████████████████████████████████████████████████████████████████████████████████████| 352/352 [00:18<00:00, 19.20it/s, loss=3.09]\n",
      "100%|█████████████████████████████████████████████████████████████████████████████████████████████████| 40/40 [00:01<00:00, 30.72it/s, acc=0.827, loss=3.55]\n"
     ]
    },
    {
     "name": "stdout",
     "output_type": "stream",
     "text": [
      "Epoch: 17\n"
     ]
    },
    {
     "name": "stderr",
     "output_type": "stream",
     "text": [
      "100%|██████████████████████████████████████████████████████████████████████████████████████████████████████████| 352/352 [00:18<00:00, 19.33it/s, loss=3.06]\n",
      "100%|██████████████████████████████████████████████████████████████████████████████████████████████████| 40/40 [00:01<00:00, 30.09it/s, acc=0.846, loss=3.5]\n"
     ]
    },
    {
     "name": "stdout",
     "output_type": "stream",
     "text": [
      "Epoch: 18\n"
     ]
    },
    {
     "name": "stderr",
     "output_type": "stream",
     "text": [
      "100%|██████████████████████████████████████████████████████████████████████████████████████████████████████████| 352/352 [00:18<00:00, 18.79it/s, loss=3.06]\n",
      "100%|█████████████████████████████████████████████████████████████████████████████████████████████████| 40/40 [00:01<00:00, 31.35it/s, acc=0.874, loss=3.24]\n"
     ]
    },
    {
     "name": "stdout",
     "output_type": "stream",
     "text": [
      "**Saving checkpoint**\n",
      "Epoch: 19\n"
     ]
    },
    {
     "name": "stderr",
     "output_type": "stream",
     "text": [
      "100%|██████████████████████████████████████████████████████████████████████████████████████████████████████████| 352/352 [00:18<00:00, 19.20it/s, loss=3.03]\n",
      "100%|██████████████████████████████████████████████████████████████████████████████████████████████████| 40/40 [00:01<00:00, 28.13it/s, acc=0.803, loss=3.8]\n"
     ]
    },
    {
     "name": "stdout",
     "output_type": "stream",
     "text": [
      "Epoch: 20\n"
     ]
    },
    {
     "name": "stderr",
     "output_type": "stream",
     "text": [
      "100%|██████████████████████████████████████████████████████████████████████████████████████████████████████████| 352/352 [00:18<00:00, 18.76it/s, loss=3.03]\n",
      "100%|█████████████████████████████████████████████████████████████████████████████████████████████████| 40/40 [00:01<00:00, 31.17it/s, acc=0.845, loss=3.42]\n"
     ]
    },
    {
     "name": "stdout",
     "output_type": "stream",
     "text": [
      "Epoch: 21\n"
     ]
    },
    {
     "name": "stderr",
     "output_type": "stream",
     "text": [
      "100%|██████████████████████████████████████████████████████████████████████████████████████████████████████████| 352/352 [00:19<00:00, 18.32it/s, loss=3.01]\n",
      "100%|██████████████████████████████████████████████████████████████████████████████████████████████████| 40/40 [00:01<00:00, 29.18it/s, acc=0.843, loss=3.4]\n"
     ]
    },
    {
     "name": "stdout",
     "output_type": "stream",
     "text": [
      "Epoch: 22\n"
     ]
    },
    {
     "name": "stderr",
     "output_type": "stream",
     "text": [
      "100%|██████████████████████████████████████████████████████████████████████████████████████████████████████████| 352/352 [00:19<00:00, 18.08it/s, loss=3.01]\n",
      "100%|█████████████████████████████████████████████████████████████████████████████████████████████████| 40/40 [00:01<00:00, 28.11it/s, acc=0.863, loss=3.23]\n"
     ]
    },
    {
     "name": "stdout",
     "output_type": "stream",
     "text": [
      "Epoch: 23\n"
     ]
    },
    {
     "name": "stderr",
     "output_type": "stream",
     "text": [
      "100%|█████████████████████████████████████████████████████████████████████████████████████████████████████████████| 352/352 [00:19<00:00, 17.88it/s, loss=3]\n",
      "100%|█████████████████████████████████████████████████████████████████████████████████████████████████| 40/40 [00:01<00:00, 28.76it/s, acc=0.871, loss=3.23]\n"
     ]
    },
    {
     "name": "stdout",
     "output_type": "stream",
     "text": [
      "Epoch: 24\n"
     ]
    },
    {
     "name": "stderr",
     "output_type": "stream",
     "text": [
      "100%|██████████████████████████████████████████████████████████████████████████████████████████████████████████| 352/352 [00:18<00:00, 18.66it/s, loss=2.96]\n",
      "100%|█████████████████████████████████████████████████████████████████████████████████████████████████| 40/40 [00:01<00:00, 32.33it/s, acc=0.873, loss=3.28]\n"
     ]
    },
    {
     "name": "stdout",
     "output_type": "stream",
     "text": [
      "Epoch: 25\n"
     ]
    },
    {
     "name": "stderr",
     "output_type": "stream",
     "text": [
      "100%|██████████████████████████████████████████████████████████████████████████████████████████████████████████| 352/352 [00:18<00:00, 18.92it/s, loss=2.97]\n",
      "100%|██████████████████████████████████████████████████████████████████████████████████████████████████| 40/40 [00:01<00:00, 29.63it/s, acc=0.875, loss=3.2]\n"
     ]
    },
    {
     "name": "stdout",
     "output_type": "stream",
     "text": [
      "**Saving checkpoint**\n",
      "Epoch: 26\n"
     ]
    },
    {
     "name": "stderr",
     "output_type": "stream",
     "text": [
      "100%|██████████████████████████████████████████████████████████████████████████████████████████████████████████| 352/352 [00:18<00:00, 18.67it/s, loss=2.95]\n",
      "100%|█████████████████████████████████████████████████████████████████████████████████████████████████| 40/40 [00:01<00:00, 27.44it/s, acc=0.879, loss=3.22]\n"
     ]
    },
    {
     "name": "stdout",
     "output_type": "stream",
     "text": [
      "**Saving checkpoint**\n",
      "Epoch: 27\n"
     ]
    },
    {
     "name": "stderr",
     "output_type": "stream",
     "text": [
      "100%|██████████████████████████████████████████████████████████████████████████████████████████████████████████| 352/352 [00:19<00:00, 18.26it/s, loss=2.96]\n",
      "100%|█████████████████████████████████████████████████████████████████████████████████████████████████| 40/40 [00:01<00:00, 21.00it/s, acc=0.862, loss=3.59]\n"
     ]
    },
    {
     "name": "stdout",
     "output_type": "stream",
     "text": [
      "Epoch: 28\n"
     ]
    },
    {
     "name": "stderr",
     "output_type": "stream",
     "text": [
      "100%|██████████████████████████████████████████████████████████████████████████████████████████████████████████| 352/352 [00:19<00:00, 17.94it/s, loss=2.95]\n",
      "100%|█████████████████████████████████████████████████████████████████████████████████████████████████| 40/40 [00:01<00:00, 30.65it/s, acc=0.841, loss=3.42]\n"
     ]
    },
    {
     "name": "stdout",
     "output_type": "stream",
     "text": [
      "Epoch: 29\n"
     ]
    },
    {
     "name": "stderr",
     "output_type": "stream",
     "text": [
      "100%|██████████████████████████████████████████████████████████████████████████████████████████████████████████| 352/352 [00:19<00:00, 18.24it/s, loss=2.95]\n",
      "100%|█████████████████████████████████████████████████████████████████████████████████████████████████| 40/40 [00:01<00:00, 28.54it/s, acc=0.876, loss=3.19]\n"
     ]
    },
    {
     "name": "stdout",
     "output_type": "stream",
     "text": [
      "Epoch: 30\n"
     ]
    },
    {
     "name": "stderr",
     "output_type": "stream",
     "text": [
      "100%|██████████████████████████████████████████████████████████████████████████████████████████████████████████| 352/352 [00:18<00:00, 18.53it/s, loss=2.92]\n",
      "100%|█████████████████████████████████████████████████████████████████████████████████████████████████| 40/40 [00:01<00:00, 28.69it/s, acc=0.884, loss=3.12]\n"
     ]
    },
    {
     "name": "stdout",
     "output_type": "stream",
     "text": [
      "**Saving checkpoint**\n",
      "Epoch: 31\n"
     ]
    },
    {
     "name": "stderr",
     "output_type": "stream",
     "text": [
      "100%|██████████████████████████████████████████████████████████████████████████████████████████████████████████| 352/352 [00:18<00:00, 19.16it/s, loss=2.93]\n",
      "100%|██████████████████████████████████████████████████████████████████████████████████████████████████| 40/40 [00:01<00:00, 28.72it/s, acc=0.876, loss=3.2]\n"
     ]
    },
    {
     "name": "stdout",
     "output_type": "stream",
     "text": [
      "Epoch: 32\n"
     ]
    },
    {
     "name": "stderr",
     "output_type": "stream",
     "text": [
      "100%|██████████████████████████████████████████████████████████████████████████████████████████████████████████| 352/352 [00:18<00:00, 19.22it/s, loss=2.91]\n",
      "100%|██████████████████████████████████████████████████████████████████████████████████████████████████| 40/40 [00:01<00:00, 29.75it/s, acc=0.88, loss=3.07]\n"
     ]
    },
    {
     "name": "stdout",
     "output_type": "stream",
     "text": [
      "Epoch: 33\n"
     ]
    },
    {
     "name": "stderr",
     "output_type": "stream",
     "text": [
      "100%|██████████████████████████████████████████████████████████████████████████████████████████████████████████| 352/352 [00:17<00:00, 19.61it/s, loss=2.91]\n",
      "100%|██████████████████████████████████████████████████████████████████████████████████████████████████| 40/40 [00:01<00:00, 30.17it/s, acc=0.86, loss=3.29]\n"
     ]
    },
    {
     "name": "stdout",
     "output_type": "stream",
     "text": [
      "Epoch: 34\n"
     ]
    },
    {
     "name": "stderr",
     "output_type": "stream",
     "text": [
      "100%|██████████████████████████████████████████████████████████████████████████████████████████████████████████| 352/352 [00:18<00:00, 19.11it/s, loss=2.91]\n",
      "100%|██████████████████████████████████████████████████████████████████████████████████████████████████| 40/40 [00:01<00:00, 30.01it/s, acc=0.873, loss=3.3]\n"
     ]
    },
    {
     "name": "stdout",
     "output_type": "stream",
     "text": [
      "Epoch: 35\n"
     ]
    },
    {
     "name": "stderr",
     "output_type": "stream",
     "text": [
      "100%|███████████████████████████████████████████████████████████████████████████████████████████████████████████| 352/352 [00:18<00:00, 19.05it/s, loss=2.9]\n",
      "100%|█████████████████████████████████████████████████████████████████████████████████████████████████| 40/40 [00:01<00:00, 27.91it/s, acc=0.871, loss=3.23]\n"
     ]
    },
    {
     "name": "stdout",
     "output_type": "stream",
     "text": [
      "Epoch: 36\n"
     ]
    },
    {
     "name": "stderr",
     "output_type": "stream",
     "text": [
      "100%|██████████████████████████████████████████████████████████████████████████████████████████████████████████| 352/352 [00:18<00:00, 19.41it/s, loss=2.91]\n",
      "100%|██████████████████████████████████████████████████████████████████████████████████████████████████| 40/40 [00:01<00:00, 27.94it/s, acc=0.885, loss=3.1]\n"
     ]
    },
    {
     "name": "stdout",
     "output_type": "stream",
     "text": [
      "**Saving checkpoint**\n",
      "Epoch: 37\n"
     ]
    },
    {
     "name": "stderr",
     "output_type": "stream",
     "text": [
      "100%|██████████████████████████████████████████████████████████████████████████████████████████████████████████| 352/352 [00:16<00:00, 20.92it/s, loss=2.89]\n",
      "100%|█████████████████████████████████████████████████████████████████████████████████████████████████| 40/40 [00:01<00:00, 30.39it/s, acc=0.858, loss=3.33]\n"
     ]
    },
    {
     "name": "stdout",
     "output_type": "stream",
     "text": [
      "Epoch: 38\n"
     ]
    },
    {
     "name": "stderr",
     "output_type": "stream",
     "text": [
      "100%|██████████████████████████████████████████████████████████████████████████████████████████████████████████| 352/352 [00:18<00:00, 19.44it/s, loss=2.87]\n",
      "100%|█████████████████████████████████████████████████████████████████████████████████████████████████| 40/40 [00:01<00:00, 27.02it/s, acc=0.879, loss=3.19]\n"
     ]
    },
    {
     "name": "stdout",
     "output_type": "stream",
     "text": [
      "Epoch: 39\n"
     ]
    },
    {
     "name": "stderr",
     "output_type": "stream",
     "text": [
      "100%|██████████████████████████████████████████████████████████████████████████████████████████████████████████| 352/352 [00:18<00:00, 18.85it/s, loss=2.88]\n",
      "100%|█████████████████████████████████████████████████████████████████████████████████████████████████| 40/40 [00:01<00:00, 29.98it/s, acc=0.883, loss=3.11]\n"
     ]
    },
    {
     "name": "stdout",
     "output_type": "stream",
     "text": [
      "Epoch: 40\n"
     ]
    },
    {
     "name": "stderr",
     "output_type": "stream",
     "text": [
      "100%|██████████████████████████████████████████████████████████████████████████████████████████████████████████| 352/352 [00:17<00:00, 20.34it/s, loss=2.88]\n",
      "100%|█████████████████████████████████████████████████████████████████████████████████████████████████| 40/40 [00:01<00:00, 28.15it/s, acc=0.851, loss=3.42]\n"
     ]
    },
    {
     "name": "stdout",
     "output_type": "stream",
     "text": [
      "Epoch: 41\n"
     ]
    },
    {
     "name": "stderr",
     "output_type": "stream",
     "text": [
      "100%|██████████████████████████████████████████████████████████████████████████████████████████████████████████| 352/352 [00:18<00:00, 19.06it/s, loss=2.89]\n",
      "100%|█████████████████████████████████████████████████████████████████████████████████████████████████| 40/40 [00:01<00:00, 30.37it/s, acc=0.885, loss=3.11]\n"
     ]
    },
    {
     "name": "stdout",
     "output_type": "stream",
     "text": [
      "Epoch: 42\n"
     ]
    },
    {
     "name": "stderr",
     "output_type": "stream",
     "text": [
      "100%|██████████████████████████████████████████████████████████████████████████████████████████████████████████| 352/352 [00:17<00:00, 20.03it/s, loss=2.86]\n",
      "100%|█████████████████████████████████████████████████████████████████████████████████████████████████| 40/40 [00:01<00:00, 29.33it/s, acc=0.872, loss=3.19]\n"
     ]
    },
    {
     "name": "stdout",
     "output_type": "stream",
     "text": [
      "Epoch: 43\n"
     ]
    },
    {
     "name": "stderr",
     "output_type": "stream",
     "text": [
      "100%|██████████████████████████████████████████████████████████████████████████████████████████████████████████| 352/352 [00:18<00:00, 18.80it/s, loss=2.88]\n",
      "100%|█████████████████████████████████████████████████████████████████████████████████████████████████| 40/40 [00:01<00:00, 27.73it/s, acc=0.876, loss=3.21]\n"
     ]
    },
    {
     "name": "stdout",
     "output_type": "stream",
     "text": [
      "Epoch: 44\n"
     ]
    },
    {
     "name": "stderr",
     "output_type": "stream",
     "text": [
      "100%|██████████████████████████████████████████████████████████████████████████████████████████████████████████| 352/352 [00:18<00:00, 19.10it/s, loss=2.86]\n",
      "100%|██████████████████████████████████████████████████████████████████████████████████████████████████| 40/40 [00:01<00:00, 31.91it/s, acc=0.86, loss=3.36]\n"
     ]
    },
    {
     "name": "stdout",
     "output_type": "stream",
     "text": [
      "Epoch: 45\n"
     ]
    },
    {
     "name": "stderr",
     "output_type": "stream",
     "text": [
      "100%|██████████████████████████████████████████████████████████████████████████████████████████████████████████| 352/352 [00:18<00:00, 19.25it/s, loss=2.85]\n",
      "100%|█████████████████████████████████████████████████████████████████████████████████████████████████| 40/40 [00:01<00:00, 29.01it/s, acc=0.872, loss=3.19]\n"
     ]
    },
    {
     "name": "stdout",
     "output_type": "stream",
     "text": [
      "Epoch: 46\n"
     ]
    },
    {
     "name": "stderr",
     "output_type": "stream",
     "text": [
      "100%|██████████████████████████████████████████████████████████████████████████████████████████████████████████| 352/352 [00:18<00:00, 19.23it/s, loss=2.87]\n",
      "100%|█████████████████████████████████████████████████████████████████████████████████████████████████| 40/40 [00:01<00:00, 29.29it/s, acc=0.868, loss=3.25]\n"
     ]
    },
    {
     "name": "stdout",
     "output_type": "stream",
     "text": [
      "Epoch: 47\n"
     ]
    },
    {
     "name": "stderr",
     "output_type": "stream",
     "text": [
      "100%|██████████████████████████████████████████████████████████████████████████████████████████████████████████| 352/352 [00:18<00:00, 19.04it/s, loss=2.88]\n",
      "100%|█████████████████████████████████████████████████████████████████████████████████████████████████| 40/40 [00:01<00:00, 31.34it/s, acc=0.879, loss=3.23]\n"
     ]
    },
    {
     "name": "stdout",
     "output_type": "stream",
     "text": [
      "Epoch: 48\n"
     ]
    },
    {
     "name": "stderr",
     "output_type": "stream",
     "text": [
      "100%|██████████████████████████████████████████████████████████████████████████████████████████████████████████| 352/352 [00:18<00:00, 19.47it/s, loss=2.85]\n",
      "100%|█████████████████████████████████████████████████████████████████████████████████████████████████| 40/40 [00:01<00:00, 31.14it/s, acc=0.893, loss=3.06]\n"
     ]
    },
    {
     "name": "stdout",
     "output_type": "stream",
     "text": [
      "**Saving checkpoint**\n",
      "Epoch: 49\n"
     ]
    },
    {
     "name": "stderr",
     "output_type": "stream",
     "text": [
      "100%|██████████████████████████████████████████████████████████████████████████████████████████████████████████| 352/352 [00:18<00:00, 18.70it/s, loss=2.85]\n",
      "100%|█████████████████████████████████████████████████████████████████████████████████████████████████| 40/40 [00:01<00:00, 30.11it/s, acc=0.847, loss=3.45]\n"
     ]
    },
    {
     "name": "stdout",
     "output_type": "stream",
     "text": [
      "Epoch: 50\n"
     ]
    },
    {
     "name": "stderr",
     "output_type": "stream",
     "text": [
      "100%|██████████████████████████████████████████████████████████████████████████████████████████████████████████| 352/352 [00:18<00:00, 19.14it/s, loss=2.86]\n",
      "100%|█████████████████████████████████████████████████████████████████████████████████████████████████| 40/40 [00:01<00:00, 28.81it/s, acc=0.893, loss=3.04]\n"
     ]
    },
    {
     "name": "stdout",
     "output_type": "stream",
     "text": [
      "**Saving checkpoint**\n",
      "Epoch: 51\n"
     ]
    },
    {
     "name": "stderr",
     "output_type": "stream",
     "text": [
      "100%|██████████████████████████████████████████████████████████████████████████████████████████████████████████| 352/352 [00:18<00:00, 18.74it/s, loss=2.84]\n",
      "100%|█████████████████████████████████████████████████████████████████████████████████████████████████| 40/40 [00:01<00:00, 29.59it/s, acc=0.903, loss=2.99]\n"
     ]
    },
    {
     "name": "stdout",
     "output_type": "stream",
     "text": [
      "**Saving checkpoint**\n",
      "Epoch: 52\n"
     ]
    },
    {
     "name": "stderr",
     "output_type": "stream",
     "text": [
      "100%|██████████████████████████████████████████████████████████████████████████████████████████████████████████| 352/352 [00:18<00:00, 18.84it/s, loss=2.85]\n",
      "100%|██████████████████████████████████████████████████████████████████████████████████████████████████| 40/40 [00:01<00:00, 29.92it/s, acc=0.88, loss=3.21]\n"
     ]
    },
    {
     "name": "stdout",
     "output_type": "stream",
     "text": [
      "Epoch: 53\n"
     ]
    },
    {
     "name": "stderr",
     "output_type": "stream",
     "text": [
      "100%|██████████████████████████████████████████████████████████████████████████████████████████████████████████| 352/352 [00:18<00:00, 19.08it/s, loss=2.84]\n",
      "100%|█████████████████████████████████████████████████████████████████████████████████████████████████| 40/40 [00:01<00:00, 28.07it/s, acc=0.874, loss=3.17]\n"
     ]
    },
    {
     "name": "stdout",
     "output_type": "stream",
     "text": [
      "Epoch: 54\n"
     ]
    },
    {
     "name": "stderr",
     "output_type": "stream",
     "text": [
      "100%|██████████████████████████████████████████████████████████████████████████████████████████████████████████| 352/352 [00:18<00:00, 19.17it/s, loss=2.83]\n",
      "100%|█████████████████████████████████████████████████████████████████████████████████████████████████| 40/40 [00:01<00:00, 30.55it/s, acc=0.889, loss=3.16]\n"
     ]
    },
    {
     "name": "stdout",
     "output_type": "stream",
     "text": [
      "Epoch: 55\n"
     ]
    },
    {
     "name": "stderr",
     "output_type": "stream",
     "text": [
      "100%|██████████████████████████████████████████████████████████████████████████████████████████████████████████| 352/352 [00:18<00:00, 19.18it/s, loss=2.85]\n",
      "100%|██████████████████████████████████████████████████████████████████████████████████████████████████| 40/40 [00:01<00:00, 27.74it/s, acc=0.89, loss=3.11]\n"
     ]
    },
    {
     "name": "stdout",
     "output_type": "stream",
     "text": [
      "Epoch: 56\n"
     ]
    },
    {
     "name": "stderr",
     "output_type": "stream",
     "text": [
      "100%|██████████████████████████████████████████████████████████████████████████████████████████████████████████| 352/352 [00:18<00:00, 19.15it/s, loss=2.84]\n",
      "100%|█████████████████████████████████████████████████████████████████████████████████████████████████| 40/40 [00:01<00:00, 29.95it/s, acc=0.887, loss=3.09]\n"
     ]
    },
    {
     "name": "stdout",
     "output_type": "stream",
     "text": [
      "Epoch: 57\n"
     ]
    },
    {
     "name": "stderr",
     "output_type": "stream",
     "text": [
      "100%|██████████████████████████████████████████████████████████████████████████████████████████████████████████| 352/352 [00:18<00:00, 19.35it/s, loss=2.82]\n",
      "100%|██████████████████████████████████████████████████████████████████████████████████████████████████| 40/40 [00:01<00:00, 27.88it/s, acc=0.84, loss=3.41]\n"
     ]
    },
    {
     "name": "stdout",
     "output_type": "stream",
     "text": [
      "Epoch: 58\n"
     ]
    },
    {
     "name": "stderr",
     "output_type": "stream",
     "text": [
      "100%|██████████████████████████████████████████████████████████████████████████████████████████████████████████| 352/352 [00:17<00:00, 19.79it/s, loss=2.84]\n",
      "100%|█████████████████████████████████████████████████████████████████████████████████████████████████| 40/40 [00:01<00:00, 30.30it/s, acc=0.855, loss=3.32]\n"
     ]
    },
    {
     "name": "stdout",
     "output_type": "stream",
     "text": [
      "Epoch: 59\n"
     ]
    },
    {
     "name": "stderr",
     "output_type": "stream",
     "text": [
      "100%|██████████████████████████████████████████████████████████████████████████████████████████████████████████| 352/352 [00:17<00:00, 19.89it/s, loss=2.83]\n",
      "100%|██████████████████████████████████████████████████████████████████████████████████████████████████| 40/40 [00:01<00:00, 28.27it/s, acc=0.81, loss=3.61]\n"
     ]
    },
    {
     "name": "stdout",
     "output_type": "stream",
     "text": [
      "Epoch: 60\n"
     ]
    },
    {
     "name": "stderr",
     "output_type": "stream",
     "text": [
      "100%|██████████████████████████████████████████████████████████████████████████████████████████████████████████| 352/352 [00:18<00:00, 19.17it/s, loss=2.82]\n",
      "100%|█████████████████████████████████████████████████████████████████████████████████████████████████| 40/40 [00:01<00:00, 30.82it/s, acc=0.884, loss=3.12]\n"
     ]
    },
    {
     "name": "stdout",
     "output_type": "stream",
     "text": [
      "Epoch: 61\n"
     ]
    },
    {
     "name": "stderr",
     "output_type": "stream",
     "text": [
      "100%|██████████████████████████████████████████████████████████████████████████████████████████████████████████| 352/352 [00:18<00:00, 19.39it/s, loss=2.82]\n",
      "100%|█████████████████████████████████████████████████████████████████████████████████████████████████| 40/40 [00:01<00:00, 28.54it/s, acc=0.882, loss=3.06]\n"
     ]
    },
    {
     "name": "stdout",
     "output_type": "stream",
     "text": [
      "Epoch: 62\n"
     ]
    },
    {
     "name": "stderr",
     "output_type": "stream",
     "text": [
      "100%|██████████████████████████████████████████████████████████████████████████████████████████████████████████| 352/352 [00:18<00:00, 19.09it/s, loss=2.82]\n",
      "100%|██████████████████████████████████████████████████████████████████████████████████████████████████| 40/40 [00:01<00:00, 26.81it/s, acc=0.87, loss=3.17]\n"
     ]
    },
    {
     "name": "stdout",
     "output_type": "stream",
     "text": [
      "Epoch: 63\n"
     ]
    },
    {
     "name": "stderr",
     "output_type": "stream",
     "text": [
      "100%|██████████████████████████████████████████████████████████████████████████████████████████████████████████| 352/352 [00:18<00:00, 19.44it/s, loss=2.83]\n",
      "100%|█████████████████████████████████████████████████████████████████████████████████████████████████| 40/40 [00:01<00:00, 31.09it/s, acc=0.891, loss=3.01]\n"
     ]
    },
    {
     "name": "stdout",
     "output_type": "stream",
     "text": [
      "Epoch: 64\n"
     ]
    },
    {
     "name": "stderr",
     "output_type": "stream",
     "text": [
      "100%|██████████████████████████████████████████████████████████████████████████████████████████████████████████| 352/352 [00:18<00:00, 18.74it/s, loss=2.82]\n",
      "100%|█████████████████████████████████████████████████████████████████████████████████████████████████| 40/40 [00:01<00:00, 30.15it/s, acc=0.847, loss=3.41]\n"
     ]
    },
    {
     "name": "stdout",
     "output_type": "stream",
     "text": [
      "Epoch: 65\n"
     ]
    },
    {
     "name": "stderr",
     "output_type": "stream",
     "text": [
      "100%|██████████████████████████████████████████████████████████████████████████████████████████████████████████| 352/352 [00:18<00:00, 18.95it/s, loss=2.83]\n",
      "100%|█████████████████████████████████████████████████████████████████████████████████████████████████| 40/40 [00:01<00:00, 30.65it/s, acc=0.896, loss=3.01]\n"
     ]
    },
    {
     "name": "stdout",
     "output_type": "stream",
     "text": [
      "Epoch: 66\n"
     ]
    },
    {
     "name": "stderr",
     "output_type": "stream",
     "text": [
      "100%|██████████████████████████████████████████████████████████████████████████████████████████████████████████| 352/352 [00:17<00:00, 19.60it/s, loss=2.82]\n",
      "100%|█████████████████████████████████████████████████████████████████████████████████████████████████| 40/40 [00:01<00:00, 27.54it/s, acc=0.882, loss=3.11]\n"
     ]
    },
    {
     "name": "stdout",
     "output_type": "stream",
     "text": [
      "Epoch: 67\n"
     ]
    },
    {
     "name": "stderr",
     "output_type": "stream",
     "text": [
      "100%|██████████████████████████████████████████████████████████████████████████████████████████████████████████| 352/352 [00:18<00:00, 19.49it/s, loss=2.82]\n",
      "100%|█████████████████████████████████████████████████████████████████████████████████████████████████| 40/40 [00:01<00:00, 30.54it/s, acc=0.821, loss=3.58]\n"
     ]
    },
    {
     "name": "stdout",
     "output_type": "stream",
     "text": [
      "Epoch: 68\n"
     ]
    },
    {
     "name": "stderr",
     "output_type": "stream",
     "text": [
      "100%|██████████████████████████████████████████████████████████████████████████████████████████████████████████| 352/352 [00:17<00:00, 19.81it/s, loss=2.81]\n",
      "100%|█████████████████████████████████████████████████████████████████████████████████████████████████| 40/40 [00:01<00:00, 28.58it/s, acc=0.873, loss=3.17]\n"
     ]
    },
    {
     "name": "stdout",
     "output_type": "stream",
     "text": [
      "Epoch: 69\n"
     ]
    },
    {
     "name": "stderr",
     "output_type": "stream",
     "text": [
      "100%|██████████████████████████████████████████████████████████████████████████████████████████████████████████| 352/352 [00:18<00:00, 18.95it/s, loss=2.81]\n",
      "100%|████████████████████████████████████████████████████████████████████████████████████████████████████| 40/40 [00:01<00:00, 31.54it/s, acc=0.895, loss=3]\n"
     ]
    },
    {
     "name": "stdout",
     "output_type": "stream",
     "text": [
      "Epoch: 70\n"
     ]
    },
    {
     "name": "stderr",
     "output_type": "stream",
     "text": [
      "100%|███████████████████████████████████████████████████████████████████████████████████████████████████████████| 352/352 [00:18<00:00, 19.22it/s, loss=2.8]\n",
      "100%|██████████████████████████████████████████████████████████████████████████████████████████████████| 40/40 [00:01<00:00, 29.98it/s, acc=0.91, loss=2.91]\n"
     ]
    },
    {
     "name": "stdout",
     "output_type": "stream",
     "text": [
      "**Saving checkpoint**\n",
      "Epoch: 71\n"
     ]
    },
    {
     "name": "stderr",
     "output_type": "stream",
     "text": [
      "100%|███████████████████████████████████████████████████████████████████████████████████████████████████████████| 352/352 [00:16<00:00, 21.00it/s, loss=2.8]\n",
      "100%|█████████████████████████████████████████████████████████████████████████████████████████████████| 40/40 [00:01<00:00, 32.14it/s, acc=0.888, loss=3.05]\n"
     ]
    },
    {
     "name": "stdout",
     "output_type": "stream",
     "text": [
      "Epoch: 74\n"
     ]
    },
    {
     "name": "stderr",
     "output_type": "stream",
     "text": [
      "100%|███████████████████████████████████████████████████████████████████████████████████████████████████████████| 352/352 [00:18<00:00, 19.22it/s, loss=2.8]\n",
      "100%|█████████████████████████████████████████████████████████████████████████████████████████████████| 40/40 [00:01<00:00, 30.65it/s, acc=0.893, loss=3.04]\n"
     ]
    },
    {
     "name": "stdout",
     "output_type": "stream",
     "text": [
      "Epoch: 75\n"
     ]
    },
    {
     "name": "stderr",
     "output_type": "stream",
     "text": [
      "100%|███████████████████████████████████████████████████████████████████████████████████████████████████████████| 352/352 [00:16<00:00, 20.87it/s, loss=2.8]\n",
      "100%|█████████████████████████████████████████████████████████████████████████████████████████████████| 40/40 [00:01<00:00, 29.43it/s, acc=0.873, loss=3.24]\n"
     ]
    },
    {
     "name": "stdout",
     "output_type": "stream",
     "text": [
      "Epoch: 76\n"
     ]
    },
    {
     "name": "stderr",
     "output_type": "stream",
     "text": [
      "100%|██████████████████████████████████████████████████████████████████████████████████████████████████████████| 352/352 [00:18<00:00, 19.52it/s, loss=2.79]\n",
      "100%|█████████████████████████████████████████████████████████████████████████████████████████████████| 40/40 [00:01<00:00, 28.26it/s, acc=0.901, loss=2.98]\n"
     ]
    },
    {
     "name": "stdout",
     "output_type": "stream",
     "text": [
      "Epoch: 77\n"
     ]
    },
    {
     "name": "stderr",
     "output_type": "stream",
     "text": [
      "100%|██████████████████████████████████████████████████████████████████████████████████████████████████████████| 352/352 [00:17<00:00, 19.58it/s, loss=2.79]\n",
      "100%|█████████████████████████████████████████████████████████████████████████████████████████████████| 40/40 [00:01<00:00, 30.86it/s, acc=0.905, loss=2.93]\n"
     ]
    },
    {
     "name": "stdout",
     "output_type": "stream",
     "text": [
      "Epoch: 78\n"
     ]
    },
    {
     "name": "stderr",
     "output_type": "stream",
     "text": [
      " 64%|████████████████████████████████████████████████████████████████████                                      | 226/352 [00:09<00:06, 20.24it/s, loss=2.81]IOPub message rate exceeded.\n",
      "The notebook server will temporarily stop sending output\n",
      "to the client in order to avoid crashing it.\n",
      "To change this limit, set the config variable\n",
      "`--NotebookApp.iopub_msg_rate_limit`.\n",
      "\n",
      "Current values:\n",
      "NotebookApp.iopub_msg_rate_limit=1000.0 (msgs/sec)\n",
      "NotebookApp.rate_limit_window=3.0 (secs)\n",
      "\n",
      "100%|█████████████████████████████████████████████████████████████████████████████████████████████████| 40/40 [00:01<00:00, 31.11it/s, acc=0.942, loss=2.32]\n"
     ]
    },
    {
     "name": "stdout",
     "output_type": "stream",
     "text": [
      "**Saving checkpoint**\n",
      "Epoch: 85\n"
     ]
    },
    {
     "name": "stderr",
     "output_type": "stream",
     "text": [
      "100%|██████████████████████████████████████████████████████████████████████████████████████████████████████████| 352/352 [00:17<00:00, 20.34it/s, loss=2.22]\n",
      "100%|█████████████████████████████████████████████████████████████████████████████████████████████████| 40/40 [00:01<00:00, 30.57it/s, acc=0.943, loss=2.31]\n"
     ]
    },
    {
     "name": "stdout",
     "output_type": "stream",
     "text": [
      "**Saving checkpoint**\n",
      "Epoch: 86\n"
     ]
    },
    {
     "name": "stderr",
     "output_type": "stream",
     "text": [
      "100%|███████████████████████████████████████████████████████████████████████████████████████████████████████████| 352/352 [00:17<00:00, 19.68it/s, loss=2.2]\n",
      "100%|█████████████████████████████████████████████████████████████████████████████████████████████████| 40/40 [00:01<00:00, 25.35it/s, acc=0.944, loss=2.29]\n"
     ]
    },
    {
     "name": "stdout",
     "output_type": "stream",
     "text": [
      "**Saving checkpoint**\n",
      "Epoch: 87\n"
     ]
    },
    {
     "name": "stderr",
     "output_type": "stream",
     "text": [
      "100%|██████████████████████████████████████████████████████████████████████████████████████████████████████████| 352/352 [00:18<00:00, 19.01it/s, loss=2.18]\n",
      "100%|█████████████████████████████████████████████████████████████████████████████████████████████████| 40/40 [00:01<00:00, 31.94it/s, acc=0.944, loss=2.28]\n"
     ]
    },
    {
     "name": "stdout",
     "output_type": "stream",
     "text": [
      "**Saving checkpoint**\n",
      "Epoch: 88\n"
     ]
    },
    {
     "name": "stderr",
     "output_type": "stream",
     "text": [
      "100%|██████████████████████████████████████████████████████████████████████████████████████████████████████████| 352/352 [00:16<00:00, 20.85it/s, loss=2.16]\n",
      "100%|█████████████████████████████████████████████████████████████████████████████████████████████████| 40/40 [00:01<00:00, 30.77it/s, acc=0.946, loss=2.28]\n"
     ]
    },
    {
     "name": "stdout",
     "output_type": "stream",
     "text": [
      "**Saving checkpoint**\n",
      "Epoch: 89\n"
     ]
    },
    {
     "name": "stderr",
     "output_type": "stream",
     "text": [
      "100%|██████████████████████████████████████████████████████████████████████████████████████████████████████████| 352/352 [00:17<00:00, 20.61it/s, loss=2.15]\n",
      "100%|█████████████████████████████████████████████████████████████████████████████████████████████████| 40/40 [00:01<00:00, 30.05it/s, acc=0.948, loss=2.24]\n"
     ]
    },
    {
     "name": "stdout",
     "output_type": "stream",
     "text": [
      "**Saving checkpoint**\n",
      "Epoch: 90\n"
     ]
    },
    {
     "name": "stderr",
     "output_type": "stream",
     "text": [
      " 53%|████████████████████████████████████████████████████████▌                                                 | 188/352 [00:09<00:08, 19.06it/s, loss=2.13]IOPub message rate exceeded.\n",
      "The notebook server will temporarily stop sending output\n",
      "to the client in order to avoid crashing it.\n",
      "To change this limit, set the config variable\n",
      "`--NotebookApp.iopub_msg_rate_limit`.\n",
      "\n",
      "Current values:\n",
      "NotebookApp.iopub_msg_rate_limit=1000.0 (msgs/sec)\n",
      "NotebookApp.rate_limit_window=3.0 (secs)\n",
      "\n",
      "100%|██████████████████████████████████████████████████████████████████████████████████████████████████████████| 352/352 [00:15<00:00, 22.45it/s, loss=2.12]\n",
      "100%|█████████████████████████████████████████████████████████████████████████████████████████████████| 40/40 [00:01<00:00, 26.94it/s, acc=0.951, loss=2.24]\n"
     ]
    },
    {
     "name": "stdout",
     "output_type": "stream",
     "text": [
      "**Saving checkpoint**\n",
      "Epoch: 93\n"
     ]
    },
    {
     "name": "stderr",
     "output_type": "stream",
     "text": [
      "100%|██████████████████████████████████████████████████████████████████████████████████████████████████████████| 352/352 [00:18<00:00, 19.36it/s, loss=2.12]\n",
      "100%|█████████████████████████████████████████████████████████████████████████████████████████████████| 40/40 [00:01<00:00, 29.36it/s, acc=0.946, loss=2.23]\n"
     ]
    },
    {
     "name": "stdout",
     "output_type": "stream",
     "text": [
      "Epoch: 94\n"
     ]
    },
    {
     "name": "stderr",
     "output_type": "stream",
     "text": [
      "100%|███████████████████████████████████████████████████████████████████████████████████████████████████████████| 352/352 [00:18<00:00, 19.16it/s, loss=2.1]\n",
      "100%|██████████████████████████████████████████████████████████████████████████████████████████████████| 40/40 [00:01<00:00, 29.18it/s, acc=0.95, loss=2.22]\n"
     ]
    },
    {
     "name": "stdout",
     "output_type": "stream",
     "text": [
      "Epoch: 95\n"
     ]
    },
    {
     "name": "stderr",
     "output_type": "stream",
     "text": [
      "100%|███████████████████████████████████████████████████████████████████████████████████████████████████████████| 352/352 [00:18<00:00, 19.00it/s, loss=2.1]\n",
      "100%|██████████████████████████████████████████████████████████████████████████████████████████████████| 40/40 [00:01<00:00, 29.08it/s, acc=0.95, loss=2.23]\n"
     ]
    },
    {
     "name": "stdout",
     "output_type": "stream",
     "text": [
      "Epoch: 96\n"
     ]
    },
    {
     "name": "stderr",
     "output_type": "stream",
     "text": [
      "100%|██████████████████████████████████████████████████████████████████████████████████████████████████████████| 352/352 [00:18<00:00, 19.14it/s, loss=2.09]\n",
      "100%|█████████████████████████████████████████████████████████████████████████████████████████████████| 40/40 [00:01<00:00, 31.22it/s, acc=0.946, loss=2.26]\n"
     ]
    },
    {
     "name": "stdout",
     "output_type": "stream",
     "text": [
      "Epoch: 97\n"
     ]
    },
    {
     "name": "stderr",
     "output_type": "stream",
     "text": [
      "100%|██████████████████████████████████████████████████████████████████████████████████████████████████████████| 352/352 [00:18<00:00, 19.14it/s, loss=2.09]\n",
      "100%|█████████████████████████████████████████████████████████████████████████████████████████████████| 40/40 [00:01<00:00, 27.97it/s, acc=0.949, loss=2.25]\n"
     ]
    },
    {
     "name": "stdout",
     "output_type": "stream",
     "text": [
      "Epoch: 98\n"
     ]
    },
    {
     "name": "stderr",
     "output_type": "stream",
     "text": [
      "100%|██████████████████████████████████████████████████████████████████████████████████████████████████████████| 352/352 [00:18<00:00, 19.32it/s, loss=2.09]\n",
      "100%|█████████████████████████████████████████████████████████████████████████████████████████████████| 40/40 [00:01<00:00, 30.16it/s, acc=0.949, loss=2.24]\n"
     ]
    },
    {
     "name": "stdout",
     "output_type": "stream",
     "text": [
      "Epoch: 99\n"
     ]
    },
    {
     "name": "stderr",
     "output_type": "stream",
     "text": [
      "100%|██████████████████████████████████████████████████████████████████████████████████████████████████████████| 352/352 [00:16<00:00, 20.76it/s, loss=2.08]\n",
      "100%|█████████████████████████████████████████████████████████████████████████████████████████████████| 40/40 [00:01<00:00, 30.12it/s, acc=0.951, loss=2.21]\n"
     ]
    },
    {
     "name": "stdout",
     "output_type": "stream",
     "text": [
      "**Saving checkpoint**\n",
      "Epoch: 100\n"
     ]
    },
    {
     "name": "stderr",
     "output_type": "stream",
     "text": [
      "100%|██████████████████████████████████████████████████████████████████████████████████████████████████████████| 352/352 [00:18<00:00, 19.30it/s, loss=2.08]\n",
      "100%|█████████████████████████████████████████████████████████████████████████████████████████████████| 40/40 [00:01<00:00, 29.30it/s, acc=0.949, loss=2.28]\n"
     ]
    },
    {
     "name": "stdout",
     "output_type": "stream",
     "text": [
      "Epoch: 101\n"
     ]
    },
    {
     "name": "stderr",
     "output_type": "stream",
     "text": [
      "100%|██████████████████████████████████████████████████████████████████████████████████████████████████████████| 352/352 [00:18<00:00, 19.28it/s, loss=2.08]\n",
      "100%|█████████████████████████████████████████████████████████████████████████████████████████████████| 40/40 [00:01<00:00, 31.54it/s, acc=0.945, loss=2.23]\n"
     ]
    },
    {
     "name": "stdout",
     "output_type": "stream",
     "text": [
      "Epoch: 102\n"
     ]
    },
    {
     "name": "stderr",
     "output_type": "stream",
     "text": [
      "100%|██████████████████████████████████████████████████████████████████████████████████████████████████████████| 352/352 [00:17<00:00, 20.62it/s, loss=2.08]\n",
      "100%|██████████████████████████████████████████████████████████████████████████████████████████████████| 40/40 [00:01<00:00, 29.26it/s, acc=0.95, loss=2.23]\n"
     ]
    },
    {
     "name": "stdout",
     "output_type": "stream",
     "text": [
      "Epoch: 103\n"
     ]
    },
    {
     "name": "stderr",
     "output_type": "stream",
     "text": [
      "100%|██████████████████████████████████████████████████████████████████████████████████████████████████████████| 352/352 [00:18<00:00, 19.13it/s, loss=2.07]\n",
      "100%|█████████████████████████████████████████████████████████████████████████████████████████████████| 40/40 [00:01<00:00, 29.28it/s, acc=0.951, loss=2.23]\n"
     ]
    },
    {
     "name": "stdout",
     "output_type": "stream",
     "text": [
      "Epoch: 104\n"
     ]
    },
    {
     "name": "stderr",
     "output_type": "stream",
     "text": [
      "100%|██████████████████████████████████████████████████████████████████████████████████████████████████████████| 352/352 [00:17<00:00, 19.77it/s, loss=2.07]\n",
      "100%|█████████████████████████████████████████████████████████████████████████████████████████████████| 40/40 [00:01<00:00, 30.50it/s, acc=0.945, loss=2.23]\n"
     ]
    },
    {
     "name": "stdout",
     "output_type": "stream",
     "text": [
      "Epoch: 105\n"
     ]
    },
    {
     "name": "stderr",
     "output_type": "stream",
     "text": [
      "100%|██████████████████████████████████████████████████████████████████████████████████████████████████████████| 352/352 [00:15<00:00, 22.88it/s, loss=2.07]\n",
      "100%|█████████████████████████████████████████████████████████████████████████████████████████████████| 40/40 [00:01<00:00, 30.34it/s, acc=0.947, loss=2.24]\n"
     ]
    },
    {
     "name": "stdout",
     "output_type": "stream",
     "text": [
      "Epoch: 106\n"
     ]
    },
    {
     "name": "stderr",
     "output_type": "stream",
     "text": [
      "100%|██████████████████████████████████████████████████████████████████████████████████████████████████████████| 352/352 [00:18<00:00, 19.20it/s, loss=2.07]\n",
      "100%|█████████████████████████████████████████████████████████████████████████████████████████████████| 40/40 [00:01<00:00, 31.04it/s, acc=0.947, loss=2.23]\n"
     ]
    },
    {
     "name": "stdout",
     "output_type": "stream",
     "text": [
      "Epoch: 107\n"
     ]
    },
    {
     "name": "stderr",
     "output_type": "stream",
     "text": [
      "100%|██████████████████████████████████████████████████████████████████████████████████████████████████████████| 352/352 [00:18<00:00, 19.34it/s, loss=2.06]\n",
      "100%|█████████████████████████████████████████████████████████████████████████████████████████████████| 40/40 [00:01<00:00, 30.03it/s, acc=0.953, loss=2.19]\n"
     ]
    },
    {
     "name": "stdout",
     "output_type": "stream",
     "text": [
      "**Saving checkpoint**\n",
      "Epoch: 108\n"
     ]
    },
    {
     "name": "stderr",
     "output_type": "stream",
     "text": [
      "100%|██████████████████████████████████████████████████████████████████████████████████████████████████████████| 352/352 [00:18<00:00, 19.15it/s, loss=2.07]\n",
      "100%|█████████████████████████████████████████████████████████████████████████████████████████████████| 40/40 [00:01<00:00, 28.77it/s, acc=0.946, loss=2.26]\n"
     ]
    },
    {
     "name": "stdout",
     "output_type": "stream",
     "text": [
      "Epoch: 109\n"
     ]
    },
    {
     "name": "stderr",
     "output_type": "stream",
     "text": [
      "100%|██████████████████████████████████████████████████████████████████████████████████████████████████████████| 352/352 [00:18<00:00, 18.91it/s, loss=2.07]\n",
      "100%|██████████████████████████████████████████████████████████████████████████████████████████████████| 40/40 [00:01<00:00, 28.58it/s, acc=0.95, loss=2.24]\n"
     ]
    },
    {
     "name": "stdout",
     "output_type": "stream",
     "text": [
      "Epoch: 110\n"
     ]
    },
    {
     "name": "stderr",
     "output_type": "stream",
     "text": [
      "100%|██████████████████████████████████████████████████████████████████████████████████████████████████████████| 352/352 [00:17<00:00, 20.66it/s, loss=2.07]\n",
      "100%|██████████████████████████████████████████████████████████████████████████████████████████████████| 40/40 [00:01<00:00, 30.08it/s, acc=0.95, loss=2.21]\n"
     ]
    },
    {
     "name": "stdout",
     "output_type": "stream",
     "text": [
      "Epoch: 111\n"
     ]
    },
    {
     "name": "stderr",
     "output_type": "stream",
     "text": [
      "100%|██████████████████████████████████████████████████████████████████████████████████████████████████████████| 352/352 [00:18<00:00, 19.25it/s, loss=2.07]\n",
      "100%|█████████████████████████████████████████████████████████████████████████████████████████████████| 40/40 [00:01<00:00, 30.85it/s, acc=0.947, loss=2.23]\n"
     ]
    },
    {
     "name": "stdout",
     "output_type": "stream",
     "text": [
      "Epoch: 115\n"
     ]
    },
    {
     "name": "stderr",
     "output_type": "stream",
     "text": [
      "100%|██████████████████████████████████████████████████████████████████████████████████████████████████████████| 352/352 [00:18<00:00, 18.61it/s, loss=2.07]\n",
      "100%|█████████████████████████████████████████████████████████████████████████████████████████████████| 40/40 [00:01<00:00, 32.62it/s, acc=0.951, loss=2.21]\n"
     ]
    },
    {
     "name": "stdout",
     "output_type": "stream",
     "text": [
      "Epoch: 116\n"
     ]
    },
    {
     "name": "stderr",
     "output_type": "stream",
     "text": [
      "100%|██████████████████████████████████████████████████████████████████████████████████████████████████████████| 352/352 [00:18<00:00, 18.98it/s, loss=2.08]\n",
      "100%|█████████████████████████████████████████████████████████████████████████████████████████████████| 40/40 [00:01<00:00, 32.01it/s, acc=0.951, loss=2.22]\n"
     ]
    },
    {
     "name": "stdout",
     "output_type": "stream",
     "text": [
      "Epoch: 117\n"
     ]
    },
    {
     "name": "stderr",
     "output_type": "stream",
     "text": [
      "100%|██████████████████████████████████████████████████████████████████████████████████████████████████████████| 352/352 [00:19<00:00, 18.09it/s, loss=2.08]\n",
      "100%|█████████████████████████████████████████████████████████████████████████████████████████████████| 40/40 [00:01<00:00, 31.11it/s, acc=0.948, loss=2.27]\n"
     ]
    },
    {
     "name": "stdout",
     "output_type": "stream",
     "text": [
      "Epoch: 118\n"
     ]
    },
    {
     "name": "stderr",
     "output_type": "stream",
     "text": [
      "100%|██████████████████████████████████████████████████████████████████████████████████████████████████████████| 352/352 [00:17<00:00, 20.13it/s, loss=2.08]\n",
      "100%|██████████████████████████████████████████████████████████████████████████████████████████████████| 40/40 [00:01<00:00, 32.19it/s, acc=0.95, loss=2.26]\n"
     ]
    },
    {
     "name": "stdout",
     "output_type": "stream",
     "text": [
      "Epoch: 119\n"
     ]
    },
    {
     "name": "stderr",
     "output_type": "stream",
     "text": [
      " 62%|██████████████████████████████████████████████████████████████████▎                                       | 220/352 [00:10<00:06, 20.78it/s, loss=2.07]IOPub message rate exceeded.\n",
      "The notebook server will temporarily stop sending output\n",
      "to the client in order to avoid crashing it.\n",
      "To change this limit, set the config variable\n",
      "`--NotebookApp.iopub_msg_rate_limit`.\n",
      "\n",
      "Current values:\n",
      "NotebookApp.iopub_msg_rate_limit=1000.0 (msgs/sec)\n",
      "NotebookApp.rate_limit_window=3.0 (secs)\n",
      "\n",
      "100%|██████████████████████████████████████████████████████████████████████████████████████████████████████████| 352/352 [00:18<00:00, 19.30it/s, loss=2.08]\n",
      "100%|█████████████████████████████████████████████████████████████████████████████████████████████████| 40/40 [00:01<00:00, 27.74it/s, acc=0.945, loss=2.31]\n"
     ]
    },
    {
     "name": "stdout",
     "output_type": "stream",
     "text": [
      "Epoch: 122\n"
     ]
    },
    {
     "name": "stderr",
     "output_type": "stream",
     "text": [
      "100%|██████████████████████████████████████████████████████████████████████████████████████████████████████████| 352/352 [00:18<00:00, 19.17it/s, loss=2.08]\n",
      "100%|█████████████████████████████████████████████████████████████████████████████████████████████████| 40/40 [00:01<00:00, 29.20it/s, acc=0.947, loss=2.27]\n"
     ]
    },
    {
     "name": "stdout",
     "output_type": "stream",
     "text": [
      "Epoch: 123\n"
     ]
    },
    {
     "name": "stderr",
     "output_type": "stream",
     "text": [
      "100%|██████████████████████████████████████████████████████████████████████████████████████████████████████████| 352/352 [00:18<00:00, 18.96it/s, loss=2.08]\n",
      "100%|█████████████████████████████████████████████████████████████████████████████████████████████████| 40/40 [00:01<00:00, 30.53it/s, acc=0.948, loss=2.29]\n"
     ]
    },
    {
     "name": "stdout",
     "output_type": "stream",
     "text": [
      "Epoch: 124\n"
     ]
    },
    {
     "name": "stderr",
     "output_type": "stream",
     "text": [
      "100%|██████████████████████████████████████████████████████████████████████████████████████████████████████████| 352/352 [00:18<00:00, 18.95it/s, loss=1.97]\n",
      "100%|█████████████████████████████████████████████████████████████████████████████████████████████████| 40/40 [00:01<00:00, 29.97it/s, acc=0.956, loss=2.11]\n"
     ]
    },
    {
     "name": "stdout",
     "output_type": "stream",
     "text": [
      "**Saving checkpoint**\n",
      "Epoch: 125\n"
     ]
    },
    {
     "name": "stderr",
     "output_type": "stream",
     "text": [
      "100%|██████████████████████████████████████████████████████████████████████████████████████████████████████████| 352/352 [00:18<00:00, 18.94it/s, loss=1.94]\n",
      "100%|██████████████████████████████████████████████████████████████████████████████████████████████████| 40/40 [00:01<00:00, 30.95it/s, acc=0.957, loss=2.1]\n"
     ]
    },
    {
     "name": "stdout",
     "output_type": "stream",
     "text": [
      "**Saving checkpoint**\n",
      "Epoch: 126\n"
     ]
    },
    {
     "name": "stderr",
     "output_type": "stream",
     "text": [
      "100%|██████████████████████████████████████████████████████████████████████████████████████████████████████████| 352/352 [00:18<00:00, 19.29it/s, loss=1.94]\n",
      "100%|█████████████████████████████████████████████████████████████████████████████████████████████████| 40/40 [00:01<00:00, 28.98it/s, acc=0.957, loss=2.09]\n"
     ]
    },
    {
     "name": "stdout",
     "output_type": "stream",
     "text": [
      "Epoch: 127\n"
     ]
    },
    {
     "name": "stderr",
     "output_type": "stream",
     "text": [
      "100%|██████████████████████████████████████████████████████████████████████████████████████████████████████████| 352/352 [00:18<00:00, 19.50it/s, loss=1.93]\n",
      "100%|█████████████████████████████████████████████████████████████████████████████████████████████████| 40/40 [00:01<00:00, 29.64it/s, acc=0.957, loss=2.09]\n"
     ]
    },
    {
     "name": "stdout",
     "output_type": "stream",
     "text": [
      "Epoch: 128\n"
     ]
    },
    {
     "name": "stderr",
     "output_type": "stream",
     "text": [
      "100%|██████████████████████████████████████████████████████████████████████████████████████████████████████████| 352/352 [00:18<00:00, 19.29it/s, loss=1.92]\n",
      "100%|██████████████████████████████████████████████████████████████████████████████████████████████████| 40/40 [00:01<00:00, 30.25it/s, acc=0.957, loss=2.1]\n"
     ]
    },
    {
     "name": "stdout",
     "output_type": "stream",
     "text": [
      "Epoch: 129\n"
     ]
    },
    {
     "name": "stderr",
     "output_type": "stream",
     "text": [
      "100%|██████████████████████████████████████████████████████████████████████████████████████████████████████████| 352/352 [00:18<00:00, 19.36it/s, loss=1.92]\n",
      "100%|█████████████████████████████████████████████████████████████████████████████████████████████████| 40/40 [00:01<00:00, 30.60it/s, acc=0.959, loss=2.08]\n"
     ]
    },
    {
     "name": "stdout",
     "output_type": "stream",
     "text": [
      "**Saving checkpoint**\n",
      "Epoch: 130\n"
     ]
    },
    {
     "name": "stderr",
     "output_type": "stream",
     "text": [
      "100%|██████████████████████████████████████████████████████████████████████████████████████████████████████████| 352/352 [00:18<00:00, 19.11it/s, loss=1.92]\n",
      "100%|█████████████████████████████████████████████████████████████████████████████████████████████████| 40/40 [00:01<00:00, 31.45it/s, acc=0.958, loss=2.11]\n"
     ]
    },
    {
     "name": "stdout",
     "output_type": "stream",
     "text": [
      "Epoch: 131\n"
     ]
    },
    {
     "name": "stderr",
     "output_type": "stream",
     "text": [
      "100%|██████████████████████████████████████████████████████████████████████████████████████████████████████████| 352/352 [00:16<00:00, 20.79it/s, loss=1.92]\n",
      "100%|█████████████████████████████████████████████████████████████████████████████████████████████████| 40/40 [00:01<00:00, 30.68it/s, acc=0.958, loss=2.09]\n"
     ]
    },
    {
     "name": "stdout",
     "output_type": "stream",
     "text": [
      "Epoch: 132\n"
     ]
    },
    {
     "name": "stderr",
     "output_type": "stream",
     "text": [
      "100%|██████████████████████████████████████████████████████████████████████████████████████████████████████████| 352/352 [00:17<00:00, 20.35it/s, loss=1.92]\n",
      "100%|█████████████████████████████████████████████████████████████████████████████████████████████████| 40/40 [00:01<00:00, 27.37it/s, acc=0.957, loss=2.09]\n"
     ]
    },
    {
     "name": "stdout",
     "output_type": "stream",
     "text": [
      "Epoch: 133\n"
     ]
    },
    {
     "name": "stderr",
     "output_type": "stream",
     "text": [
      "100%|██████████████████████████████████████████████████████████████████████████████████████████████████████████| 352/352 [00:18<00:00, 19.28it/s, loss=1.91]\n",
      "100%|█████████████████████████████████████████████████████████████████████████████████████████████████| 40/40 [00:01<00:00, 31.96it/s, acc=0.957, loss=2.08]\n"
     ]
    },
    {
     "name": "stdout",
     "output_type": "stream",
     "text": [
      "Epoch: 134\n"
     ]
    },
    {
     "name": "stderr",
     "output_type": "stream",
     "text": [
      "100%|██████████████████████████████████████████████████████████████████████████████████████████████████████████| 352/352 [00:18<00:00, 19.47it/s, loss=1.91]\n",
      "100%|█████████████████████████████████████████████████████████████████████████████████████████████████| 40/40 [00:01<00:00, 29.68it/s, acc=0.956, loss=2.08]\n"
     ]
    },
    {
     "name": "stdout",
     "output_type": "stream",
     "text": [
      "Epoch: 135\n"
     ]
    },
    {
     "name": "stderr",
     "output_type": "stream",
     "text": [
      "100%|██████████████████████████████████████████████████████████████████████████████████████████████████████████| 352/352 [00:17<00:00, 20.28it/s, loss=1.91]\n",
      "100%|█████████████████████████████████████████████████████████████████████████████████████████████████| 40/40 [00:01<00:00, 31.41it/s, acc=0.959, loss=2.09]\n"
     ]
    },
    {
     "name": "stdout",
     "output_type": "stream",
     "text": [
      "Epoch: 136\n"
     ]
    },
    {
     "name": "stderr",
     "output_type": "stream",
     "text": [
      "100%|██████████████████████████████████████████████████████████████████████████████████████████████████████████| 352/352 [00:18<00:00, 19.42it/s, loss=1.91]\n",
      "100%|█████████████████████████████████████████████████████████████████████████████████████████████████| 40/40 [00:01<00:00, 28.63it/s, acc=0.959, loss=2.09]\n"
     ]
    },
    {
     "name": "stdout",
     "output_type": "stream",
     "text": [
      "Epoch: 137\n"
     ]
    },
    {
     "name": "stderr",
     "output_type": "stream",
     "text": [
      "100%|██████████████████████████████████████████████████████████████████████████████████████████████████████████| 352/352 [00:18<00:00, 19.54it/s, loss=1.91]\n",
      "100%|█████████████████████████████████████████████████████████████████████████████████████████████████| 40/40 [00:01<00:00, 32.11it/s, acc=0.956, loss=2.08]\n"
     ]
    },
    {
     "name": "stdout",
     "output_type": "stream",
     "text": [
      "Epoch: 138\n"
     ]
    },
    {
     "name": "stderr",
     "output_type": "stream",
     "text": [
      "100%|██████████████████████████████████████████████████████████████████████████████████████████████████████████| 352/352 [00:18<00:00, 19.50it/s, loss=1.91]\n",
      "100%|█████████████████████████████████████████████████████████████████████████████████████████████████| 40/40 [00:01<00:00, 28.27it/s, acc=0.959, loss=2.09]\n"
     ]
    },
    {
     "name": "stdout",
     "output_type": "stream",
     "text": [
      "Epoch: 139\n"
     ]
    },
    {
     "name": "stderr",
     "output_type": "stream",
     "text": [
      "100%|██████████████████████████████████████████████████████████████████████████████████████████████████████████| 352/352 [00:18<00:00, 19.25it/s, loss=1.91]\n",
      "100%|█████████████████████████████████████████████████████████████████████████████████████████████████| 40/40 [00:01<00:00, 31.70it/s, acc=0.959, loss=2.07]\n"
     ]
    },
    {
     "name": "stdout",
     "output_type": "stream",
     "text": [
      "Epoch: 140\n"
     ]
    },
    {
     "name": "stderr",
     "output_type": "stream",
     "text": [
      "100%|███████████████████████████████████████████████████████████████████████████████████████████████████████████| 352/352 [00:17<00:00, 19.73it/s, loss=1.9]\n",
      "100%|██████████████████████████████████████████████████████████████████████████████████████████████████| 40/40 [00:01<00:00, 30.65it/s, acc=0.959, loss=2.1]\n"
     ]
    },
    {
     "name": "stdout",
     "output_type": "stream",
     "text": [
      "Epoch: 141\n"
     ]
    },
    {
     "name": "stderr",
     "output_type": "stream",
     "text": [
      "100%|███████████████████████████████████████████████████████████████████████████████████████████████████████████| 352/352 [00:18<00:00, 19.07it/s, loss=1.9]\n",
      "100%|█████████████████████████████████████████████████████████████████████████████████████████████████| 40/40 [00:01<00:00, 30.99it/s, acc=0.959, loss=2.07]\n"
     ]
    },
    {
     "name": "stdout",
     "output_type": "stream",
     "text": [
      "Epoch: 142\n"
     ]
    },
    {
     "name": "stderr",
     "output_type": "stream",
     "text": [
      "100%|███████████████████████████████████████████████████████████████████████████████████████████████████████████| 352/352 [00:18<00:00, 19.38it/s, loss=1.9]\n",
      "100%|█████████████████████████████████████████████████████████████████████████████████████████████████| 40/40 [00:01<00:00, 30.56it/s, acc=0.956, loss=2.08]\n"
     ]
    },
    {
     "name": "stdout",
     "output_type": "stream",
     "text": [
      "Epoch: 143\n"
     ]
    },
    {
     "name": "stderr",
     "output_type": "stream",
     "text": [
      "100%|██████████████████████████████████████████████████████████████████████████████████████████████████████████| 352/352 [00:16<00:00, 21.49it/s, loss=1.91]\n",
      "100%|██████████████████████████████████████████████████████████████████████████████████████████████████| 40/40 [00:01<00:00, 30.85it/s, acc=0.958, loss=2.1]\n"
     ]
    },
    {
     "name": "stdout",
     "output_type": "stream",
     "text": [
      "Epoch: 144\n"
     ]
    },
    {
     "name": "stderr",
     "output_type": "stream",
     "text": [
      "100%|███████████████████████████████████████████████████████████████████████████████████████████████████████████| 352/352 [00:17<00:00, 20.17it/s, loss=1.9]\n",
      "100%|█████████████████████████████████████████████████████████████████████████████████████████████████| 40/40 [00:01<00:00, 30.33it/s, acc=0.959, loss=2.07]\n"
     ]
    },
    {
     "name": "stdout",
     "output_type": "stream",
     "text": [
      "Epoch: 145\n"
     ]
    },
    {
     "name": "stderr",
     "output_type": "stream",
     "text": [
      "100%|███████████████████████████████████████████████████████████████████████████████████████████████████████████| 352/352 [00:18<00:00, 18.99it/s, loss=1.9]\n",
      "100%|█████████████████████████████████████████████████████████████████████████████████████████████████| 40/40 [00:01<00:00, 25.07it/s, acc=0.958, loss=2.08]\n"
     ]
    },
    {
     "name": "stdout",
     "output_type": "stream",
     "text": [
      "Epoch: 146\n"
     ]
    },
    {
     "name": "stderr",
     "output_type": "stream",
     "text": [
      "100%|███████████████████████████████████████████████████████████████████████████████████████████████████████████| 352/352 [00:18<00:00, 18.92it/s, loss=1.9]\n",
      "100%|█████████████████████████████████████████████████████████████████████████████████████████████████| 40/40 [00:01<00:00, 28.56it/s, acc=0.958, loss=2.06]\n"
     ]
    },
    {
     "name": "stdout",
     "output_type": "stream",
     "text": [
      "Epoch: 147\n"
     ]
    },
    {
     "name": "stderr",
     "output_type": "stream",
     "text": [
      "100%|██████████████████████████████████████████████████████████████████████████████████████████████████████████| 352/352 [00:18<00:00, 19.00it/s, loss=1.91]\n",
      "100%|█████████████████████████████████████████████████████████████████████████████████████████████████| 40/40 [00:01<00:00, 30.67it/s, acc=0.958, loss=2.07]\n"
     ]
    },
    {
     "name": "stdout",
     "output_type": "stream",
     "text": [
      "Epoch: 148\n"
     ]
    },
    {
     "name": "stderr",
     "output_type": "stream",
     "text": [
      "100%|███████████████████████████████████████████████████████████████████████████████████████████████████████████| 352/352 [00:18<00:00, 19.38it/s, loss=1.9]\n",
      "100%|█████████████████████████████████████████████████████████████████████████████████████████████████| 40/40 [00:01<00:00, 31.84it/s, acc=0.958, loss=2.06]\n"
     ]
    },
    {
     "name": "stdout",
     "output_type": "stream",
     "text": [
      "Epoch: 149\n"
     ]
    },
    {
     "name": "stderr",
     "output_type": "stream",
     "text": [
      "100%|███████████████████████████████████████████████████████████████████████████████████████████████████████████| 352/352 [00:18<00:00, 19.05it/s, loss=1.9]\n",
      "100%|█████████████████████████████████████████████████████████████████████████████████████████████████| 40/40 [00:01<00:00, 30.06it/s, acc=0.958, loss=2.08]\n"
     ]
    },
    {
     "name": "stdout",
     "output_type": "stream",
     "text": [
      "Epoch: 150\n"
     ]
    },
    {
     "name": "stderr",
     "output_type": "stream",
     "text": [
      "100%|██████████████████████████████████████████████████████████████████████████████████████████████████████████| 352/352 [00:18<00:00, 19.47it/s, loss=1.89]\n",
      "100%|██████████████████████████████████████████████████████████████████████████████████████████████████| 40/40 [00:01<00:00, 30.67it/s, acc=0.96, loss=2.06]\n"
     ]
    },
    {
     "name": "stdout",
     "output_type": "stream",
     "text": [
      "**Saving checkpoint**\n",
      "Epoch: 151\n"
     ]
    },
    {
     "name": "stderr",
     "output_type": "stream",
     "text": [
      "100%|███████████████████████████████████████████████████████████████████████████████████████████████████████████| 352/352 [00:18<00:00, 18.99it/s, loss=1.9]\n",
      "100%|██████████████████████████████████████████████████████████████████████████████████████████████████| 40/40 [00:01<00:00, 29.17it/s, acc=0.96, loss=2.06]\n"
     ]
    },
    {
     "name": "stdout",
     "output_type": "stream",
     "text": [
      "Epoch: 152\n"
     ]
    },
    {
     "name": "stderr",
     "output_type": "stream",
     "text": [
      "100%|██████████████████████████████████████████████████████████████████████████████████████████████████████████| 352/352 [00:18<00:00, 18.98it/s, loss=1.89]\n",
      "100%|█████████████████████████████████████████████████████████████████████████████████████████████████| 40/40 [00:01<00:00, 30.00it/s, acc=0.959, loss=2.06]\n"
     ]
    },
    {
     "name": "stdout",
     "output_type": "stream",
     "text": [
      "Epoch: 153\n"
     ]
    },
    {
     "name": "stderr",
     "output_type": "stream",
     "text": [
      "100%|██████████████████████████████████████████████████████████████████████████████████████████████████████████| 352/352 [00:18<00:00, 19.07it/s, loss=1.89]\n",
      "100%|█████████████████████████████████████████████████████████████████████████████████████████████████| 40/40 [00:01<00:00, 30.62it/s, acc=0.958, loss=2.06]\n"
     ]
    },
    {
     "name": "stdout",
     "output_type": "stream",
     "text": [
      "Epoch: 154\n"
     ]
    },
    {
     "name": "stderr",
     "output_type": "stream",
     "text": [
      "100%|██████████████████████████████████████████████████████████████████████████████████████████████████████████| 352/352 [00:18<00:00, 18.98it/s, loss=1.89]\n",
      "100%|█████████████████████████████████████████████████████████████████████████████████████████████████| 40/40 [00:01<00:00, 29.63it/s, acc=0.959, loss=2.06]\n"
     ]
    },
    {
     "name": "stdout",
     "output_type": "stream",
     "text": [
      "Epoch: 155\n"
     ]
    },
    {
     "name": "stderr",
     "output_type": "stream",
     "text": [
      "100%|██████████████████████████████████████████████████████████████████████████████████████████████████████████| 352/352 [00:18<00:00, 19.44it/s, loss=1.89]\n",
      "100%|█████████████████████████████████████████████████████████████████████████████████████████████████| 40/40 [00:01<00:00, 32.15it/s, acc=0.958, loss=2.06]\n"
     ]
    },
    {
     "name": "stdout",
     "output_type": "stream",
     "text": [
      "Epoch: 156\n"
     ]
    },
    {
     "name": "stderr",
     "output_type": "stream",
     "text": [
      "100%|███████████████████████████████████████████████████████████████████████████████████████████████████████████| 352/352 [00:18<00:00, 18.95it/s, loss=1.9]\n",
      "100%|█████████████████████████████████████████████████████████████████████████████████████████████████| 40/40 [00:01<00:00, 27.08it/s, acc=0.958, loss=2.07]\n"
     ]
    },
    {
     "name": "stdout",
     "output_type": "stream",
     "text": [
      "Epoch: 157\n"
     ]
    },
    {
     "name": "stderr",
     "output_type": "stream",
     "text": [
      "100%|██████████████████████████████████████████████████████████████████████████████████████████████████████████| 352/352 [00:18<00:00, 19.26it/s, loss=1.89]\n",
      "100%|█████████████████████████████████████████████████████████████████████████████████████████████████| 40/40 [00:01<00:00, 29.67it/s, acc=0.958, loss=2.06]\n"
     ]
    },
    {
     "name": "stdout",
     "output_type": "stream",
     "text": [
      "Epoch: 158\n"
     ]
    },
    {
     "name": "stderr",
     "output_type": "stream",
     "text": [
      "100%|██████████████████████████████████████████████████████████████████████████████████████████████████████████| 352/352 [00:15<00:00, 22.03it/s, loss=1.89]\n",
      "100%|█████████████████████████████████████████████████████████████████████████████████████████████████| 40/40 [00:01<00:00, 30.66it/s, acc=0.958, loss=2.08]\n"
     ]
    },
    {
     "name": "stdout",
     "output_type": "stream",
     "text": [
      "Epoch: 159\n"
     ]
    },
    {
     "name": "stderr",
     "output_type": "stream",
     "text": [
      "100%|██████████████████████████████████████████████████████████████████████████████████████████████████████████| 352/352 [00:17<00:00, 19.68it/s, loss=1.89]\n",
      "100%|█████████████████████████████████████████████████████████████████████████████████████████████████| 40/40 [00:01<00:00, 32.08it/s, acc=0.958, loss=2.06]\n"
     ]
    },
    {
     "name": "stdout",
     "output_type": "stream",
     "text": [
      "Epoch: 160\n"
     ]
    },
    {
     "name": "stderr",
     "output_type": "stream",
     "text": [
      "100%|██████████████████████████████████████████████████████████████████████████████████████████████████████████| 352/352 [00:18<00:00, 19.22it/s, loss=1.89]\n",
      "100%|█████████████████████████████████████████████████████████████████████████████████████████████████| 40/40 [00:01<00:00, 29.65it/s, acc=0.959, loss=2.05]\n"
     ]
    },
    {
     "name": "stdout",
     "output_type": "stream",
     "text": [
      "Epoch: 161\n"
     ]
    },
    {
     "name": "stderr",
     "output_type": "stream",
     "text": [
      "100%|██████████████████████████████████████████████████████████████████████████████████████████████████████████| 352/352 [00:18<00:00, 18.81it/s, loss=1.89]\n",
      "100%|█████████████████████████████████████████████████████████████████████████████████████████████████| 40/40 [00:01<00:00, 27.40it/s, acc=0.958, loss=2.06]\n"
     ]
    },
    {
     "name": "stdout",
     "output_type": "stream",
     "text": [
      "Epoch: 162\n"
     ]
    },
    {
     "name": "stderr",
     "output_type": "stream",
     "text": [
      "100%|██████████████████████████████████████████████████████████████████████████████████████████████████████████| 352/352 [00:18<00:00, 18.91it/s, loss=1.89]\n",
      "100%|█████████████████████████████████████████████████████████████████████████████████████████████████| 40/40 [00:01<00:00, 29.70it/s, acc=0.959, loss=2.07]\n"
     ]
    },
    {
     "name": "stdout",
     "output_type": "stream",
     "text": [
      "Epoch: 163\n"
     ]
    },
    {
     "name": "stderr",
     "output_type": "stream",
     "text": [
      "100%|██████████████████████████████████████████████████████████████████████████████████████████████████████████| 352/352 [00:18<00:00, 19.12it/s, loss=1.89]\n",
      "100%|█████████████████████████████████████████████████████████████████████████████████████████████████| 40/40 [00:01<00:00, 32.11it/s, acc=0.958, loss=2.07]\n"
     ]
    }
   ],
   "source": [
    "box.compress_model()"
   ]
  },
  {
   "cell_type": "code",
   "execution_count": 15,
   "metadata": {},
   "outputs": [],
   "source": [
    "torch.save(student_model.state_dict(), \"./checkpoints/ft_resnet20_last.pth\")"
   ]
  },
  {
   "cell_type": "code",
   "execution_count": 18,
   "metadata": {
    "colab": {
     "base_uri": "https://localhost:8080/"
    },
    "id": "_-5DKHX-ocQz",
    "outputId": "b9211666-90bc-4e58-ac66-6af476a278a5",
    "scrolled": true
   },
   "outputs": [
    {
     "data": {
      "text/plain": [
       "<All keys matched successfully>"
      ]
     },
     "execution_count": 18,
     "metadata": {},
     "output_type": "execute_result"
    }
   ],
   "source": [
    "student_model.load_state_dict(torch.load('./checkpoints/ft_resnet20.pth')['state_dict'])"
   ]
  },
  {
   "cell_type": "code",
   "execution_count": 19,
   "metadata": {
    "colab": {
     "base_uri": "https://localhost:8080/"
    },
    "id": "a4NXQozDnjLQ",
    "outputId": "1af1da7f-7710-4517-ed15-157ccb38192a"
   },
   "outputs": [
    {
     "name": "stderr",
     "output_type": "stream",
     "text": [
      "100%|███████████████████████████████████████████████████████████████████████████████████████████████████████████████████████| 79/79 [00:01<00:00, 52.73it/s]\n"
     ]
    }
   ],
   "source": [
    "preds = []\n",
    "valid_labels = []\n",
    "student_model.eval()\n",
    "# Run the best model on test set\n",
    "for step, (images, labels) in tqdm(enumerate(test_loader), total = len(test_loader)):\n",
    "\n",
    "    images = images.to(device, dtype=torch.float)\n",
    "    labels = labels.to(device)\n",
    "    batch_size = labels.size(0)\n",
    "\n",
    "    with torch.no_grad():\n",
    "        y_preds = student_model(images)\n",
    "        \n",
    "    preds.append(y_preds.softmax(1).to('cpu').numpy())\n",
    "    valid_labels.append(labels.to('cpu').numpy())\n",
    "\n",
    "predictions = np.concatenate(preds)\n",
    "valid_labels = np.concatenate(valid_labels)\n",
    "\n",
    "# Get the score\n",
    "score = accuracy_score(valid_labels, predictions.argmax(1))"
   ]
  },
  {
   "cell_type": "code",
   "execution_count": 20,
   "metadata": {},
   "outputs": [
    {
     "data": {
      "text/plain": [
       "0.931"
      ]
     },
     "execution_count": 20,
     "metadata": {},
     "output_type": "execute_result"
    }
   ],
   "source": [
    "score"
   ]
  },
  {
   "cell_type": "code",
   "execution_count": null,
   "metadata": {},
   "outputs": [],
   "source": []
  }
 ],
 "metadata": {
  "accelerator": "GPU",
  "colab": {
   "collapsed_sections": [],
   "name": "test.ipynb",
   "provenance": []
  },
  "gpuClass": "standard",
  "kernelspec": {
   "display_name": "Python 3 (ipykernel)",
   "language": "python",
   "name": "python3"
  },
  "language_info": {
   "codemirror_mode": {
    "name": "ipython",
    "version": 3
   },
   "file_extension": ".py",
   "mimetype": "text/x-python",
   "name": "python",
   "nbconvert_exporter": "python",
   "pygments_lexer": "ipython3",
   "version": "3.8.10"
  },
  "vscode": {
   "interpreter": {
    "hash": "c20c3092c0956f53c057234954b0e6e2beb63c056f97db512353abbe859d97b3"
   }
  }
 },
 "nbformat": 4,
 "nbformat_minor": 1
}
